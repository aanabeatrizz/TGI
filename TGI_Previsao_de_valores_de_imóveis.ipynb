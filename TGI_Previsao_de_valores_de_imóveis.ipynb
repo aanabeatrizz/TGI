{
  "cells": [
    {
      "cell_type": "markdown",
      "metadata": {
        "id": "qalGLHjTQSLt"
      },
      "source": [
        "# Base de Dados\n"
      ]
    },
    {
      "cell_type": "code",
      "execution_count": 159,
      "metadata": {
        "id": "mYqAZNFpQZ0i"
      },
      "outputs": [],
      "source": [
        "#importação de bibliotecas;\n",
        "import pandas as pd\n",
        "import seaborn as sns\n",
        "import numpy as np\n",
        "import matplotlib.pyplot as plt"
      ]
    },
    {
      "cell_type": "code",
      "execution_count": 160,
      "metadata": {
        "colab": {
          "base_uri": "https://localhost:8080/",
          "height": 206
        },
        "id": "h42jb-qIQgqt",
        "outputId": "3c951be7-5b3f-4a1a-84ab-288065e9a34c"
      },
      "outputs": [
        {
          "data": {
            "text/html": [
              "<div>\n",
              "<style scoped>\n",
              "    .dataframe tbody tr th:only-of-type {\n",
              "        vertical-align: middle;\n",
              "    }\n",
              "\n",
              "    .dataframe tbody tr th {\n",
              "        vertical-align: top;\n",
              "    }\n",
              "\n",
              "    .dataframe thead th {\n",
              "        text-align: right;\n",
              "    }\n",
              "</style>\n",
              "<table border=\"1\" class=\"dataframe\">\n",
              "  <thead>\n",
              "    <tr style=\"text-align: right;\">\n",
              "      <th></th>\n",
              "      <th>CRIM</th>\n",
              "      <th>ZN</th>\n",
              "      <th>INDUS</th>\n",
              "      <th>CHAS</th>\n",
              "      <th>NOX</th>\n",
              "      <th>RM</th>\n",
              "      <th>AGE</th>\n",
              "      <th>DIS</th>\n",
              "      <th>RAD</th>\n",
              "      <th>TAX</th>\n",
              "      <th>PTRATIO</th>\n",
              "      <th>B</th>\n",
              "      <th>LSTAT</th>\n",
              "      <th>MEDV</th>\n",
              "    </tr>\n",
              "  </thead>\n",
              "  <tbody>\n",
              "    <tr>\n",
              "      <th>0</th>\n",
              "      <td>0.00632</td>\n",
              "      <td>18.0</td>\n",
              "      <td>2.31</td>\n",
              "      <td>0</td>\n",
              "      <td>0.538</td>\n",
              "      <td>6.575</td>\n",
              "      <td>65.2</td>\n",
              "      <td>4.0900</td>\n",
              "      <td>1</td>\n",
              "      <td>296</td>\n",
              "      <td>15.3</td>\n",
              "      <td>396.90</td>\n",
              "      <td>4.98</td>\n",
              "      <td>24.0</td>\n",
              "    </tr>\n",
              "    <tr>\n",
              "      <th>1</th>\n",
              "      <td>0.02731</td>\n",
              "      <td>0.0</td>\n",
              "      <td>7.07</td>\n",
              "      <td>0</td>\n",
              "      <td>0.469</td>\n",
              "      <td>6.421</td>\n",
              "      <td>78.9</td>\n",
              "      <td>4.9671</td>\n",
              "      <td>2</td>\n",
              "      <td>242</td>\n",
              "      <td>17.8</td>\n",
              "      <td>396.90</td>\n",
              "      <td>9.14</td>\n",
              "      <td>21.6</td>\n",
              "    </tr>\n",
              "    <tr>\n",
              "      <th>2</th>\n",
              "      <td>0.02729</td>\n",
              "      <td>0.0</td>\n",
              "      <td>7.07</td>\n",
              "      <td>0</td>\n",
              "      <td>0.469</td>\n",
              "      <td>7.185</td>\n",
              "      <td>61.1</td>\n",
              "      <td>4.9671</td>\n",
              "      <td>2</td>\n",
              "      <td>242</td>\n",
              "      <td>17.8</td>\n",
              "      <td>392.83</td>\n",
              "      <td>4.03</td>\n",
              "      <td>34.7</td>\n",
              "    </tr>\n",
              "    <tr>\n",
              "      <th>3</th>\n",
              "      <td>0.03237</td>\n",
              "      <td>0.0</td>\n",
              "      <td>2.18</td>\n",
              "      <td>0</td>\n",
              "      <td>0.458</td>\n",
              "      <td>6.998</td>\n",
              "      <td>45.8</td>\n",
              "      <td>6.0622</td>\n",
              "      <td>3</td>\n",
              "      <td>222</td>\n",
              "      <td>18.7</td>\n",
              "      <td>394.63</td>\n",
              "      <td>2.94</td>\n",
              "      <td>33.4</td>\n",
              "    </tr>\n",
              "    <tr>\n",
              "      <th>4</th>\n",
              "      <td>0.06905</td>\n",
              "      <td>0.0</td>\n",
              "      <td>2.18</td>\n",
              "      <td>0</td>\n",
              "      <td>0.458</td>\n",
              "      <td>7.147</td>\n",
              "      <td>54.2</td>\n",
              "      <td>6.0622</td>\n",
              "      <td>3</td>\n",
              "      <td>222</td>\n",
              "      <td>18.7</td>\n",
              "      <td>396.90</td>\n",
              "      <td>5.33</td>\n",
              "      <td>36.2</td>\n",
              "    </tr>\n",
              "  </tbody>\n",
              "</table>\n",
              "</div>"
            ],
            "text/plain": [
              "      CRIM    ZN  INDUS  CHAS    NOX     RM   AGE     DIS  RAD  TAX  PTRATIO  \\\n",
              "0  0.00632  18.0   2.31     0  0.538  6.575  65.2  4.0900    1  296     15.3   \n",
              "1  0.02731   0.0   7.07     0  0.469  6.421  78.9  4.9671    2  242     17.8   \n",
              "2  0.02729   0.0   7.07     0  0.469  7.185  61.1  4.9671    2  242     17.8   \n",
              "3  0.03237   0.0   2.18     0  0.458  6.998  45.8  6.0622    3  222     18.7   \n",
              "4  0.06905   0.0   2.18     0  0.458  7.147  54.2  6.0622    3  222     18.7   \n",
              "\n",
              "        B  LSTAT  MEDV  \n",
              "0  396.90   4.98  24.0  \n",
              "1  396.90   9.14  21.6  \n",
              "2  392.83   4.03  34.7  \n",
              "3  394.63   2.94  33.4  \n",
              "4  396.90   5.33  36.2  "
            ]
          },
          "execution_count": 160,
          "metadata": {},
          "output_type": "execute_result"
        }
      ],
      "source": [
        "#Carregando o dataset que será usado para a análise;\n",
        "url = \"https://raw.githubusercontent.com/aanabeatrizz/TGI/main/boston_house_prices.csv\"\n",
        "boston = pd.read_csv(url, sep='\\t', encoding='utf-8')\n",
        "boston = pd.read_csv(url, sep=',', encoding='utf-8')\n",
        "boston.head()"
      ]
    },
    {
      "cell_type": "code",
      "execution_count": 161,
      "metadata": {
        "id": "NoQuntoJUOhk"
      },
      "outputs": [],
      "source": [
        "#Descrição da base de dados: `boston`, aqui podemos ver algumas características da base, tais como:\n",
        "# número de registros\n",
        "# números de atributos\n",
        "# informações sobre esses atributos\n",
        "# e referências\n",
        "\n",
        "#Boston house prices dataset\n",
        "#Características do conjunto de dados:\n",
        "\n",
        "    #Número de instâncias: 506\n",
        "    #Número de atributos: 13 preditivos numéricos/categóricos. O valor mediano (atributo 14) geralmente é o alvo.\n",
        "\n",
        "    #Informações do Atributo (em ordem):\n",
        "        #- CRIM     taxa de criminalidade per capita por cidade;\n",
        "        #- ZN       proporção de terrenos residenciais zoneados para lotes com mais de 25.000 pés quadrados.\n",
        "        #- INDUS    proporção de acres comerciais não varejistas por cidade\n",
        "        #- CHAS     Variável dummy Charles River (= 1 se o trato limita o rio; 0 caso contrário)\n",
        "        #- NOX      concentração de óxidos nítricos (partes por 10 milhões)\n",
        "        #- RM       número médio de quartos por habitação\n",
        "        #- AGE      proporção de unidades ocupadas pelos proprietários construídas antes de 1940\n",
        "        #- DIS      distâncias ponderadas para cinco centros de emprego de Boston\n",
        "        #- RAD      índice de acessibilidade às rodovias radiaisopried\n",
        "        #- TAX      taxa de imposto sobre a propriedade de valor total por US$ 10.000\n",
        "        #- PTRATIO  proporção aluno-professor por cidade\n",
        "        #- B        1000(Bk - 0,63)^2 onde Bk é a proporção de negros por cidade\n",
        "        #- LSTAT    % status mais baixo da população\n",
        "\n",
        "   #- Belsley, Kuh & Welsch, 'Regression diagnostics: Identifying Influential Data and Sources of Collinearity', Wiley, 1980. 244-261.\n",
        "   #- Quinlan,R. (1993). Combining Instance-Based and Model-Based Learning. In Proceedings on the Tenth International Conference of Machine Learning, 236-243, University of Massachusetts, Amherst. Morgan Kaufmann."
      ]
    },
    {
      "cell_type": "code",
      "execution_count": 162,
      "metadata": {
        "id": "LWefzzTwVHmn"
      },
      "outputs": [],
      "source": [
        "#Criando um dataframe (data) em Pandas para iniciarmos a fase de Análise Exploratória de Dados (EDA);\n",
        "data = pd.DataFrame(boston, columns=boston.columns)"
      ]
    },
    {
      "cell_type": "code",
      "execution_count": 163,
      "metadata": {
        "id": "OsxKH-x8YeBB"
      },
      "outputs": [],
      "source": [
        "#Adicionando a coluna (MEDV) que será nossa variável alvo no dataframe;\n",
        "data['MEDV'] = boston['MEDV']\n"
      ]
    },
    {
      "cell_type": "code",
      "execution_count": 164,
      "metadata": {
        "colab": {
          "base_uri": "https://localhost:8080/"
        },
        "id": "cDddXTkTawNF",
        "outputId": "4a5f5246-7423-4cfd-fa86-88e11b598981"
      },
      "outputs": [
        {
          "name": "stdout",
          "output_type": "stream",
          "text": [
            "<class 'pandas.core.frame.DataFrame'>\n",
            "RangeIndex: 506 entries, 0 to 505\n",
            "Data columns (total 14 columns):\n",
            " #   Column   Non-Null Count  Dtype  \n",
            "---  ------   --------------  -----  \n",
            " 0   CRIM     506 non-null    float64\n",
            " 1   ZN       506 non-null    float64\n",
            " 2   INDUS    506 non-null    float64\n",
            " 3   CHAS     506 non-null    int64  \n",
            " 4   NOX      506 non-null    float64\n",
            " 5   RM       506 non-null    float64\n",
            " 6   AGE      506 non-null    float64\n",
            " 7   DIS      506 non-null    float64\n",
            " 8   RAD      506 non-null    int64  \n",
            " 9   TAX      506 non-null    int64  \n",
            " 10  PTRATIO  506 non-null    float64\n",
            " 11  B        506 non-null    float64\n",
            " 12  LSTAT    506 non-null    float64\n",
            " 13  MEDV     506 non-null    float64\n",
            "dtypes: float64(11), int64(3)\n",
            "memory usage: 55.5 KB\n"
          ]
        }
      ],
      "source": [
        "#Vendo mais detalhes dos dados(aqui também podemos ver o `tipo de dados`, `memória alocada`);\n",
        "data.info()"
      ]
    },
    {
      "cell_type": "code",
      "execution_count": 165,
      "metadata": {
        "colab": {
          "base_uri": "https://localhost:8080/"
        },
        "id": "PonXq5_gazHe",
        "outputId": "77cedb39-7e91-4d44-fdcf-3f29c52f1e9c"
      },
      "outputs": [
        {
          "name": "stdout",
          "output_type": "stream",
          "text": [
            "<class 'pandas.core.frame.DataFrame'>\n",
            "RangeIndex: 506 entries, 0 to 505\n",
            "Data columns (total 14 columns):\n",
            " #   Column   Non-Null Count  Dtype  \n",
            "---  ------   --------------  -----  \n",
            " 0   CRIM     506 non-null    float64\n",
            " 1   ZN       506 non-null    float64\n",
            " 2   INDUS    506 non-null    float64\n",
            " 3   CHAS     506 non-null    float64\n",
            " 4   NOX      506 non-null    float64\n",
            " 5   RM       506 non-null    int32  \n",
            " 6   AGE      506 non-null    float64\n",
            " 7   DIS      506 non-null    float64\n",
            " 8   RAD      506 non-null    float64\n",
            " 9   TAX      506 non-null    float64\n",
            " 10  PTRATIO  506 non-null    float64\n",
            " 11  B        506 non-null    float64\n",
            " 12  LSTAT    506 non-null    float64\n",
            " 13  MEDV     506 non-null    float64\n",
            "dtypes: float64(13), int32(1)\n",
            "memory usage: 53.5 KB\n"
          ]
        }
      ],
      "source": [
        "#Convertendo algumas tipagens em certas colunas;\n",
        "data.RM = data.RM.astype(int)\n",
        "data.CHAS = data.CHAS.astype(float)\n",
        "data.RAD = data.RAD.astype(float)\n",
        "data.TAX = data.TAX.astype(float)\n",
        "data.info()"
      ]
    },
    {
      "cell_type": "code",
      "execution_count": 166,
      "metadata": {
        "colab": {
          "base_uri": "https://localhost:8080/"
        },
        "id": "R0zrDHOWbNTY",
        "outputId": "6b90f71b-7c9a-4a5e-a88e-816583262570"
      },
      "outputs": [
        {
          "data": {
            "text/plain": [
              "count    506.000000\n",
              "mean       5.776680\n",
              "std        0.778123\n",
              "min        3.000000\n",
              "25%        5.000000\n",
              "50%        6.000000\n",
              "75%        6.000000\n",
              "max        8.000000\n",
              "Name: RM, dtype: float64"
            ]
          },
          "execution_count": 166,
          "metadata": {},
          "output_type": "execute_result"
        }
      ],
      "source": [
        "#Estatística descritiva da Coluna Número de Quartos (RM)\n",
        "#podemos ver abaixo a média(*mean*), mediana(50%), desvio padrão(std) e os quartis.\n",
        "#vemos que em média as casas (contidas na base de dados) tem entre 5 e 6 quartos.\n",
        "data.RM.describe()"
      ]
    },
    {
      "cell_type": "markdown",
      "metadata": {
        "id": "ubCUDnHhlnan"
      },
      "source": [
        "#Baseline\n"
      ]
    },
    {
      "cell_type": "code",
      "execution_count": 167,
      "metadata": {
        "id": "GqcbGNHilvtD"
      },
      "outputs": [],
      "source": [
        "#Criação de uma baseline por categoria,sendo imóvel Pequeno, Médio ou Grande tendo como base o número de quartos.\n",
        "\n",
        "#Regras:\n",
        "#- Menor ou igual a 4 quartos - Pequeno\n",
        "#- Maior que 4 e menor que 7 quartos - Médio\n",
        "#- Maior ou igual a 7 quartos - Grande"
      ]
    },
    {
      "cell_type": "code",
      "execution_count": 168,
      "metadata": {
        "id": "-mmhJcwsmFSy"
      },
      "outputs": [],
      "source": [
        "#Criando uma variável categorias;\n",
        "categorias = []"
      ]
    },
    {
      "cell_type": "code",
      "execution_count": 169,
      "metadata": {
        "colab": {
          "base_uri": "https://localhost:8080/"
        },
        "id": "WQtGkTcamL06",
        "outputId": "db3702d7-497c-460c-9a08-bc0e6f9f558a"
      },
      "outputs": [],
      "source": [
        "# Alimenta a lista categorias com base nas regras descritas acima;\n",
        "categorias = []\n",
        "for valor in data['RM']:\n",
        "  if valor <= 4:\n",
        "    categorias.append('Pequeno')\n",
        "  elif valor < 7:\n",
        "    categorias.append('Medio')\n",
        "  else:\n",
        "    categorias.append('Grande')\n"
      ]
    },
    {
      "cell_type": "code",
      "execution_count": 170,
      "metadata": {
        "id": "8PkjGoUJmil5"
      },
      "outputs": [],
      "source": [
        "#Criando uma coluna categorias na base de dados (data) com base nas regras do baseline;\n",
        "data['categorias'] = categorias"
      ]
    },
    {
      "cell_type": "code",
      "execution_count": 171,
      "metadata": {
        "colab": {
          "base_uri": "https://localhost:8080/"
        },
        "id": "SQYfiVCFmuhQ",
        "outputId": "d0e6cd17-16cb-45ef-b7b7-d21f028cbbce"
      },
      "outputs": [
        {
          "data": {
            "text/plain": [
              "categorias\n",
              "Medio      427\n",
              "Grande      64\n",
              "Pequeno     15\n",
              "Name: count, dtype: int64"
            ]
          },
          "execution_count": 171,
          "metadata": {},
          "output_type": "execute_result"
        }
      ],
      "source": [
        "#Visualizando a quantidade de imóveis por categoria;\n",
        "\n",
        "#Podemos observar que a grande maioria dos imóveis são médios;\n",
        "data.categorias.value_counts()"
      ]
    },
    {
      "cell_type": "code",
      "execution_count": 172,
      "metadata": {
        "id": "cZjlTFzcm8Uh"
      },
      "outputs": [],
      "source": [
        "#Visualizando o Valor Médio dos imóveis por Categorias (medias_categorias)\n",
        "\n",
        "# criando a variável\n",
        "medias_categorias = data.groupby(by='categorias')['MEDV'].mean()"
      ]
    },
    {
      "cell_type": "code",
      "execution_count": 173,
      "metadata": {
        "colab": {
          "base_uri": "https://localhost:8080/"
        },
        "id": "WiC9Qom4nCaz",
        "outputId": "855df851-ced1-4af4-8e7f-ac738aab65e6"
      },
      "outputs": [
        {
          "data": {
            "text/plain": [
              "categorias\n",
              "Grande     38.396875\n",
              "Medio      20.340281\n",
              "Pequeno    17.260000\n",
              "Name: MEDV, dtype: float64"
            ]
          },
          "execution_count": 173,
          "metadata": {},
          "output_type": "execute_result"
        }
      ],
      "source": [
        "# visualizando a variável\n",
        "medias_categorias"
      ]
    },
    {
      "cell_type": "code",
      "execution_count": 174,
      "metadata": {
        "id": "SKd4o7f3nFS5"
      },
      "outputs": [],
      "source": [
        "#Criação de um Dicionário para armazenarmos nossa base linha (`chave:valor`);"
      ]
    },
    {
      "cell_type": "code",
      "execution_count": 175,
      "metadata": {
        "id": "jf18tfhAnL34"
      },
      "outputs": [],
      "source": [
        "#Criando o dicionário com as chaves: médio, grande e pequeno e seus respectivos valores;\n",
        "dic_baseline = {'Grande': medias_categorias[0], 'Medio': medias_categorias[1], 'Pequeno': medias_categorias[2]}"
      ]
    },
    {
      "cell_type": "code",
      "execution_count": 176,
      "metadata": {
        "colab": {
          "base_uri": "https://localhost:8080/"
        },
        "id": "ZXpRZ2YgnNWt",
        "outputId": "331a98c7-ece1-4dd5-ee4d-3ed66e99728e"
      },
      "outputs": [
        {
          "data": {
            "text/plain": [
              "{'Grande': 38.396875,\n",
              " 'Medio': 20.340281030444963,\n",
              " 'Pequeno': 17.259999999999998}"
            ]
          },
          "execution_count": 176,
          "metadata": {},
          "output_type": "execute_result"
        }
      ],
      "source": [
        "#Imprime dicionário;\n",
        "dic_baseline"
      ]
    },
    {
      "cell_type": "code",
      "execution_count": 177,
      "metadata": {
        "id": "rT5x5ZZcnbiG"
      },
      "outputs": [],
      "source": [
        "#Criando uma função na baseline para retornar o valor médio com base no número de quartos (o número de quartos será a entrada da função);\n",
        "def retorna_baseline(num_quartos):\n",
        "  if num_quartos <= 4:\n",
        "    return dic_baseline.get('Pequeno')\n",
        "  elif num_quartos < 7:\n",
        "    return dic_baseline.get('Medio')\n",
        "  else:\n",
        "    return dic_baseline.get('Grande')"
      ]
    },
    {
      "cell_type": "code",
      "execution_count": 178,
      "metadata": {
        "colab": {
          "base_uri": "https://localhost:8080/"
        },
        "id": "8y-MaII6nn7n",
        "outputId": "0f5bd67f-83be-4263-f79d-f7262b5aa1ce"
      },
      "outputs": [
        {
          "data": {
            "text/plain": [
              "38.396875"
            ]
          },
          "execution_count": 178,
          "metadata": {},
          "output_type": "execute_result"
        }
      ],
      "source": [
        "# Chama a função retorna_baseline (um teste)\n",
        "retorna_baseline(7)"
      ]
    },
    {
      "cell_type": "code",
      "execution_count": 179,
      "metadata": {
        "colab": {
          "base_uri": "https://localhost:8080/"
        },
        "id": "Nn0L3bKwnuWF",
        "outputId": "bfa9dc5f-1ec6-4257-b77b-4887a7e1520c"
      },
      "outputs": [
        {
          "name": "stdout",
          "output_type": "stream",
          "text": [
            "Número de quartos é: 6, Valor médio: 20.340281030444963\n",
            "Número de quartos é: 6, Valor médio: 20.340281030444963\n",
            "Número de quartos é: 7, Valor médio: 38.396875\n",
            "Número de quartos é: 6, Valor médio: 20.340281030444963\n",
            "Número de quartos é: 7, Valor médio: 38.396875\n",
            "Número de quartos é: 6, Valor médio: 20.340281030444963\n",
            "Número de quartos é: 6, Valor médio: 20.340281030444963\n",
            "Número de quartos é: 6, Valor médio: 20.340281030444963\n",
            "Número de quartos é: 5, Valor médio: 20.340281030444963\n",
            "Número de quartos é: 6, Valor médio: 20.340281030444963\n",
            "Número de quartos é: 6, Valor médio: 20.340281030444963\n",
            "Número de quartos é: 6, Valor médio: 20.340281030444963\n",
            "Número de quartos é: 5, Valor médio: 20.340281030444963\n",
            "Número de quartos é: 5, Valor médio: 20.340281030444963\n",
            "Número de quartos é: 6, Valor médio: 20.340281030444963\n",
            "Número de quartos é: 5, Valor médio: 20.340281030444963\n",
            "Número de quartos é: 5, Valor médio: 20.340281030444963\n",
            "Número de quartos é: 5, Valor médio: 20.340281030444963\n",
            "Número de quartos é: 5, Valor médio: 20.340281030444963\n",
            "Número de quartos é: 5, Valor médio: 20.340281030444963\n",
            "Número de quartos é: 5, Valor médio: 20.340281030444963\n",
            "Número de quartos é: 5, Valor médio: 20.340281030444963\n",
            "Número de quartos é: 6, Valor médio: 20.340281030444963\n",
            "Número de quartos é: 5, Valor médio: 20.340281030444963\n",
            "Número de quartos é: 5, Valor médio: 20.340281030444963\n",
            "Número de quartos é: 5, Valor médio: 20.340281030444963\n",
            "Número de quartos é: 5, Valor médio: 20.340281030444963\n",
            "Número de quartos é: 6, Valor médio: 20.340281030444963\n",
            "Número de quartos é: 6, Valor médio: 20.340281030444963\n",
            "Número de quartos é: 6, Valor médio: 20.340281030444963\n",
            "Número de quartos é: 5, Valor médio: 20.340281030444963\n",
            "Número de quartos é: 6, Valor médio: 20.340281030444963\n",
            "Número de quartos é: 5, Valor médio: 20.340281030444963\n",
            "Número de quartos é: 5, Valor médio: 20.340281030444963\n",
            "Número de quartos é: 6, Valor médio: 20.340281030444963\n",
            "Número de quartos é: 5, Valor médio: 20.340281030444963\n",
            "Número de quartos é: 5, Valor médio: 20.340281030444963\n",
            "Número de quartos é: 5, Valor médio: 20.340281030444963\n",
            "Número de quartos é: 5, Valor médio: 20.340281030444963\n",
            "Número de quartos é: 6, Valor médio: 20.340281030444963\n",
            "Número de quartos é: 7, Valor médio: 38.396875\n",
            "Número de quartos é: 6, Valor médio: 20.340281030444963\n",
            "Número de quartos é: 6, Valor médio: 20.340281030444963\n",
            "Número de quartos é: 6, Valor médio: 20.340281030444963\n",
            "Número de quartos é: 6, Valor médio: 20.340281030444963\n",
            "Número de quartos é: 5, Valor médio: 20.340281030444963\n",
            "Número de quartos é: 5, Valor médio: 20.340281030444963\n",
            "Número de quartos é: 6, Valor médio: 20.340281030444963\n",
            "Número de quartos é: 5, Valor médio: 20.340281030444963\n",
            "Número de quartos é: 5, Valor médio: 20.340281030444963\n",
            "Número de quartos é: 5, Valor médio: 20.340281030444963\n",
            "Número de quartos é: 6, Valor médio: 20.340281030444963\n",
            "Número de quartos é: 6, Valor médio: 20.340281030444963\n",
            "Número de quartos é: 5, Valor médio: 20.340281030444963\n",
            "Número de quartos é: 5, Valor médio: 20.340281030444963\n",
            "Número de quartos é: 7, Valor médio: 38.396875\n",
            "Número de quartos é: 6, Valor médio: 20.340281030444963\n",
            "Número de quartos é: 6, Valor médio: 20.340281030444963\n",
            "Número de quartos é: 6, Valor médio: 20.340281030444963\n",
            "Número de quartos é: 5, Valor médio: 20.340281030444963\n",
            "Número de quartos é: 5, Valor médio: 20.340281030444963\n",
            "Número de quartos é: 5, Valor médio: 20.340281030444963\n",
            "Número de quartos é: 6, Valor médio: 20.340281030444963\n",
            "Número de quartos é: 6, Valor médio: 20.340281030444963\n",
            "Número de quartos é: 7, Valor médio: 38.396875\n",
            "Número de quartos é: 6, Valor médio: 20.340281030444963\n",
            "Número de quartos é: 5, Valor médio: 20.340281030444963\n",
            "Número de quartos é: 5, Valor médio: 20.340281030444963\n",
            "Número de quartos é: 5, Valor médio: 20.340281030444963\n",
            "Número de quartos é: 5, Valor médio: 20.340281030444963\n",
            "Número de quartos é: 6, Valor médio: 20.340281030444963\n",
            "Número de quartos é: 5, Valor médio: 20.340281030444963\n",
            "Número de quartos é: 6, Valor médio: 20.340281030444963\n",
            "Número de quartos é: 6, Valor médio: 20.340281030444963\n",
            "Número de quartos é: 6, Valor médio: 20.340281030444963\n",
            "Número de quartos é: 6, Valor médio: 20.340281030444963\n",
            "Número de quartos é: 6, Valor médio: 20.340281030444963\n",
            "Número de quartos é: 6, Valor médio: 20.340281030444963\n",
            "Número de quartos é: 6, Valor médio: 20.340281030444963\n",
            "Número de quartos é: 5, Valor médio: 20.340281030444963\n",
            "Número de quartos é: 6, Valor médio: 20.340281030444963\n",
            "Número de quartos é: 6, Valor médio: 20.340281030444963\n",
            "Número de quartos é: 6, Valor médio: 20.340281030444963\n",
            "Número de quartos é: 6, Valor médio: 20.340281030444963\n",
            "Número de quartos é: 6, Valor médio: 20.340281030444963\n",
            "Número de quartos é: 6, Valor médio: 20.340281030444963\n",
            "Número de quartos é: 6, Valor médio: 20.340281030444963\n",
            "Número de quartos é: 6, Valor médio: 20.340281030444963\n",
            "Número de quartos é: 7, Valor médio: 38.396875\n",
            "Número de quartos é: 7, Valor médio: 38.396875\n",
            "Número de quartos é: 6, Valor médio: 20.340281030444963\n",
            "Número de quartos é: 6, Valor médio: 20.340281030444963\n",
            "Número de quartos é: 6, Valor médio: 20.340281030444963\n",
            "Número de quartos é: 6, Valor médio: 20.340281030444963\n",
            "Número de quartos é: 6, Valor médio: 20.340281030444963\n",
            "Número de quartos é: 6, Valor médio: 20.340281030444963\n",
            "Número de quartos é: 6, Valor médio: 20.340281030444963\n",
            "Número de quartos é: 8, Valor médio: 38.396875\n",
            "Número de quartos é: 7, Valor médio: 38.396875\n",
            "Número de quartos é: 7, Valor médio: 38.396875\n",
            "Número de quartos é: 6, Valor médio: 20.340281030444963\n",
            "Número de quartos é: 6, Valor médio: 20.340281030444963\n",
            "Número de quartos é: 6, Valor médio: 20.340281030444963\n",
            "Número de quartos é: 6, Valor médio: 20.340281030444963\n",
            "Número de quartos é: 6, Valor médio: 20.340281030444963\n",
            "Número de quartos é: 5, Valor médio: 20.340281030444963\n",
            "Número de quartos é: 5, Valor médio: 20.340281030444963\n",
            "Número de quartos é: 6, Valor médio: 20.340281030444963\n",
            "Número de quartos é: 6, Valor médio: 20.340281030444963\n",
            "Número de quartos é: 6, Valor médio: 20.340281030444963\n",
            "Número de quartos é: 6, Valor médio: 20.340281030444963\n",
            "Número de quartos é: 6, Valor médio: 20.340281030444963\n",
            "Número de quartos é: 5, Valor médio: 20.340281030444963\n",
            "Número de quartos é: 6, Valor médio: 20.340281030444963\n",
            "Número de quartos é: 6, Valor médio: 20.340281030444963\n",
            "Número de quartos é: 5, Valor médio: 20.340281030444963\n",
            "Número de quartos é: 6, Valor médio: 20.340281030444963\n",
            "Número de quartos é: 6, Valor médio: 20.340281030444963\n",
            "Número de quartos é: 5, Valor médio: 20.340281030444963\n",
            "Número de quartos é: 5, Valor médio: 20.340281030444963\n",
            "Número de quartos é: 5, Valor médio: 20.340281030444963\n",
            "Número de quartos é: 6, Valor médio: 20.340281030444963\n",
            "Número de quartos é: 5, Valor médio: 20.340281030444963\n",
            "Número de quartos é: 5, Valor médio: 20.340281030444963\n",
            "Número de quartos é: 5, Valor médio: 20.340281030444963\n",
            "Número de quartos é: 5, Valor médio: 20.340281030444963\n",
            "Número de quartos é: 5, Valor médio: 20.340281030444963\n",
            "Número de quartos é: 5, Valor médio: 20.340281030444963\n",
            "Número de quartos é: 6, Valor médio: 20.340281030444963\n",
            "Número de quartos é: 5, Valor médio: 20.340281030444963\n",
            "Número de quartos é: 6, Valor médio: 20.340281030444963\n",
            "Número de quartos é: 6, Valor médio: 20.340281030444963\n",
            "Número de quartos é: 6, Valor médio: 20.340281030444963\n",
            "Número de quartos é: 5, Valor médio: 20.340281030444963\n",
            "Número de quartos é: 5, Valor médio: 20.340281030444963\n",
            "Número de quartos é: 6, Valor médio: 20.340281030444963\n",
            "Número de quartos é: 5, Valor médio: 20.340281030444963\n",
            "Número de quartos é: 6, Valor médio: 20.340281030444963\n",
            "Número de quartos é: 5, Valor médio: 20.340281030444963\n",
            "Número de quartos é: 6, Valor médio: 20.340281030444963\n",
            "Número de quartos é: 6, Valor médio: 20.340281030444963\n",
            "Número de quartos é: 5, Valor médio: 20.340281030444963\n",
            "Número de quartos é: 5, Valor médio: 20.340281030444963\n",
            "Número de quartos é: 5, Valor médio: 20.340281030444963\n",
            "Número de quartos é: 4, Valor médio: 17.259999999999998\n",
            "Número de quartos é: 6, Valor médio: 20.340281030444963\n",
            "Número de quartos é: 5, Valor médio: 20.340281030444963\n",
            "Número de quartos é: 4, Valor médio: 17.259999999999998\n",
            "Número de quartos é: 5, Valor médio: 20.340281030444963\n",
            "Número de quartos é: 5, Valor médio: 20.340281030444963\n",
            "Número de quartos é: 6, Valor médio: 20.340281030444963\n",
            "Número de quartos é: 5, Valor médio: 20.340281030444963\n",
            "Número de quartos é: 5, Valor médio: 20.340281030444963\n",
            "Número de quartos é: 5, Valor médio: 20.340281030444963\n",
            "Número de quartos é: 6, Valor médio: 20.340281030444963\n",
            "Número de quartos é: 6, Valor médio: 20.340281030444963\n",
            "Número de quartos é: 5, Valor médio: 20.340281030444963\n",
            "Número de quartos é: 6, Valor médio: 20.340281030444963\n",
            "Número de quartos é: 6, Valor médio: 20.340281030444963\n",
            "Número de quartos é: 6, Valor médio: 20.340281030444963\n",
            "Número de quartos é: 6, Valor médio: 20.340281030444963\n",
            "Número de quartos é: 7, Valor médio: 38.396875\n",
            "Número de quartos é: 7, Valor médio: 38.396875\n",
            "Número de quartos é: 8, Valor médio: 38.396875\n",
            "Número de quartos é: 5, Valor médio: 20.340281030444963\n",
            "Número de quartos é: 6, Valor médio: 20.340281030444963\n",
            "Número de quartos é: 7, Valor médio: 38.396875\n",
            "Número de quartos é: 5, Valor médio: 20.340281030444963\n",
            "Número de quartos é: 6, Valor médio: 20.340281030444963\n",
            "Número de quartos é: 6, Valor médio: 20.340281030444963\n",
            "Número de quartos é: 5, Valor médio: 20.340281030444963\n",
            "Número de quartos é: 5, Valor médio: 20.340281030444963\n",
            "Número de quartos é: 5, Valor médio: 20.340281030444963\n",
            "Número de quartos é: 6, Valor médio: 20.340281030444963\n",
            "Número de quartos é: 5, Valor médio: 20.340281030444963\n",
            "Número de quartos é: 6, Valor médio: 20.340281030444963\n",
            "Número de quartos é: 6, Valor médio: 20.340281030444963\n",
            "Número de quartos é: 6, Valor médio: 20.340281030444963\n",
            "Número de quartos é: 6, Valor médio: 20.340281030444963\n",
            "Número de quartos é: 6, Valor médio: 20.340281030444963\n",
            "Número de quartos é: 7, Valor médio: 38.396875\n",
            "Número de quartos é: 6, Valor médio: 20.340281030444963\n",
            "Número de quartos é: 7, Valor médio: 38.396875\n",
            "Número de quartos é: 6, Valor médio: 20.340281030444963\n",
            "Número de quartos é: 5, Valor médio: 20.340281030444963\n",
            "Número de quartos é: 6, Valor médio: 20.340281030444963\n",
            "Número de quartos é: 7, Valor médio: 38.396875\n",
            "Número de quartos é: 6, Valor médio: 20.340281030444963\n",
            "Número de quartos é: 6, Valor médio: 20.340281030444963\n",
            "Número de quartos é: 7, Valor médio: 38.396875\n",
            "Número de quartos é: 6, Valor médio: 20.340281030444963\n",
            "Número de quartos é: 6, Valor médio: 20.340281030444963\n",
            "Número de quartos é: 7, Valor médio: 38.396875\n",
            "Número de quartos é: 6, Valor médio: 20.340281030444963\n",
            "Número de quartos é: 6, Valor médio: 20.340281030444963\n",
            "Número de quartos é: 7, Valor médio: 38.396875\n",
            "Número de quartos é: 7, Valor médio: 38.396875\n",
            "Número de quartos é: 7, Valor médio: 38.396875\n",
            "Número de quartos é: 7, Valor médio: 38.396875\n",
            "Número de quartos é: 6, Valor médio: 20.340281030444963\n",
            "Número de quartos é: 7, Valor médio: 38.396875\n",
            "Número de quartos é: 6, Valor médio: 20.340281030444963\n",
            "Número de quartos é: 7, Valor médio: 38.396875\n",
            "Número de quartos é: 7, Valor médio: 38.396875\n",
            "Número de quartos é: 8, Valor médio: 38.396875\n",
            "Número de quartos é: 5, Valor médio: 20.340281030444963\n",
            "Número de quartos é: 6, Valor médio: 20.340281030444963\n",
            "Número de quartos é: 5, Valor médio: 20.340281030444963\n",
            "Número de quartos é: 6, Valor médio: 20.340281030444963\n",
            "Número de quartos é: 5, Valor médio: 20.340281030444963\n",
            "Número de quartos é: 5, Valor médio: 20.340281030444963\n",
            "Número de quartos é: 5, Valor médio: 20.340281030444963\n",
            "Número de quartos é: 5, Valor médio: 20.340281030444963\n",
            "Número de quartos é: 6, Valor médio: 20.340281030444963\n",
            "Número de quartos é: 5, Valor médio: 20.340281030444963\n",
            "Número de quartos é: 6, Valor médio: 20.340281030444963\n",
            "Número de quartos é: 5, Valor médio: 20.340281030444963\n",
            "Número de quartos é: 6, Valor médio: 20.340281030444963\n",
            "Número de quartos é: 5, Valor médio: 20.340281030444963\n",
            "Número de quartos é: 6, Valor médio: 20.340281030444963\n",
            "Número de quartos é: 6, Valor médio: 20.340281030444963\n",
            "Número de quartos é: 6, Valor médio: 20.340281030444963\n",
            "Número de quartos é: 6, Valor médio: 20.340281030444963\n",
            "Número de quartos é: 6, Valor médio: 20.340281030444963\n",
            "Número de quartos é: 8, Valor médio: 38.396875\n",
            "Número de quartos é: 8, Valor médio: 38.396875\n",
            "Número de quartos é: 8, Valor médio: 38.396875\n",
            "Número de quartos é: 7, Valor médio: 38.396875\n",
            "Número de quartos é: 7, Valor médio: 38.396875\n",
            "Número de quartos é: 6, Valor médio: 20.340281030444963\n",
            "Número de quartos é: 5, Valor médio: 20.340281030444963\n",
            "Número de quartos é: 7, Valor médio: 38.396875\n",
            "Número de quartos é: 8, Valor médio: 38.396875\n",
            "Número de quartos é: 8, Valor médio: 38.396875\n",
            "Número de quartos é: 6, Valor médio: 20.340281030444963\n",
            "Número de quartos é: 6, Valor médio: 20.340281030444963\n",
            "Número de quartos é: 6, Valor médio: 20.340281030444963\n",
            "Número de quartos é: 7, Valor médio: 38.396875\n",
            "Número de quartos é: 6, Valor médio: 20.340281030444963\n",
            "Número de quartos é: 6, Valor médio: 20.340281030444963\n",
            "Número de quartos é: 6, Valor médio: 20.340281030444963\n",
            "Número de quartos é: 6, Valor médio: 20.340281030444963\n",
            "Número de quartos é: 6, Valor médio: 20.340281030444963\n",
            "Número de quartos é: 6, Valor médio: 20.340281030444963\n",
            "Número de quartos é: 5, Valor médio: 20.340281030444963\n",
            "Número de quartos é: 5, Valor médio: 20.340281030444963\n",
            "Número de quartos é: 6, Valor médio: 20.340281030444963\n",
            "Número de quartos é: 6, Valor médio: 20.340281030444963\n",
            "Número de quartos é: 6, Valor médio: 20.340281030444963\n",
            "Número de quartos é: 6, Valor médio: 20.340281030444963\n",
            "Número de quartos é: 6, Valor médio: 20.340281030444963\n",
            "Número de quartos é: 6, Valor médio: 20.340281030444963\n",
            "Número de quartos é: 6, Valor médio: 20.340281030444963\n",
            "Número de quartos é: 8, Valor médio: 38.396875\n",
            "Número de quartos é: 6, Valor médio: 20.340281030444963\n",
            "Número de quartos é: 5, Valor médio: 20.340281030444963\n",
            "Número de quartos é: 7, Valor médio: 38.396875\n",
            "Número de quartos é: 8, Valor médio: 38.396875\n",
            "Número de quartos é: 7, Valor médio: 38.396875\n",
            "Número de quartos é: 6, Valor médio: 20.340281030444963\n",
            "Número de quartos é: 7, Valor médio: 38.396875\n",
            "Número de quartos é: 7, Valor médio: 38.396875\n",
            "Número de quartos é: 8, Valor médio: 38.396875\n",
            "Número de quartos é: 7, Valor médio: 38.396875\n",
            "Número de quartos é: 7, Valor médio: 38.396875\n",
            "Número de quartos é: 5, Valor médio: 20.340281030444963\n",
            "Número de quartos é: 7, Valor médio: 38.396875\n",
            "Número de quartos é: 8, Valor médio: 38.396875\n",
            "Número de quartos é: 7, Valor médio: 38.396875\n",
            "Número de quartos é: 5, Valor médio: 20.340281030444963\n",
            "Número de quartos é: 5, Valor médio: 20.340281030444963\n",
            "Número de quartos é: 6, Valor médio: 20.340281030444963\n",
            "Número de quartos é: 6, Valor médio: 20.340281030444963\n",
            "Número de quartos é: 7, Valor médio: 38.396875\n",
            "Número de quartos é: 6, Valor médio: 20.340281030444963\n",
            "Número de quartos é: 6, Valor médio: 20.340281030444963\n",
            "Número de quartos é: 7, Valor médio: 38.396875\n",
            "Número de quartos é: 6, Valor médio: 20.340281030444963\n",
            "Número de quartos é: 6, Valor médio: 20.340281030444963\n",
            "Número de quartos é: 6, Valor médio: 20.340281030444963\n",
            "Número de quartos é: 7, Valor médio: 38.396875\n",
            "Número de quartos é: 6, Valor médio: 20.340281030444963\n",
            "Número de quartos é: 7, Valor médio: 38.396875\n",
            "Número de quartos é: 7, Valor médio: 38.396875\n",
            "Número de quartos é: 7, Valor médio: 38.396875\n",
            "Número de quartos é: 6, Valor médio: 20.340281030444963\n",
            "Número de quartos é: 6, Valor médio: 20.340281030444963\n",
            "Número de quartos é: 6, Valor médio: 20.340281030444963\n",
            "Número de quartos é: 6, Valor médio: 20.340281030444963\n",
            "Número de quartos é: 6, Valor médio: 20.340281030444963\n",
            "Número de quartos é: 6, Valor médio: 20.340281030444963\n",
            "Número de quartos é: 7, Valor médio: 38.396875\n",
            "Número de quartos é: 6, Valor médio: 20.340281030444963\n",
            "Número de quartos é: 6, Valor médio: 20.340281030444963\n",
            "Número de quartos é: 6, Valor médio: 20.340281030444963\n",
            "Número de quartos é: 6, Valor médio: 20.340281030444963\n",
            "Número de quartos é: 6, Valor médio: 20.340281030444963\n",
            "Número de quartos é: 5, Valor médio: 20.340281030444963\n",
            "Número de quartos é: 6, Valor médio: 20.340281030444963\n",
            "Número de quartos é: 7, Valor médio: 38.396875\n",
            "Número de quartos é: 6, Valor médio: 20.340281030444963\n",
            "Número de quartos é: 6, Valor médio: 20.340281030444963\n",
            "Número de quartos é: 6, Valor médio: 20.340281030444963\n",
            "Número de quartos é: 6, Valor médio: 20.340281030444963\n",
            "Número de quartos é: 7, Valor médio: 38.396875\n",
            "Número de quartos é: 6, Valor médio: 20.340281030444963\n",
            "Número de quartos é: 7, Valor médio: 38.396875\n",
            "Número de quartos é: 6, Valor médio: 20.340281030444963\n",
            "Número de quartos é: 6, Valor médio: 20.340281030444963\n",
            "Número de quartos é: 5, Valor médio: 20.340281030444963\n",
            "Número de quartos é: 4, Valor médio: 17.259999999999998\n",
            "Número de quartos é: 6, Valor médio: 20.340281030444963\n",
            "Número de quartos é: 6, Valor médio: 20.340281030444963\n",
            "Número de quartos é: 6, Valor médio: 20.340281030444963\n",
            "Número de quartos é: 6, Valor médio: 20.340281030444963\n",
            "Número de quartos é: 5, Valor médio: 20.340281030444963\n",
            "Número de quartos é: 5, Valor médio: 20.340281030444963\n",
            "Número de quartos é: 5, Valor médio: 20.340281030444963\n",
            "Número de quartos é: 6, Valor médio: 20.340281030444963\n",
            "Número de quartos é: 6, Valor médio: 20.340281030444963\n",
            "Número de quartos é: 6, Valor médio: 20.340281030444963\n",
            "Número de quartos é: 6, Valor médio: 20.340281030444963\n",
            "Número de quartos é: 6, Valor médio: 20.340281030444963\n",
            "Número de quartos é: 5, Valor médio: 20.340281030444963\n",
            "Número de quartos é: 6, Valor médio: 20.340281030444963\n",
            "Número de quartos é: 6, Valor médio: 20.340281030444963\n",
            "Número de quartos é: 6, Valor médio: 20.340281030444963\n",
            "Número de quartos é: 6, Valor médio: 20.340281030444963\n",
            "Número de quartos é: 5, Valor médio: 20.340281030444963\n",
            "Número de quartos é: 6, Valor médio: 20.340281030444963\n",
            "Número de quartos é: 6, Valor médio: 20.340281030444963\n",
            "Número de quartos é: 5, Valor médio: 20.340281030444963\n",
            "Número de quartos é: 6, Valor médio: 20.340281030444963\n",
            "Número de quartos é: 6, Valor médio: 20.340281030444963\n",
            "Número de quartos é: 6, Valor médio: 20.340281030444963\n",
            "Número de quartos é: 6, Valor médio: 20.340281030444963\n",
            "Número de quartos é: 5, Valor médio: 20.340281030444963\n",
            "Número de quartos é: 5, Valor médio: 20.340281030444963\n",
            "Número de quartos é: 6, Valor médio: 20.340281030444963\n",
            "Número de quartos é: 5, Valor médio: 20.340281030444963\n",
            "Número de quartos é: 5, Valor médio: 20.340281030444963\n",
            "Número de quartos é: 7, Valor médio: 38.396875\n",
            "Número de quartos é: 6, Valor médio: 20.340281030444963\n",
            "Número de quartos é: 6, Valor médio: 20.340281030444963\n",
            "Número de quartos é: 6, Valor médio: 20.340281030444963\n",
            "Número de quartos é: 6, Valor médio: 20.340281030444963\n",
            "Número de quartos é: 5, Valor médio: 20.340281030444963\n",
            "Número de quartos é: 6, Valor médio: 20.340281030444963\n",
            "Número de quartos é: 6, Valor médio: 20.340281030444963\n",
            "Número de quartos é: 6, Valor médio: 20.340281030444963\n",
            "Número de quartos é: 6, Valor médio: 20.340281030444963\n",
            "Número de quartos é: 6, Valor médio: 20.340281030444963\n",
            "Número de quartos é: 5, Valor médio: 20.340281030444963\n",
            "Número de quartos é: 6, Valor médio: 20.340281030444963\n",
            "Número de quartos é: 5, Valor médio: 20.340281030444963\n",
            "Número de quartos é: 5, Valor médio: 20.340281030444963\n",
            "Número de quartos é: 6, Valor médio: 20.340281030444963\n",
            "Número de quartos é: 6, Valor médio: 20.340281030444963\n",
            "Número de quartos é: 6, Valor médio: 20.340281030444963\n",
            "Número de quartos é: 6, Valor médio: 20.340281030444963\n",
            "Número de quartos é: 6, Valor médio: 20.340281030444963\n",
            "Número de quartos é: 6, Valor médio: 20.340281030444963\n",
            "Número de quartos é: 5, Valor médio: 20.340281030444963\n",
            "Número de quartos é: 5, Valor médio: 20.340281030444963\n",
            "Número de quartos é: 8, Valor médio: 38.396875\n",
            "Número de quartos é: 3, Valor médio: 17.259999999999998\n",
            "Número de quartos é: 4, Valor médio: 17.259999999999998\n",
            "Número de quartos é: 3, Valor médio: 17.259999999999998\n",
            "Número de quartos é: 4, Valor médio: 17.259999999999998\n",
            "Número de quartos é: 6, Valor médio: 20.340281030444963\n",
            "Número de quartos é: 7, Valor médio: 38.396875\n",
            "Número de quartos é: 6, Valor médio: 20.340281030444963\n",
            "Número de quartos é: 5, Valor médio: 20.340281030444963\n",
            "Número de quartos é: 4, Valor médio: 17.259999999999998\n",
            "Número de quartos é: 4, Valor médio: 17.259999999999998\n",
            "Número de quartos é: 7, Valor médio: 38.396875\n",
            "Número de quartos é: 6, Valor médio: 20.340281030444963\n",
            "Número de quartos é: 6, Valor médio: 20.340281030444963\n",
            "Número de quartos é: 6, Valor médio: 20.340281030444963\n",
            "Número de quartos é: 6, Valor médio: 20.340281030444963\n",
            "Número de quartos é: 6, Valor médio: 20.340281030444963\n",
            "Número de quartos é: 6, Valor médio: 20.340281030444963\n",
            "Número de quartos é: 5, Valor médio: 20.340281030444963\n",
            "Número de quartos é: 5, Valor médio: 20.340281030444963\n",
            "Número de quartos é: 4, Valor médio: 17.259999999999998\n",
            "Número de quartos é: 5, Valor médio: 20.340281030444963\n",
            "Número de quartos é: 4, Valor médio: 17.259999999999998\n",
            "Número de quartos é: 5, Valor médio: 20.340281030444963\n",
            "Número de quartos é: 4, Valor médio: 17.259999999999998\n",
            "Número de quartos é: 5, Valor médio: 20.340281030444963\n",
            "Número de quartos é: 5, Valor médio: 20.340281030444963\n",
            "Número de quartos é: 6, Valor médio: 20.340281030444963\n",
            "Número de quartos é: 5, Valor médio: 20.340281030444963\n",
            "Número de quartos é: 6, Valor médio: 20.340281030444963\n",
            "Número de quartos é: 5, Valor médio: 20.340281030444963\n",
            "Número de quartos é: 6, Valor médio: 20.340281030444963\n",
            "Número de quartos é: 6, Valor médio: 20.340281030444963\n",
            "Número de quartos é: 5, Valor médio: 20.340281030444963\n",
            "Número de quartos é: 5, Valor médio: 20.340281030444963\n",
            "Número de quartos é: 5, Valor médio: 20.340281030444963\n",
            "Número de quartos é: 5, Valor médio: 20.340281030444963\n",
            "Número de quartos é: 6, Valor médio: 20.340281030444963\n",
            "Número de quartos é: 6, Valor médio: 20.340281030444963\n",
            "Número de quartos é: 5, Valor médio: 20.340281030444963\n",
            "Número de quartos é: 5, Valor médio: 20.340281030444963\n",
            "Número de quartos é: 5, Valor médio: 20.340281030444963\n",
            "Número de quartos é: 4, Valor médio: 17.259999999999998\n",
            "Número de quartos é: 5, Valor médio: 20.340281030444963\n",
            "Número de quartos é: 5, Valor médio: 20.340281030444963\n",
            "Número de quartos é: 6, Valor médio: 20.340281030444963\n",
            "Número de quartos é: 5, Valor médio: 20.340281030444963\n",
            "Número de quartos é: 6, Valor médio: 20.340281030444963\n",
            "Número de quartos é: 4, Valor médio: 17.259999999999998\n",
            "Número de quartos é: 5, Valor médio: 20.340281030444963\n",
            "Número de quartos é: 4, Valor médio: 17.259999999999998\n",
            "Número de quartos é: 6, Valor médio: 20.340281030444963\n",
            "Número de quartos é: 6, Valor médio: 20.340281030444963\n",
            "Número de quartos é: 5, Valor médio: 20.340281030444963\n",
            "Número de quartos é: 5, Valor médio: 20.340281030444963\n",
            "Número de quartos é: 6, Valor médio: 20.340281030444963\n",
            "Número de quartos é: 6, Valor médio: 20.340281030444963\n",
            "Número de quartos é: 6, Valor médio: 20.340281030444963\n",
            "Número de quartos é: 5, Valor médio: 20.340281030444963\n",
            "Número de quartos é: 6, Valor médio: 20.340281030444963\n",
            "Número de quartos é: 5, Valor médio: 20.340281030444963\n",
            "Número de quartos é: 5, Valor médio: 20.340281030444963\n",
            "Número de quartos é: 5, Valor médio: 20.340281030444963\n",
            "Número de quartos é: 6, Valor médio: 20.340281030444963\n",
            "Número de quartos é: 6, Valor médio: 20.340281030444963\n",
            "Número de quartos é: 6, Valor médio: 20.340281030444963\n",
            "Número de quartos é: 6, Valor médio: 20.340281030444963\n",
            "Número de quartos é: 6, Valor médio: 20.340281030444963\n",
            "Número de quartos é: 6, Valor médio: 20.340281030444963\n",
            "Número de quartos é: 6, Valor médio: 20.340281030444963\n",
            "Número de quartos é: 6, Valor médio: 20.340281030444963\n",
            "Número de quartos é: 6, Valor médio: 20.340281030444963\n",
            "Número de quartos é: 6, Valor médio: 20.340281030444963\n",
            "Número de quartos é: 6, Valor médio: 20.340281030444963\n",
            "Número de quartos é: 5, Valor médio: 20.340281030444963\n",
            "Número de quartos é: 5, Valor médio: 20.340281030444963\n",
            "Número de quartos é: 5, Valor médio: 20.340281030444963\n",
            "Número de quartos é: 6, Valor médio: 20.340281030444963\n",
            "Número de quartos é: 6, Valor médio: 20.340281030444963\n",
            "Número de quartos é: 6, Valor médio: 20.340281030444963\n",
            "Número de quartos é: 5, Valor médio: 20.340281030444963\n",
            "Número de quartos é: 6, Valor médio: 20.340281030444963\n",
            "Número de quartos é: 6, Valor médio: 20.340281030444963\n",
            "Número de quartos é: 6, Valor médio: 20.340281030444963\n",
            "Número de quartos é: 6, Valor médio: 20.340281030444963\n",
            "Número de quartos é: 6, Valor médio: 20.340281030444963\n",
            "Número de quartos é: 6, Valor médio: 20.340281030444963\n",
            "Número de quartos é: 6, Valor médio: 20.340281030444963\n",
            "Número de quartos é: 6, Valor médio: 20.340281030444963\n",
            "Número de quartos é: 7, Valor médio: 38.396875\n",
            "Número de quartos é: 6, Valor médio: 20.340281030444963\n",
            "Número de quartos é: 6, Valor médio: 20.340281030444963\n",
            "Número de quartos é: 5, Valor médio: 20.340281030444963\n",
            "Número de quartos é: 5, Valor médio: 20.340281030444963\n",
            "Número de quartos é: 6, Valor médio: 20.340281030444963\n",
            "Número de quartos é: 6, Valor médio: 20.340281030444963\n",
            "Número de quartos é: 6, Valor médio: 20.340281030444963\n",
            "Número de quartos é: 6, Valor médio: 20.340281030444963\n",
            "Número de quartos é: 6, Valor médio: 20.340281030444963\n",
            "Número de quartos é: 6, Valor médio: 20.340281030444963\n",
            "Número de quartos é: 6, Valor médio: 20.340281030444963\n",
            "Número de quartos é: 5, Valor médio: 20.340281030444963\n",
            "Número de quartos é: 5, Valor médio: 20.340281030444963\n",
            "Número de quartos é: 6, Valor médio: 20.340281030444963\n",
            "Número de quartos é: 5, Valor médio: 20.340281030444963\n",
            "Número de quartos é: 5, Valor médio: 20.340281030444963\n",
            "Número de quartos é: 6, Valor médio: 20.340281030444963\n",
            "Número de quartos é: 6, Valor médio: 20.340281030444963\n",
            "Número de quartos é: 6, Valor médio: 20.340281030444963\n",
            "Número de quartos é: 6, Valor médio: 20.340281030444963\n",
            "Número de quartos é: 5, Valor médio: 20.340281030444963\n",
            "Número de quartos é: 6, Valor médio: 20.340281030444963\n",
            "Número de quartos é: 6, Valor médio: 20.340281030444963\n",
            "Número de quartos é: 5, Valor médio: 20.340281030444963\n",
            "Número de quartos é: 6, Valor médio: 20.340281030444963\n",
            "Número de quartos é: 6, Valor médio: 20.340281030444963\n",
            "Número de quartos é: 6, Valor médio: 20.340281030444963\n",
            "Número de quartos é: 6, Valor médio: 20.340281030444963\n",
            "Número de quartos é: 7, Valor médio: 38.396875\n",
            "Número de quartos é: 5, Valor médio: 20.340281030444963\n",
            "Número de quartos é: 5, Valor médio: 20.340281030444963\n",
            "Número de quartos é: 6, Valor médio: 20.340281030444963\n",
            "Número de quartos é: 6, Valor médio: 20.340281030444963\n",
            "Número de quartos é: 5, Valor médio: 20.340281030444963\n",
            "Número de quartos é: 5, Valor médio: 20.340281030444963\n",
            "Número de quartos é: 5, Valor médio: 20.340281030444963\n",
            "Número de quartos é: 5, Valor médio: 20.340281030444963\n",
            "Número de quartos é: 5, Valor médio: 20.340281030444963\n",
            "Número de quartos é: 5, Valor médio: 20.340281030444963\n",
            "Número de quartos é: 5, Valor médio: 20.340281030444963\n",
            "Número de quartos é: 5, Valor médio: 20.340281030444963\n",
            "Número de quartos é: 5, Valor médio: 20.340281030444963\n",
            "Número de quartos é: 5, Valor médio: 20.340281030444963\n",
            "Número de quartos é: 5, Valor médio: 20.340281030444963\n",
            "Número de quartos é: 6, Valor médio: 20.340281030444963\n",
            "Número de quartos é: 5, Valor médio: 20.340281030444963\n",
            "Número de quartos é: 6, Valor médio: 20.340281030444963\n",
            "Número de quartos é: 6, Valor médio: 20.340281030444963\n",
            "Número de quartos é: 6, Valor médio: 20.340281030444963\n",
            "Número de quartos é: 6, Valor médio: 20.340281030444963\n",
            "Número de quartos é: 6, Valor médio: 20.340281030444963\n",
            "Número de quartos é: 6, Valor médio: 20.340281030444963\n"
          ]
        }
      ],
      "source": [
        "# Executando a função para todos os registros (variável: RM) da base de dados (coleção) para verificar a função;\n",
        "for n_quartos in data['RM']:\n",
        "  print('Número de quartos é: {}, Valor médio: {}'.format(n_quartos, retorna_baseline(n_quartos)))\n"
      ]
    },
    {
      "cell_type": "markdown",
      "metadata": {
        "id": "pVbPwXjqn7V_"
      },
      "source": [
        "#Preparação dos dados para aplicação do Baseline e dos algoritmos de Machine Learning\n"
      ]
    },
    {
      "cell_type": "code",
      "execution_count": 180,
      "metadata": {
        "colab": {
          "base_uri": "https://localhost:8080/",
          "height": 206
        },
        "id": "XQElO47ooDJ9",
        "outputId": "abc832bb-09de-451c-abdb-1ec14fa0334f"
      },
      "outputs": [
        {
          "data": {
            "text/html": [
              "<div>\n",
              "<style scoped>\n",
              "    .dataframe tbody tr th:only-of-type {\n",
              "        vertical-align: middle;\n",
              "    }\n",
              "\n",
              "    .dataframe tbody tr th {\n",
              "        vertical-align: top;\n",
              "    }\n",
              "\n",
              "    .dataframe thead th {\n",
              "        text-align: right;\n",
              "    }\n",
              "</style>\n",
              "<table border=\"1\" class=\"dataframe\">\n",
              "  <thead>\n",
              "    <tr style=\"text-align: right;\">\n",
              "      <th></th>\n",
              "      <th>CRIM</th>\n",
              "      <th>ZN</th>\n",
              "      <th>INDUS</th>\n",
              "      <th>CHAS</th>\n",
              "      <th>NOX</th>\n",
              "      <th>RM</th>\n",
              "      <th>AGE</th>\n",
              "      <th>DIS</th>\n",
              "      <th>RAD</th>\n",
              "      <th>TAX</th>\n",
              "      <th>PTRATIO</th>\n",
              "      <th>B</th>\n",
              "      <th>LSTAT</th>\n",
              "      <th>MEDV</th>\n",
              "      <th>categorias</th>\n",
              "    </tr>\n",
              "  </thead>\n",
              "  <tbody>\n",
              "    <tr>\n",
              "      <th>0</th>\n",
              "      <td>0.00632</td>\n",
              "      <td>18.0</td>\n",
              "      <td>2.31</td>\n",
              "      <td>0.0</td>\n",
              "      <td>0.538</td>\n",
              "      <td>6</td>\n",
              "      <td>65.2</td>\n",
              "      <td>4.0900</td>\n",
              "      <td>1.0</td>\n",
              "      <td>296.0</td>\n",
              "      <td>15.3</td>\n",
              "      <td>396.90</td>\n",
              "      <td>4.98</td>\n",
              "      <td>24.0</td>\n",
              "      <td>Medio</td>\n",
              "    </tr>\n",
              "    <tr>\n",
              "      <th>1</th>\n",
              "      <td>0.02731</td>\n",
              "      <td>0.0</td>\n",
              "      <td>7.07</td>\n",
              "      <td>0.0</td>\n",
              "      <td>0.469</td>\n",
              "      <td>6</td>\n",
              "      <td>78.9</td>\n",
              "      <td>4.9671</td>\n",
              "      <td>2.0</td>\n",
              "      <td>242.0</td>\n",
              "      <td>17.8</td>\n",
              "      <td>396.90</td>\n",
              "      <td>9.14</td>\n",
              "      <td>21.6</td>\n",
              "      <td>Medio</td>\n",
              "    </tr>\n",
              "    <tr>\n",
              "      <th>2</th>\n",
              "      <td>0.02729</td>\n",
              "      <td>0.0</td>\n",
              "      <td>7.07</td>\n",
              "      <td>0.0</td>\n",
              "      <td>0.469</td>\n",
              "      <td>7</td>\n",
              "      <td>61.1</td>\n",
              "      <td>4.9671</td>\n",
              "      <td>2.0</td>\n",
              "      <td>242.0</td>\n",
              "      <td>17.8</td>\n",
              "      <td>392.83</td>\n",
              "      <td>4.03</td>\n",
              "      <td>34.7</td>\n",
              "      <td>Grande</td>\n",
              "    </tr>\n",
              "    <tr>\n",
              "      <th>3</th>\n",
              "      <td>0.03237</td>\n",
              "      <td>0.0</td>\n",
              "      <td>2.18</td>\n",
              "      <td>0.0</td>\n",
              "      <td>0.458</td>\n",
              "      <td>6</td>\n",
              "      <td>45.8</td>\n",
              "      <td>6.0622</td>\n",
              "      <td>3.0</td>\n",
              "      <td>222.0</td>\n",
              "      <td>18.7</td>\n",
              "      <td>394.63</td>\n",
              "      <td>2.94</td>\n",
              "      <td>33.4</td>\n",
              "      <td>Medio</td>\n",
              "    </tr>\n",
              "    <tr>\n",
              "      <th>4</th>\n",
              "      <td>0.06905</td>\n",
              "      <td>0.0</td>\n",
              "      <td>2.18</td>\n",
              "      <td>0.0</td>\n",
              "      <td>0.458</td>\n",
              "      <td>7</td>\n",
              "      <td>54.2</td>\n",
              "      <td>6.0622</td>\n",
              "      <td>3.0</td>\n",
              "      <td>222.0</td>\n",
              "      <td>18.7</td>\n",
              "      <td>396.90</td>\n",
              "      <td>5.33</td>\n",
              "      <td>36.2</td>\n",
              "      <td>Grande</td>\n",
              "    </tr>\n",
              "  </tbody>\n",
              "</table>\n",
              "</div>"
            ],
            "text/plain": [
              "      CRIM    ZN  INDUS  CHAS    NOX  RM   AGE     DIS  RAD    TAX  PTRATIO  \\\n",
              "0  0.00632  18.0   2.31   0.0  0.538   6  65.2  4.0900  1.0  296.0     15.3   \n",
              "1  0.02731   0.0   7.07   0.0  0.469   6  78.9  4.9671  2.0  242.0     17.8   \n",
              "2  0.02729   0.0   7.07   0.0  0.469   7  61.1  4.9671  2.0  242.0     17.8   \n",
              "3  0.03237   0.0   2.18   0.0  0.458   6  45.8  6.0622  3.0  222.0     18.7   \n",
              "4  0.06905   0.0   2.18   0.0  0.458   7  54.2  6.0622  3.0  222.0     18.7   \n",
              "\n",
              "        B  LSTAT  MEDV categorias  \n",
              "0  396.90   4.98  24.0      Medio  \n",
              "1  396.90   9.14  21.6      Medio  \n",
              "2  392.83   4.03  34.7     Grande  \n",
              "3  394.63   2.94  33.4      Medio  \n",
              "4  396.90   5.33  36.2     Grande  "
            ]
          },
          "execution_count": 180,
          "metadata": {},
          "output_type": "execute_result"
        }
      ],
      "source": [
        "#Analisando a base de dados (coleção), visualizando suas cinco primeiras linhas (`head`)\n",
        "data.head()"
      ]
    },
    {
      "cell_type": "code",
      "execution_count": 181,
      "metadata": {
        "id": "ZN0RagpooTnV"
      },
      "outputs": [],
      "source": [
        "#Preparando os dados"
      ]
    },
    {
      "cell_type": "code",
      "execution_count": 182,
      "metadata": {
        "id": "cvrCS8h5oXkC"
      },
      "outputs": [],
      "source": [
        "# Criando o X\n",
        "X = data.drop(['RAD','TAX','MEDV','DIS','AGE','ZN','categorias'], axis=1)"
      ]
    },
    {
      "cell_type": "code",
      "execution_count": 183,
      "metadata": {
        "id": "8CDX2mGaobKc"
      },
      "outputs": [],
      "source": [
        "#Criar o Y (a variável target é o que pretendemos prever)\n",
        "# Variável 'y' é nossa variável alvo (Target)\n",
        "y = data['MEDV']"
      ]
    },
    {
      "cell_type": "code",
      "execution_count": 184,
      "metadata": {
        "colab": {
          "base_uri": "https://localhost:8080/",
          "height": 206
        },
        "id": "JKwkKU99om5G",
        "outputId": "4083d12b-8077-4ca6-c437-4b8e4172f93e"
      },
      "outputs": [
        {
          "data": {
            "text/html": [
              "<div>\n",
              "<style scoped>\n",
              "    .dataframe tbody tr th:only-of-type {\n",
              "        vertical-align: middle;\n",
              "    }\n",
              "\n",
              "    .dataframe tbody tr th {\n",
              "        vertical-align: top;\n",
              "    }\n",
              "\n",
              "    .dataframe thead th {\n",
              "        text-align: right;\n",
              "    }\n",
              "</style>\n",
              "<table border=\"1\" class=\"dataframe\">\n",
              "  <thead>\n",
              "    <tr style=\"text-align: right;\">\n",
              "      <th></th>\n",
              "      <th>CRIM</th>\n",
              "      <th>INDUS</th>\n",
              "      <th>CHAS</th>\n",
              "      <th>NOX</th>\n",
              "      <th>RM</th>\n",
              "      <th>PTRATIO</th>\n",
              "      <th>B</th>\n",
              "      <th>LSTAT</th>\n",
              "    </tr>\n",
              "  </thead>\n",
              "  <tbody>\n",
              "    <tr>\n",
              "      <th>0</th>\n",
              "      <td>0.00632</td>\n",
              "      <td>2.31</td>\n",
              "      <td>0.0</td>\n",
              "      <td>0.538</td>\n",
              "      <td>6</td>\n",
              "      <td>15.3</td>\n",
              "      <td>396.90</td>\n",
              "      <td>4.98</td>\n",
              "    </tr>\n",
              "    <tr>\n",
              "      <th>1</th>\n",
              "      <td>0.02731</td>\n",
              "      <td>7.07</td>\n",
              "      <td>0.0</td>\n",
              "      <td>0.469</td>\n",
              "      <td>6</td>\n",
              "      <td>17.8</td>\n",
              "      <td>396.90</td>\n",
              "      <td>9.14</td>\n",
              "    </tr>\n",
              "    <tr>\n",
              "      <th>2</th>\n",
              "      <td>0.02729</td>\n",
              "      <td>7.07</td>\n",
              "      <td>0.0</td>\n",
              "      <td>0.469</td>\n",
              "      <td>7</td>\n",
              "      <td>17.8</td>\n",
              "      <td>392.83</td>\n",
              "      <td>4.03</td>\n",
              "    </tr>\n",
              "    <tr>\n",
              "      <th>3</th>\n",
              "      <td>0.03237</td>\n",
              "      <td>2.18</td>\n",
              "      <td>0.0</td>\n",
              "      <td>0.458</td>\n",
              "      <td>6</td>\n",
              "      <td>18.7</td>\n",
              "      <td>394.63</td>\n",
              "      <td>2.94</td>\n",
              "    </tr>\n",
              "    <tr>\n",
              "      <th>4</th>\n",
              "      <td>0.06905</td>\n",
              "      <td>2.18</td>\n",
              "      <td>0.0</td>\n",
              "      <td>0.458</td>\n",
              "      <td>7</td>\n",
              "      <td>18.7</td>\n",
              "      <td>396.90</td>\n",
              "      <td>5.33</td>\n",
              "    </tr>\n",
              "  </tbody>\n",
              "</table>\n",
              "</div>"
            ],
            "text/plain": [
              "      CRIM  INDUS  CHAS    NOX  RM  PTRATIO       B  LSTAT\n",
              "0  0.00632   2.31   0.0  0.538   6     15.3  396.90   4.98\n",
              "1  0.02731   7.07   0.0  0.469   6     17.8  396.90   9.14\n",
              "2  0.02729   7.07   0.0  0.469   7     17.8  392.83   4.03\n",
              "3  0.03237   2.18   0.0  0.458   6     18.7  394.63   2.94\n",
              "4  0.06905   2.18   0.0  0.458   7     18.7  396.90   5.33"
            ]
          },
          "execution_count": 184,
          "metadata": {},
          "output_type": "execute_result"
        }
      ],
      "source": [
        "#Visualizando as primeiras linhas das variáveis X;\n",
        "X.head()"
      ]
    },
    {
      "cell_type": "code",
      "execution_count": 185,
      "metadata": {
        "colab": {
          "base_uri": "https://localhost:8080/"
        },
        "id": "xoEarNuBowgu",
        "outputId": "8bc7e6da-ece8-42d3-fd01-598d82e94990"
      },
      "outputs": [
        {
          "data": {
            "text/plain": [
              "0    24.0\n",
              "1    21.6\n",
              "2    34.7\n",
              "3    33.4\n",
              "4    36.2\n",
              "Name: MEDV, dtype: float64"
            ]
          },
          "execution_count": 185,
          "metadata": {},
          "output_type": "execute_result"
        }
      ],
      "source": [
        "#Visualizando as primeiras linhas das variáveis Y;\n",
        "y.head()"
      ]
    },
    {
      "cell_type": "code",
      "execution_count": 186,
      "metadata": {
        "id": "ptuHak5lpJBE"
      },
      "outputs": [],
      "source": [
        "#Separando os conjuntos de treino e teste, com a base criada de x e y;"
      ]
    },
    {
      "cell_type": "code",
      "execution_count": 187,
      "metadata": {
        "id": "IsVOcr3SpQHK"
      },
      "outputs": [],
      "source": [
        "# Carrega o método train_test_split\n",
        "#!pip install scikit-learn\n",
        "from sklearn.model_selection import train_test_split\n"
      ]
    },
    {
      "cell_type": "code",
      "execution_count": 188,
      "metadata": {
        "id": "OpIzIYQEpRjk"
      },
      "outputs": [],
      "source": [
        "# divide os dados entre o conjunto de treino e teste, 80% e 20%.\n",
        "# define um random_state - quando utilizar esse valor em qualquer lugar, retornará os mesmos dados\n",
        "\n",
        "X_train, X_test, y_train, y_test = train_test_split(X, y, test_size = 0.2, random_state=5)"
      ]
    },
    {
      "cell_type": "code",
      "execution_count": 189,
      "metadata": {
        "colab": {
          "base_uri": "https://localhost:8080/"
        },
        "id": "7XjviFm0pYJz",
        "outputId": "9d17996c-0798-45fc-88f2-724ddd8c7c2c"
      },
      "outputs": [
        {
          "name": "stdout",
          "output_type": "stream",
          "text": [
            "X_train: numero de linhas e colunas: (404, 8)\n",
            "X_test: numero de linhas e colunas: (102, 8)\n",
            "y_train: numero de linhas e colunas: (404,)\n",
            "y_test: numero de linhas e colunas: (102,)\n"
          ]
        }
      ],
      "source": [
        "# Visualizando a quantidade de linhas dos conjuntos criados acima;\n",
        "print ('X_train: numero de linhas e colunas: {}'.format(X_train.shape))\n",
        "print ('X_test: numero de linhas e colunas: {}'.format(X_test.shape))\n",
        "print ('y_train: numero de linhas e colunas: {}'.format(y_train.shape))\n",
        "print ('y_test: numero de linhas e colunas: {}'.format(y_test.shape))"
      ]
    },
    {
      "cell_type": "markdown",
      "metadata": {
        "id": "Sic4MtFFpcL8"
      },
      "source": [
        "#Aplicando o Modelo de Baseline"
      ]
    },
    {
      "cell_type": "code",
      "execution_count": 190,
      "metadata": {
        "id": "lPWitnYipgao"
      },
      "outputs": [],
      "source": [
        "#Aplicando apenas a média das categorias criadas com base nos números de quartos (explicadas anteriormente)`"
      ]
    },
    {
      "cell_type": "code",
      "execution_count": 191,
      "metadata": {
        "colab": {
          "base_uri": "https://localhost:8080/",
          "height": 206
        },
        "id": "H7X-z9U7pjM7",
        "outputId": "be00d3c1-35f3-4ff5-ead8-2e511f9c40ad"
      },
      "outputs": [
        {
          "data": {
            "text/html": [
              "<div>\n",
              "<style scoped>\n",
              "    .dataframe tbody tr th:only-of-type {\n",
              "        vertical-align: middle;\n",
              "    }\n",
              "\n",
              "    .dataframe tbody tr th {\n",
              "        vertical-align: top;\n",
              "    }\n",
              "\n",
              "    .dataframe thead th {\n",
              "        text-align: right;\n",
              "    }\n",
              "</style>\n",
              "<table border=\"1\" class=\"dataframe\">\n",
              "  <thead>\n",
              "    <tr style=\"text-align: right;\">\n",
              "      <th></th>\n",
              "      <th>CRIM</th>\n",
              "      <th>INDUS</th>\n",
              "      <th>CHAS</th>\n",
              "      <th>NOX</th>\n",
              "      <th>RM</th>\n",
              "      <th>PTRATIO</th>\n",
              "      <th>B</th>\n",
              "      <th>LSTAT</th>\n",
              "    </tr>\n",
              "  </thead>\n",
              "  <tbody>\n",
              "    <tr>\n",
              "      <th>226</th>\n",
              "      <td>0.38214</td>\n",
              "      <td>6.20</td>\n",
              "      <td>0.0</td>\n",
              "      <td>0.504</td>\n",
              "      <td>8</td>\n",
              "      <td>17.4</td>\n",
              "      <td>387.38</td>\n",
              "      <td>3.13</td>\n",
              "    </tr>\n",
              "    <tr>\n",
              "      <th>292</th>\n",
              "      <td>0.03615</td>\n",
              "      <td>4.95</td>\n",
              "      <td>0.0</td>\n",
              "      <td>0.411</td>\n",
              "      <td>6</td>\n",
              "      <td>19.2</td>\n",
              "      <td>396.90</td>\n",
              "      <td>4.70</td>\n",
              "    </tr>\n",
              "    <tr>\n",
              "      <th>90</th>\n",
              "      <td>0.04684</td>\n",
              "      <td>3.41</td>\n",
              "      <td>0.0</td>\n",
              "      <td>0.489</td>\n",
              "      <td>6</td>\n",
              "      <td>17.8</td>\n",
              "      <td>392.18</td>\n",
              "      <td>8.81</td>\n",
              "    </tr>\n",
              "    <tr>\n",
              "      <th>373</th>\n",
              "      <td>11.10810</td>\n",
              "      <td>18.10</td>\n",
              "      <td>0.0</td>\n",
              "      <td>0.668</td>\n",
              "      <td>4</td>\n",
              "      <td>20.2</td>\n",
              "      <td>396.90</td>\n",
              "      <td>34.77</td>\n",
              "    </tr>\n",
              "    <tr>\n",
              "      <th>273</th>\n",
              "      <td>0.22188</td>\n",
              "      <td>6.96</td>\n",
              "      <td>1.0</td>\n",
              "      <td>0.464</td>\n",
              "      <td>7</td>\n",
              "      <td>18.6</td>\n",
              "      <td>390.77</td>\n",
              "      <td>6.58</td>\n",
              "    </tr>\n",
              "  </tbody>\n",
              "</table>\n",
              "</div>"
            ],
            "text/plain": [
              "         CRIM  INDUS  CHAS    NOX  RM  PTRATIO       B  LSTAT\n",
              "226   0.38214   6.20   0.0  0.504   8     17.4  387.38   3.13\n",
              "292   0.03615   4.95   0.0  0.411   6     19.2  396.90   4.70\n",
              "90    0.04684   3.41   0.0  0.489   6     17.8  392.18   8.81\n",
              "373  11.10810  18.10   0.0  0.668   4     20.2  396.90  34.77\n",
              "273   0.22188   6.96   1.0  0.464   7     18.6  390.77   6.58"
            ]
          },
          "execution_count": 191,
          "metadata": {},
          "output_type": "execute_result"
        }
      ],
      "source": [
        "#Visualizando as cinco primeiras linhas dos dados de teste (X_test)\n",
        "X_test.head()"
      ]
    },
    {
      "cell_type": "code",
      "execution_count": 192,
      "metadata": {
        "id": "wVZXCoQvqHyF"
      },
      "outputs": [],
      "source": [
        "#Criando um variável (predição - lista), que vai armazenar a predição, com base no baseline (variável RM - número de quartos), para cada um dos registros de teste (X_teste)\n",
        "predicoes = []"
      ]
    },
    {
      "cell_type": "code",
      "execution_count": 193,
      "metadata": {
        "colab": {
          "base_uri": "https://localhost:8080/"
        },
        "id": "gFK2wSDRqvi4",
        "outputId": "abaa2559-20d6-47a1-97a1-143a8662da92"
      },
      "outputs": [],
      "source": [
        "#Para cada registro do teste (X_test) alimenta a Lista Predições;\n",
        "for n_quartos in X_test['RM']:\n",
        "  predicoes.append(retorna_baseline(n_quartos))"
      ]
    },
    {
      "cell_type": "code",
      "execution_count": 194,
      "metadata": {
        "colab": {
          "base_uri": "https://localhost:8080/"
        },
        "id": "Zt2BdCU8qzn-",
        "outputId": "8e91a88a-a064-436c-91ea-56d6d0a9593f"
      },
      "outputs": [
        {
          "data": {
            "text/plain": [
              "[38.396875,\n",
              " 20.340281030444963,\n",
              " 20.340281030444963,\n",
              " 17.259999999999998,\n",
              " 38.396875,\n",
              " 20.340281030444963,\n",
              " 20.340281030444963,\n",
              " 20.340281030444963,\n",
              " 20.340281030444963,\n",
              " 20.340281030444963]"
            ]
          },
          "execution_count": 194,
          "metadata": {},
          "output_type": "execute_result"
        }
      ],
      "source": [
        "# Visualizando as 10 primeiras linhas da Lista de Predições\n",
        "predicoes[:10]"
      ]
    },
    {
      "cell_type": "markdown",
      "metadata": {
        "id": "oMVhLhyvq4XK"
      },
      "source": [
        "#Log dos Modelos Gerados"
      ]
    },
    {
      "cell_type": "code",
      "execution_count": 195,
      "metadata": {
        "id": "BFL1yU2Gq60p"
      },
      "outputs": [],
      "source": [
        "#Histórico das análises e suas evoluções, permitindo a evolução dado o baseline;"
      ]
    },
    {
      "cell_type": "code",
      "execution_count": 196,
      "metadata": {
        "id": "pKdS6UGbrXwn"
      },
      "outputs": [],
      "source": [
        "# Cria um dataframe (df_results) vazio\n",
        "df_results = pd.DataFrame()"
      ]
    },
    {
      "cell_type": "code",
      "execution_count": 197,
      "metadata": {
        "id": "qg04pkzArY35"
      },
      "outputs": [],
      "source": [
        "#Adicionando ao dataframe (df_results) o valor real do y_test (colune: valor_real)\n",
        "df_results['valor_real'] = y_test.values"
      ]
    },
    {
      "cell_type": "code",
      "execution_count": 198,
      "metadata": {
        "id": "OVr8v2ABtGoY"
      },
      "outputs": [],
      "source": [
        "#Adicionanado ao dataframe (df_results) o valor predito pelo baseline (coluna: valor_predito_baseline)\n",
        "df_results['valor_predito_baseline'] = predicoes"
      ]
    },
    {
      "cell_type": "code",
      "execution_count": 199,
      "metadata": {
        "colab": {
          "base_uri": "https://localhost:8080/",
          "height": 363
        },
        "id": "V6e7cRfBtxnh",
        "outputId": "0723e68c-46db-4ac3-d5a1-ef4d4947ec2f"
      },
      "outputs": [
        {
          "data": {
            "text/html": [
              "<div>\n",
              "<style scoped>\n",
              "    .dataframe tbody tr th:only-of-type {\n",
              "        vertical-align: middle;\n",
              "    }\n",
              "\n",
              "    .dataframe tbody tr th {\n",
              "        vertical-align: top;\n",
              "    }\n",
              "\n",
              "    .dataframe thead th {\n",
              "        text-align: right;\n",
              "    }\n",
              "</style>\n",
              "<table border=\"1\" class=\"dataframe\">\n",
              "  <thead>\n",
              "    <tr style=\"text-align: right;\">\n",
              "      <th></th>\n",
              "      <th>valor_real</th>\n",
              "      <th>valor_predito_baseline</th>\n",
              "    </tr>\n",
              "  </thead>\n",
              "  <tbody>\n",
              "    <tr>\n",
              "      <th>0</th>\n",
              "      <td>37.6</td>\n",
              "      <td>38.396875</td>\n",
              "    </tr>\n",
              "    <tr>\n",
              "      <th>1</th>\n",
              "      <td>27.9</td>\n",
              "      <td>20.340281</td>\n",
              "    </tr>\n",
              "    <tr>\n",
              "      <th>2</th>\n",
              "      <td>22.6</td>\n",
              "      <td>20.340281</td>\n",
              "    </tr>\n",
              "    <tr>\n",
              "      <th>3</th>\n",
              "      <td>13.8</td>\n",
              "      <td>17.260000</td>\n",
              "    </tr>\n",
              "    <tr>\n",
              "      <th>4</th>\n",
              "      <td>35.2</td>\n",
              "      <td>38.396875</td>\n",
              "    </tr>\n",
              "    <tr>\n",
              "      <th>5</th>\n",
              "      <td>10.4</td>\n",
              "      <td>20.340281</td>\n",
              "    </tr>\n",
              "    <tr>\n",
              "      <th>6</th>\n",
              "      <td>23.9</td>\n",
              "      <td>20.340281</td>\n",
              "    </tr>\n",
              "    <tr>\n",
              "      <th>7</th>\n",
              "      <td>29.0</td>\n",
              "      <td>20.340281</td>\n",
              "    </tr>\n",
              "    <tr>\n",
              "      <th>8</th>\n",
              "      <td>22.8</td>\n",
              "      <td>20.340281</td>\n",
              "    </tr>\n",
              "    <tr>\n",
              "      <th>9</th>\n",
              "      <td>23.2</td>\n",
              "      <td>20.340281</td>\n",
              "    </tr>\n",
              "  </tbody>\n",
              "</table>\n",
              "</div>"
            ],
            "text/plain": [
              "   valor_real  valor_predito_baseline\n",
              "0        37.6               38.396875\n",
              "1        27.9               20.340281\n",
              "2        22.6               20.340281\n",
              "3        13.8               17.260000\n",
              "4        35.2               38.396875\n",
              "5        10.4               20.340281\n",
              "6        23.9               20.340281\n",
              "7        29.0               20.340281\n",
              "8        22.8               20.340281\n",
              "9        23.2               20.340281"
            ]
          },
          "execution_count": 199,
          "metadata": {},
          "output_type": "execute_result"
        }
      ],
      "source": [
        "#Visualizando as 10 primeiras linhas do df_results (até agora com o valor original e o valor previsto pela baseline);\n",
        "df_results.head(10)"
      ]
    },
    {
      "cell_type": "code",
      "execution_count": 200,
      "metadata": {
        "colab": {
          "base_uri": "https://localhost:8080/",
          "height": 577
        },
        "id": "BK_Xcx1uxvOZ",
        "outputId": "b4fb876e-5e2d-4e4f-ba47-ff1a44a4f640"
      },
      "outputs": [
        {
          "data": {
            "application/vnd.plotly.v1+json": {
              "config": {
                "plotlyServerURL": "https://plot.ly"
              },
              "data": [
                {
                  "mode": "lines+markers",
                  "name": "Valor Real",
                  "type": "scatter",
                  "x": [
                    0,
                    1,
                    2,
                    3,
                    4,
                    5,
                    6,
                    7,
                    8,
                    9,
                    10,
                    11,
                    12,
                    13,
                    14,
                    15,
                    16,
                    17,
                    18,
                    19,
                    20,
                    21,
                    22,
                    23,
                    24,
                    25,
                    26,
                    27,
                    28,
                    29,
                    30,
                    31,
                    32,
                    33,
                    34,
                    35,
                    36,
                    37,
                    38,
                    39,
                    40,
                    41,
                    42,
                    43,
                    44,
                    45,
                    46,
                    47,
                    48,
                    49,
                    50,
                    51,
                    52,
                    53,
                    54,
                    55,
                    56,
                    57,
                    58,
                    59,
                    60,
                    61,
                    62,
                    63,
                    64,
                    65,
                    66,
                    67,
                    68,
                    69,
                    70,
                    71,
                    72,
                    73,
                    74,
                    75,
                    76,
                    77,
                    78,
                    79,
                    80,
                    81,
                    82,
                    83,
                    84,
                    85,
                    86,
                    87,
                    88,
                    89,
                    90,
                    91,
                    92,
                    93,
                    94,
                    95,
                    96,
                    97,
                    98,
                    99,
                    100,
                    101
                  ],
                  "y": [
                    37.6,
                    27.9,
                    22.6,
                    13.8,
                    35.2,
                    10.4,
                    23.9,
                    29,
                    22.8,
                    23.2,
                    33.2,
                    19,
                    20.3,
                    36.1,
                    24.4,
                    17.2,
                    17.9,
                    19.6,
                    19.7,
                    15,
                    8.1,
                    23,
                    44.8,
                    23.1,
                    32.2,
                    10.8,
                    23.1,
                    21.2,
                    22.2,
                    24.1,
                    17.3,
                    7,
                    12.7,
                    17.8,
                    26.4,
                    19.6,
                    25.1,
                    8.3,
                    48.8,
                    34.9,
                    13.8,
                    14.4,
                    30.1,
                    12.7,
                    27.1,
                    24.8,
                    7,
                    20.5,
                    21.5,
                    14,
                    20.4,
                    22.2,
                    21.4,
                    13.5,
                    19.4,
                    24.7,
                    43.8,
                    14.1,
                    28.6,
                    19.7,
                    16.8,
                    23.2,
                    16.2,
                    41.3,
                    22.7,
                    8.3,
                    18.4,
                    24.7,
                    21.7,
                    20.6,
                    16.7,
                    22.1,
                    19.4,
                    27.5,
                    27.9,
                    30.1,
                    17.4,
                    15.4,
                    31,
                    14.2,
                    19.6,
                    50,
                    21.7,
                    11.7,
                    19.4,
                    13,
                    17.5,
                    9.7,
                    20.3,
                    18.6,
                    50,
                    19.6,
                    21.4,
                    18.4,
                    22.6,
                    25,
                    15.6,
                    26.6,
                    22.4,
                    13.1,
                    23,
                    24.5
                  ]
                },
                {
                  "mode": "lines+markers",
                  "name": "Valor Predito Baseline",
                  "type": "scatter",
                  "x": [
                    0,
                    1,
                    2,
                    3,
                    4,
                    5,
                    6,
                    7,
                    8,
                    9,
                    10,
                    11,
                    12,
                    13,
                    14,
                    15,
                    16,
                    17,
                    18,
                    19,
                    20,
                    21,
                    22,
                    23,
                    24,
                    25,
                    26,
                    27,
                    28,
                    29,
                    30,
                    31,
                    32,
                    33,
                    34,
                    35,
                    36,
                    37,
                    38,
                    39,
                    40,
                    41,
                    42,
                    43,
                    44,
                    45,
                    46,
                    47,
                    48,
                    49,
                    50,
                    51,
                    52,
                    53,
                    54,
                    55,
                    56,
                    57,
                    58,
                    59,
                    60,
                    61,
                    62,
                    63,
                    64,
                    65,
                    66,
                    67,
                    68,
                    69,
                    70,
                    71,
                    72,
                    73,
                    74,
                    75,
                    76,
                    77,
                    78,
                    79,
                    80,
                    81,
                    82,
                    83,
                    84,
                    85,
                    86,
                    87,
                    88,
                    89,
                    90,
                    91,
                    92,
                    93,
                    94,
                    95,
                    96,
                    97,
                    98,
                    99,
                    100,
                    101
                  ],
                  "y": [
                    38.396875,
                    20.340281030444963,
                    20.340281030444963,
                    17.259999999999998,
                    38.396875,
                    20.340281030444963,
                    20.340281030444963,
                    20.340281030444963,
                    20.340281030444963,
                    20.340281030444963,
                    38.396875,
                    20.340281030444963,
                    20.340281030444963,
                    38.396875,
                    20.340281030444963,
                    20.340281030444963,
                    17.259999999999998,
                    20.340281030444963,
                    20.340281030444963,
                    20.340281030444963,
                    20.340281030444963,
                    20.340281030444963,
                    38.396875,
                    20.340281030444963,
                    38.396875,
                    20.340281030444963,
                    20.340281030444963,
                    20.340281030444963,
                    20.340281030444963,
                    20.340281030444963,
                    20.340281030444963,
                    20.340281030444963,
                    20.340281030444963,
                    38.396875,
                    20.340281030444963,
                    20.340281030444963,
                    20.340281030444963,
                    20.340281030444963,
                    38.396875,
                    38.396875,
                    20.340281030444963,
                    20.340281030444963,
                    20.340281030444963,
                    20.340281030444963,
                    20.340281030444963,
                    20.340281030444963,
                    17.259999999999998,
                    20.340281030444963,
                    20.340281030444963,
                    20.340281030444963,
                    20.340281030444963,
                    20.340281030444963,
                    20.340281030444963,
                    20.340281030444963,
                    20.340281030444963,
                    20.340281030444963,
                    38.396875,
                    20.340281030444963,
                    20.340281030444963,
                    20.340281030444963,
                    20.340281030444963,
                    20.340281030444963,
                    20.340281030444963,
                    20.340281030444963,
                    20.340281030444963,
                    20.340281030444963,
                    20.340281030444963,
                    20.340281030444963,
                    20.340281030444963,
                    20.340281030444963,
                    20.340281030444963,
                    20.340281030444963,
                    20.340281030444963,
                    20.340281030444963,
                    20.340281030444963,
                    20.340281030444963,
                    20.340281030444963,
                    20.340281030444963,
                    38.396875,
                    20.340281030444963,
                    20.340281030444963,
                    38.396875,
                    20.340281030444963,
                    20.340281030444963,
                    20.340281030444963,
                    20.340281030444963,
                    20.340281030444963,
                    20.340281030444963,
                    20.340281030444963,
                    20.340281030444963,
                    38.396875,
                    20.340281030444963,
                    20.340281030444963,
                    20.340281030444963,
                    20.340281030444963,
                    20.340281030444963,
                    20.340281030444963,
                    20.340281030444963,
                    20.340281030444963,
                    20.340281030444963,
                    20.340281030444963,
                    20.340281030444963
                  ]
                }
              ],
              "layout": {
                "template": {
                  "data": {
                    "bar": [
                      {
                        "error_x": {
                          "color": "#2a3f5f"
                        },
                        "error_y": {
                          "color": "#2a3f5f"
                        },
                        "marker": {
                          "line": {
                            "color": "#E5ECF6",
                            "width": 0.5
                          },
                          "pattern": {
                            "fillmode": "overlay",
                            "size": 10,
                            "solidity": 0.2
                          }
                        },
                        "type": "bar"
                      }
                    ],
                    "barpolar": [
                      {
                        "marker": {
                          "line": {
                            "color": "#E5ECF6",
                            "width": 0.5
                          },
                          "pattern": {
                            "fillmode": "overlay",
                            "size": 10,
                            "solidity": 0.2
                          }
                        },
                        "type": "barpolar"
                      }
                    ],
                    "carpet": [
                      {
                        "aaxis": {
                          "endlinecolor": "#2a3f5f",
                          "gridcolor": "white",
                          "linecolor": "white",
                          "minorgridcolor": "white",
                          "startlinecolor": "#2a3f5f"
                        },
                        "baxis": {
                          "endlinecolor": "#2a3f5f",
                          "gridcolor": "white",
                          "linecolor": "white",
                          "minorgridcolor": "white",
                          "startlinecolor": "#2a3f5f"
                        },
                        "type": "carpet"
                      }
                    ],
                    "choropleth": [
                      {
                        "colorbar": {
                          "outlinewidth": 0,
                          "ticks": ""
                        },
                        "type": "choropleth"
                      }
                    ],
                    "contour": [
                      {
                        "colorbar": {
                          "outlinewidth": 0,
                          "ticks": ""
                        },
                        "colorscale": [
                          [
                            0,
                            "#0d0887"
                          ],
                          [
                            0.1111111111111111,
                            "#46039f"
                          ],
                          [
                            0.2222222222222222,
                            "#7201a8"
                          ],
                          [
                            0.3333333333333333,
                            "#9c179e"
                          ],
                          [
                            0.4444444444444444,
                            "#bd3786"
                          ],
                          [
                            0.5555555555555556,
                            "#d8576b"
                          ],
                          [
                            0.6666666666666666,
                            "#ed7953"
                          ],
                          [
                            0.7777777777777778,
                            "#fb9f3a"
                          ],
                          [
                            0.8888888888888888,
                            "#fdca26"
                          ],
                          [
                            1,
                            "#f0f921"
                          ]
                        ],
                        "type": "contour"
                      }
                    ],
                    "contourcarpet": [
                      {
                        "colorbar": {
                          "outlinewidth": 0,
                          "ticks": ""
                        },
                        "type": "contourcarpet"
                      }
                    ],
                    "heatmap": [
                      {
                        "colorbar": {
                          "outlinewidth": 0,
                          "ticks": ""
                        },
                        "colorscale": [
                          [
                            0,
                            "#0d0887"
                          ],
                          [
                            0.1111111111111111,
                            "#46039f"
                          ],
                          [
                            0.2222222222222222,
                            "#7201a8"
                          ],
                          [
                            0.3333333333333333,
                            "#9c179e"
                          ],
                          [
                            0.4444444444444444,
                            "#bd3786"
                          ],
                          [
                            0.5555555555555556,
                            "#d8576b"
                          ],
                          [
                            0.6666666666666666,
                            "#ed7953"
                          ],
                          [
                            0.7777777777777778,
                            "#fb9f3a"
                          ],
                          [
                            0.8888888888888888,
                            "#fdca26"
                          ],
                          [
                            1,
                            "#f0f921"
                          ]
                        ],
                        "type": "heatmap"
                      }
                    ],
                    "heatmapgl": [
                      {
                        "colorbar": {
                          "outlinewidth": 0,
                          "ticks": ""
                        },
                        "colorscale": [
                          [
                            0,
                            "#0d0887"
                          ],
                          [
                            0.1111111111111111,
                            "#46039f"
                          ],
                          [
                            0.2222222222222222,
                            "#7201a8"
                          ],
                          [
                            0.3333333333333333,
                            "#9c179e"
                          ],
                          [
                            0.4444444444444444,
                            "#bd3786"
                          ],
                          [
                            0.5555555555555556,
                            "#d8576b"
                          ],
                          [
                            0.6666666666666666,
                            "#ed7953"
                          ],
                          [
                            0.7777777777777778,
                            "#fb9f3a"
                          ],
                          [
                            0.8888888888888888,
                            "#fdca26"
                          ],
                          [
                            1,
                            "#f0f921"
                          ]
                        ],
                        "type": "heatmapgl"
                      }
                    ],
                    "histogram": [
                      {
                        "marker": {
                          "pattern": {
                            "fillmode": "overlay",
                            "size": 10,
                            "solidity": 0.2
                          }
                        },
                        "type": "histogram"
                      }
                    ],
                    "histogram2d": [
                      {
                        "colorbar": {
                          "outlinewidth": 0,
                          "ticks": ""
                        },
                        "colorscale": [
                          [
                            0,
                            "#0d0887"
                          ],
                          [
                            0.1111111111111111,
                            "#46039f"
                          ],
                          [
                            0.2222222222222222,
                            "#7201a8"
                          ],
                          [
                            0.3333333333333333,
                            "#9c179e"
                          ],
                          [
                            0.4444444444444444,
                            "#bd3786"
                          ],
                          [
                            0.5555555555555556,
                            "#d8576b"
                          ],
                          [
                            0.6666666666666666,
                            "#ed7953"
                          ],
                          [
                            0.7777777777777778,
                            "#fb9f3a"
                          ],
                          [
                            0.8888888888888888,
                            "#fdca26"
                          ],
                          [
                            1,
                            "#f0f921"
                          ]
                        ],
                        "type": "histogram2d"
                      }
                    ],
                    "histogram2dcontour": [
                      {
                        "colorbar": {
                          "outlinewidth": 0,
                          "ticks": ""
                        },
                        "colorscale": [
                          [
                            0,
                            "#0d0887"
                          ],
                          [
                            0.1111111111111111,
                            "#46039f"
                          ],
                          [
                            0.2222222222222222,
                            "#7201a8"
                          ],
                          [
                            0.3333333333333333,
                            "#9c179e"
                          ],
                          [
                            0.4444444444444444,
                            "#bd3786"
                          ],
                          [
                            0.5555555555555556,
                            "#d8576b"
                          ],
                          [
                            0.6666666666666666,
                            "#ed7953"
                          ],
                          [
                            0.7777777777777778,
                            "#fb9f3a"
                          ],
                          [
                            0.8888888888888888,
                            "#fdca26"
                          ],
                          [
                            1,
                            "#f0f921"
                          ]
                        ],
                        "type": "histogram2dcontour"
                      }
                    ],
                    "mesh3d": [
                      {
                        "colorbar": {
                          "outlinewidth": 0,
                          "ticks": ""
                        },
                        "type": "mesh3d"
                      }
                    ],
                    "parcoords": [
                      {
                        "line": {
                          "colorbar": {
                            "outlinewidth": 0,
                            "ticks": ""
                          }
                        },
                        "type": "parcoords"
                      }
                    ],
                    "pie": [
                      {
                        "automargin": true,
                        "type": "pie"
                      }
                    ],
                    "scatter": [
                      {
                        "fillpattern": {
                          "fillmode": "overlay",
                          "size": 10,
                          "solidity": 0.2
                        },
                        "type": "scatter"
                      }
                    ],
                    "scatter3d": [
                      {
                        "line": {
                          "colorbar": {
                            "outlinewidth": 0,
                            "ticks": ""
                          }
                        },
                        "marker": {
                          "colorbar": {
                            "outlinewidth": 0,
                            "ticks": ""
                          }
                        },
                        "type": "scatter3d"
                      }
                    ],
                    "scattercarpet": [
                      {
                        "marker": {
                          "colorbar": {
                            "outlinewidth": 0,
                            "ticks": ""
                          }
                        },
                        "type": "scattercarpet"
                      }
                    ],
                    "scattergeo": [
                      {
                        "marker": {
                          "colorbar": {
                            "outlinewidth": 0,
                            "ticks": ""
                          }
                        },
                        "type": "scattergeo"
                      }
                    ],
                    "scattergl": [
                      {
                        "marker": {
                          "colorbar": {
                            "outlinewidth": 0,
                            "ticks": ""
                          }
                        },
                        "type": "scattergl"
                      }
                    ],
                    "scattermapbox": [
                      {
                        "marker": {
                          "colorbar": {
                            "outlinewidth": 0,
                            "ticks": ""
                          }
                        },
                        "type": "scattermapbox"
                      }
                    ],
                    "scatterpolar": [
                      {
                        "marker": {
                          "colorbar": {
                            "outlinewidth": 0,
                            "ticks": ""
                          }
                        },
                        "type": "scatterpolar"
                      }
                    ],
                    "scatterpolargl": [
                      {
                        "marker": {
                          "colorbar": {
                            "outlinewidth": 0,
                            "ticks": ""
                          }
                        },
                        "type": "scatterpolargl"
                      }
                    ],
                    "scatterternary": [
                      {
                        "marker": {
                          "colorbar": {
                            "outlinewidth": 0,
                            "ticks": ""
                          }
                        },
                        "type": "scatterternary"
                      }
                    ],
                    "surface": [
                      {
                        "colorbar": {
                          "outlinewidth": 0,
                          "ticks": ""
                        },
                        "colorscale": [
                          [
                            0,
                            "#0d0887"
                          ],
                          [
                            0.1111111111111111,
                            "#46039f"
                          ],
                          [
                            0.2222222222222222,
                            "#7201a8"
                          ],
                          [
                            0.3333333333333333,
                            "#9c179e"
                          ],
                          [
                            0.4444444444444444,
                            "#bd3786"
                          ],
                          [
                            0.5555555555555556,
                            "#d8576b"
                          ],
                          [
                            0.6666666666666666,
                            "#ed7953"
                          ],
                          [
                            0.7777777777777778,
                            "#fb9f3a"
                          ],
                          [
                            0.8888888888888888,
                            "#fdca26"
                          ],
                          [
                            1,
                            "#f0f921"
                          ]
                        ],
                        "type": "surface"
                      }
                    ],
                    "table": [
                      {
                        "cells": {
                          "fill": {
                            "color": "#EBF0F8"
                          },
                          "line": {
                            "color": "white"
                          }
                        },
                        "header": {
                          "fill": {
                            "color": "#C8D4E3"
                          },
                          "line": {
                            "color": "white"
                          }
                        },
                        "type": "table"
                      }
                    ]
                  },
                  "layout": {
                    "annotationdefaults": {
                      "arrowcolor": "#2a3f5f",
                      "arrowhead": 0,
                      "arrowwidth": 1
                    },
                    "autotypenumbers": "strict",
                    "coloraxis": {
                      "colorbar": {
                        "outlinewidth": 0,
                        "ticks": ""
                      }
                    },
                    "colorscale": {
                      "diverging": [
                        [
                          0,
                          "#8e0152"
                        ],
                        [
                          0.1,
                          "#c51b7d"
                        ],
                        [
                          0.2,
                          "#de77ae"
                        ],
                        [
                          0.3,
                          "#f1b6da"
                        ],
                        [
                          0.4,
                          "#fde0ef"
                        ],
                        [
                          0.5,
                          "#f7f7f7"
                        ],
                        [
                          0.6,
                          "#e6f5d0"
                        ],
                        [
                          0.7,
                          "#b8e186"
                        ],
                        [
                          0.8,
                          "#7fbc41"
                        ],
                        [
                          0.9,
                          "#4d9221"
                        ],
                        [
                          1,
                          "#276419"
                        ]
                      ],
                      "sequential": [
                        [
                          0,
                          "#0d0887"
                        ],
                        [
                          0.1111111111111111,
                          "#46039f"
                        ],
                        [
                          0.2222222222222222,
                          "#7201a8"
                        ],
                        [
                          0.3333333333333333,
                          "#9c179e"
                        ],
                        [
                          0.4444444444444444,
                          "#bd3786"
                        ],
                        [
                          0.5555555555555556,
                          "#d8576b"
                        ],
                        [
                          0.6666666666666666,
                          "#ed7953"
                        ],
                        [
                          0.7777777777777778,
                          "#fb9f3a"
                        ],
                        [
                          0.8888888888888888,
                          "#fdca26"
                        ],
                        [
                          1,
                          "#f0f921"
                        ]
                      ],
                      "sequentialminus": [
                        [
                          0,
                          "#0d0887"
                        ],
                        [
                          0.1111111111111111,
                          "#46039f"
                        ],
                        [
                          0.2222222222222222,
                          "#7201a8"
                        ],
                        [
                          0.3333333333333333,
                          "#9c179e"
                        ],
                        [
                          0.4444444444444444,
                          "#bd3786"
                        ],
                        [
                          0.5555555555555556,
                          "#d8576b"
                        ],
                        [
                          0.6666666666666666,
                          "#ed7953"
                        ],
                        [
                          0.7777777777777778,
                          "#fb9f3a"
                        ],
                        [
                          0.8888888888888888,
                          "#fdca26"
                        ],
                        [
                          1,
                          "#f0f921"
                        ]
                      ]
                    },
                    "colorway": [
                      "#636efa",
                      "#EF553B",
                      "#00cc96",
                      "#ab63fa",
                      "#FFA15A",
                      "#19d3f3",
                      "#FF6692",
                      "#B6E880",
                      "#FF97FF",
                      "#FECB52"
                    ],
                    "font": {
                      "color": "#2a3f5f"
                    },
                    "geo": {
                      "bgcolor": "white",
                      "lakecolor": "white",
                      "landcolor": "#E5ECF6",
                      "showlakes": true,
                      "showland": true,
                      "subunitcolor": "white"
                    },
                    "hoverlabel": {
                      "align": "left"
                    },
                    "hovermode": "closest",
                    "mapbox": {
                      "style": "light"
                    },
                    "paper_bgcolor": "white",
                    "plot_bgcolor": "#E5ECF6",
                    "polar": {
                      "angularaxis": {
                        "gridcolor": "white",
                        "linecolor": "white",
                        "ticks": ""
                      },
                      "bgcolor": "#E5ECF6",
                      "radialaxis": {
                        "gridcolor": "white",
                        "linecolor": "white",
                        "ticks": ""
                      }
                    },
                    "scene": {
                      "xaxis": {
                        "backgroundcolor": "#E5ECF6",
                        "gridcolor": "white",
                        "gridwidth": 2,
                        "linecolor": "white",
                        "showbackground": true,
                        "ticks": "",
                        "zerolinecolor": "white"
                      },
                      "yaxis": {
                        "backgroundcolor": "#E5ECF6",
                        "gridcolor": "white",
                        "gridwidth": 2,
                        "linecolor": "white",
                        "showbackground": true,
                        "ticks": "",
                        "zerolinecolor": "white"
                      },
                      "zaxis": {
                        "backgroundcolor": "#E5ECF6",
                        "gridcolor": "white",
                        "gridwidth": 2,
                        "linecolor": "white",
                        "showbackground": true,
                        "ticks": "",
                        "zerolinecolor": "white"
                      }
                    },
                    "shapedefaults": {
                      "line": {
                        "color": "#2a3f5f"
                      }
                    },
                    "ternary": {
                      "aaxis": {
                        "gridcolor": "white",
                        "linecolor": "white",
                        "ticks": ""
                      },
                      "baxis": {
                        "gridcolor": "white",
                        "linecolor": "white",
                        "ticks": ""
                      },
                      "bgcolor": "#E5ECF6",
                      "caxis": {
                        "gridcolor": "white",
                        "linecolor": "white",
                        "ticks": ""
                      }
                    },
                    "title": {
                      "x": 0.05
                    },
                    "xaxis": {
                      "automargin": true,
                      "gridcolor": "white",
                      "linecolor": "white",
                      "ticks": "",
                      "title": {
                        "standoff": 15
                      },
                      "zerolinecolor": "white",
                      "zerolinewidth": 2
                    },
                    "yaxis": {
                      "automargin": true,
                      "gridcolor": "white",
                      "linecolor": "white",
                      "ticks": "",
                      "title": {
                        "standoff": 15
                      },
                      "zerolinecolor": "white",
                      "zerolinewidth": 2
                    }
                  }
                }
              }
            }
          },
          "metadata": {},
          "output_type": "display_data"
        },
        {
          "name": "stdout",
          "output_type": "stream",
          "text": [
            "Podemos observar no plot acima que existe uma grande diferença entre o valor Real e o valor Predito pelo baseline.\n",
            "Vamos usar outros algoritmos de machine learning para tentar melhorar o valor.\n"
          ]
        }
      ],
      "source": [
        "#Visualização em gráfico valor real e o baseline para termos uma ideia de como ficaram essas predições do baseline;\n",
        "#pip install plotly\n",
        "#!pip install nbformat\n",
        "#!pip install ipykernel\n",
        "#!pip install --upgrade nbformat\n",
        "import plotly.graph_objects as go\n",
        "\n",
        "# Create traces\n",
        "fig = go.Figure()\n",
        "\n",
        "# Linha com os dados de teste\n",
        "fig.add_trace(go.Scatter(x=df_results.index,\n",
        "                         y=df_results.valor_real,\n",
        "                         mode='lines+markers',\n",
        "                         name='Valor Real'))\n",
        "\n",
        "# Linha com os dados preditos\n",
        "fig.add_trace(go.Scatter(x=df_results.index,\n",
        "                         y=df_results.valor_predito_baseline,\n",
        "                         mode='lines+markers',\n",
        "                         name='Valor Predito Baseline'))\n",
        "# Plota a figura\n",
        "fig.show()\n",
        "\n",
        "print('Podemos observar no plot acima que existe uma grande diferença entre o valor Real e o valor Predito pelo baseline.')\n",
        "print('Vamos usar outros algoritmos de machine learning para tentar melhorar o valor.')"
      ]
    },
    {
      "cell_type": "code",
      "execution_count": 201,
      "metadata": {
        "id": "yCiyYiKpyMLJ"
      },
      "outputs": [],
      "source": [
        "#Avaliando o modelo baseline, iremos utilizar o RMSE (*ROOT MEAN SQUARE ERROR*).\n",
        "from sklearn.metrics import mean_squared_error\n",
        "from math import sqrt"
      ]
    },
    {
      "cell_type": "code",
      "execution_count": 202,
      "metadata": {
        "id": "hOFBGwuPyU-J"
      },
      "outputs": [],
      "source": [
        "rmse = (np.sqrt(mean_squared_error(y_test, predicoes)))"
      ]
    },
    {
      "cell_type": "code",
      "execution_count": 203,
      "metadata": {
        "colab": {
          "base_uri": "https://localhost:8080/"
        },
        "id": "crVPggDmyWUi",
        "outputId": "3f5f1679-a4af-4849-db27-86d0b58916ba"
      },
      "outputs": [
        {
          "name": "stdout",
          "output_type": "stream",
          "text": [
            "Performance do modelo baseline:\n",
            "\n",
            "RMSE é: 6.327165389325235 \n"
          ]
        }
      ],
      "source": [
        "print('Performance do modelo baseline:')\n",
        "print('\\nRMSE é: {} '.format(rmse))\n",
        "\n",
        "# Quanto menor o valor do RMSE, melhor!"
      ]
    },
    {
      "cell_type": "markdown",
      "metadata": {
        "id": "jua5myguyZOL"
      },
      "source": [
        "# Aplicando o modelo de Regressão Linear"
      ]
    },
    {
      "cell_type": "code",
      "execution_count": 204,
      "metadata": {
        "id": "GFcgt1YjycDy"
      },
      "outputs": [],
      "source": [
        "#Devido a correlação entre algumas features vamos usar uma regressão linear, o modelo é simples e eficiente e a solução é rápida e robusta."
      ]
    },
    {
      "cell_type": "code",
      "execution_count": 205,
      "metadata": {
        "id": "FEN-hE7RysLZ"
      },
      "outputs": [],
      "source": [
        "#Carregando o pacote LinearRegression;\n",
        "from sklearn.linear_model import LinearRegression"
      ]
    },
    {
      "cell_type": "code",
      "execution_count": 206,
      "metadata": {
        "id": "dBxyP-z_yuKP"
      },
      "outputs": [],
      "source": [
        "#Criando o objeto do tipo LinearRegression;\n",
        "lin_model = LinearRegression()"
      ]
    },
    {
      "cell_type": "code",
      "execution_count": 207,
      "metadata": {
        "colab": {
          "base_uri": "https://localhost:8080/",
          "height": 75
        },
        "id": "evA7Nfe_ywwQ",
        "outputId": "b33a67ce-0b0f-4680-93cc-2aa41b720cbd"
      },
      "outputs": [
        {
          "data": {
            "text/html": [
              "<style>#sk-container-id-7 {color: black;}#sk-container-id-7 pre{padding: 0;}#sk-container-id-7 div.sk-toggleable {background-color: white;}#sk-container-id-7 label.sk-toggleable__label {cursor: pointer;display: block;width: 100%;margin-bottom: 0;padding: 0.3em;box-sizing: border-box;text-align: center;}#sk-container-id-7 label.sk-toggleable__label-arrow:before {content: \"▸\";float: left;margin-right: 0.25em;color: #696969;}#sk-container-id-7 label.sk-toggleable__label-arrow:hover:before {color: black;}#sk-container-id-7 div.sk-estimator:hover label.sk-toggleable__label-arrow:before {color: black;}#sk-container-id-7 div.sk-toggleable__content {max-height: 0;max-width: 0;overflow: hidden;text-align: left;background-color: #f0f8ff;}#sk-container-id-7 div.sk-toggleable__content pre {margin: 0.2em;color: black;border-radius: 0.25em;background-color: #f0f8ff;}#sk-container-id-7 input.sk-toggleable__control:checked~div.sk-toggleable__content {max-height: 200px;max-width: 100%;overflow: auto;}#sk-container-id-7 input.sk-toggleable__control:checked~label.sk-toggleable__label-arrow:before {content: \"▾\";}#sk-container-id-7 div.sk-estimator input.sk-toggleable__control:checked~label.sk-toggleable__label {background-color: #d4ebff;}#sk-container-id-7 div.sk-label input.sk-toggleable__control:checked~label.sk-toggleable__label {background-color: #d4ebff;}#sk-container-id-7 input.sk-hidden--visually {border: 0;clip: rect(1px 1px 1px 1px);clip: rect(1px, 1px, 1px, 1px);height: 1px;margin: -1px;overflow: hidden;padding: 0;position: absolute;width: 1px;}#sk-container-id-7 div.sk-estimator {font-family: monospace;background-color: #f0f8ff;border: 1px dotted black;border-radius: 0.25em;box-sizing: border-box;margin-bottom: 0.5em;}#sk-container-id-7 div.sk-estimator:hover {background-color: #d4ebff;}#sk-container-id-7 div.sk-parallel-item::after {content: \"\";width: 100%;border-bottom: 1px solid gray;flex-grow: 1;}#sk-container-id-7 div.sk-label:hover label.sk-toggleable__label {background-color: #d4ebff;}#sk-container-id-7 div.sk-serial::before {content: \"\";position: absolute;border-left: 1px solid gray;box-sizing: border-box;top: 0;bottom: 0;left: 50%;z-index: 0;}#sk-container-id-7 div.sk-serial {display: flex;flex-direction: column;align-items: center;background-color: white;padding-right: 0.2em;padding-left: 0.2em;position: relative;}#sk-container-id-7 div.sk-item {position: relative;z-index: 1;}#sk-container-id-7 div.sk-parallel {display: flex;align-items: stretch;justify-content: center;background-color: white;position: relative;}#sk-container-id-7 div.sk-item::before, #sk-container-id-7 div.sk-parallel-item::before {content: \"\";position: absolute;border-left: 1px solid gray;box-sizing: border-box;top: 0;bottom: 0;left: 50%;z-index: -1;}#sk-container-id-7 div.sk-parallel-item {display: flex;flex-direction: column;z-index: 1;position: relative;background-color: white;}#sk-container-id-7 div.sk-parallel-item:first-child::after {align-self: flex-end;width: 50%;}#sk-container-id-7 div.sk-parallel-item:last-child::after {align-self: flex-start;width: 50%;}#sk-container-id-7 div.sk-parallel-item:only-child::after {width: 0;}#sk-container-id-7 div.sk-dashed-wrapped {border: 1px dashed gray;margin: 0 0.4em 0.5em 0.4em;box-sizing: border-box;padding-bottom: 0.4em;background-color: white;}#sk-container-id-7 div.sk-label label {font-family: monospace;font-weight: bold;display: inline-block;line-height: 1.2em;}#sk-container-id-7 div.sk-label-container {text-align: center;}#sk-container-id-7 div.sk-container {/* jupyter's `normalize.less` sets `[hidden] { display: none; }` but bootstrap.min.css set `[hidden] { display: none !important; }` so we also need the `!important` here to be able to override the default hidden behavior on the sphinx rendered scikit-learn.org. See: https://github.com/scikit-learn/scikit-learn/issues/21755 */display: inline-block !important;position: relative;}#sk-container-id-7 div.sk-text-repr-fallback {display: none;}</style><div id=\"sk-container-id-7\" class=\"sk-top-container\"><div class=\"sk-text-repr-fallback\"><pre>LinearRegression()</pre><b>In a Jupyter environment, please rerun this cell to show the HTML representation or trust the notebook. <br />On GitHub, the HTML representation is unable to render, please try loading this page with nbviewer.org.</b></div><div class=\"sk-container\" hidden><div class=\"sk-item\"><div class=\"sk-estimator sk-toggleable\"><input class=\"sk-toggleable__control sk-hidden--visually\" id=\"sk-estimator-id-7\" type=\"checkbox\" checked><label for=\"sk-estimator-id-7\" class=\"sk-toggleable__label sk-toggleable__label-arrow\">LinearRegression</label><div class=\"sk-toggleable__content\"><pre>LinearRegression()</pre></div></div></div></div></div>"
            ],
            "text/plain": [
              "LinearRegression()"
            ]
          },
          "execution_count": 207,
          "metadata": {},
          "output_type": "execute_result"
        }
      ],
      "source": [
        "#Treinando o algoritmo e criando o modelo de regressão linear;\n",
        "lin_model.fit(X_train, y_train)"
      ]
    },
    {
      "cell_type": "code",
      "execution_count": 208,
      "metadata": {
        "id": "6EBc8x2jy3DW"
      },
      "outputs": [],
      "source": [
        "#avaliando o Modelo (lin_model) nos dados de teste (X_test);\n",
        "y_pred = lin_model.predict(X_test)"
      ]
    },
    {
      "cell_type": "code",
      "execution_count": 209,
      "metadata": {
        "id": "k0JZ8leUy7p6"
      },
      "outputs": [],
      "source": [
        "#Calculando a métrica RMSE;\n",
        "rmse = (np.sqrt(mean_squared_error(y_test, y_pred)))"
      ]
    },
    {
      "cell_type": "code",
      "execution_count": 210,
      "metadata": {
        "colab": {
          "base_uri": "https://localhost:8080/"
        },
        "id": "5RE1llexy_xz",
        "outputId": "1937f2b0-9eb2-4ca7-e239-2ce975ee523e"
      },
      "outputs": [
        {
          "name": "stdout",
          "output_type": "stream",
          "text": [
            "Performance do modelo (Regressão Linear) avaliado com os dados de teste:\n",
            "\n",
            "RMSE é: 5.140405968314253 \n",
            "Podemos observar que já diminuiu em relação a baseline.\n"
          ]
        }
      ],
      "source": [
        "#Visualizando a Performance do modelo utilizando Regressão Linear;\n",
        "print('Performance do modelo (Regressão Linear) avaliado com os dados de teste:')\n",
        "print('\\nRMSE é: {} '.format(rmse))\n",
        "\n",
        "print('Podemos observar que já diminuiu em relação a baseline.')"
      ]
    },
    {
      "cell_type": "code",
      "execution_count": 211,
      "metadata": {
        "id": "sgJSTNHMzH_s"
      },
      "outputs": [],
      "source": [
        "# Atribuindo os resultados da predição (Regressão Linear) ao dataframe df_results;\n",
        "df_results['valor_predito_reg_linear'] = lin_model.predict(X_test)"
      ]
    },
    {
      "cell_type": "code",
      "execution_count": 212,
      "metadata": {
        "colab": {
          "base_uri": "https://localhost:8080/",
          "height": 363
        },
        "id": "DAqSiwc0zLol",
        "outputId": "a97af25b-d489-4c9f-8935-054727a9a8f4"
      },
      "outputs": [
        {
          "data": {
            "text/html": [
              "<div>\n",
              "<style scoped>\n",
              "    .dataframe tbody tr th:only-of-type {\n",
              "        vertical-align: middle;\n",
              "    }\n",
              "\n",
              "    .dataframe tbody tr th {\n",
              "        vertical-align: top;\n",
              "    }\n",
              "\n",
              "    .dataframe thead th {\n",
              "        text-align: right;\n",
              "    }\n",
              "</style>\n",
              "<table border=\"1\" class=\"dataframe\">\n",
              "  <thead>\n",
              "    <tr style=\"text-align: right;\">\n",
              "      <th></th>\n",
              "      <th>valor_real</th>\n",
              "      <th>valor_predito_baseline</th>\n",
              "      <th>valor_predito_reg_linear</th>\n",
              "    </tr>\n",
              "  </thead>\n",
              "  <tbody>\n",
              "    <tr>\n",
              "      <th>0</th>\n",
              "      <td>37.6</td>\n",
              "      <td>38.396875</td>\n",
              "      <td>36.006464</td>\n",
              "    </tr>\n",
              "    <tr>\n",
              "      <th>1</th>\n",
              "      <td>27.9</td>\n",
              "      <td>20.340281</td>\n",
              "      <td>27.777128</td>\n",
              "    </tr>\n",
              "    <tr>\n",
              "      <th>2</th>\n",
              "      <td>22.6</td>\n",
              "      <td>20.340281</td>\n",
              "      <td>26.231909</td>\n",
              "    </tr>\n",
              "    <tr>\n",
              "      <th>3</th>\n",
              "      <td>13.8</td>\n",
              "      <td>17.260000</td>\n",
              "      <td>1.189552</td>\n",
              "    </tr>\n",
              "    <tr>\n",
              "      <th>4</th>\n",
              "      <td>35.2</td>\n",
              "      <td>38.396875</td>\n",
              "      <td>33.436667</td>\n",
              "    </tr>\n",
              "    <tr>\n",
              "      <th>5</th>\n",
              "      <td>10.4</td>\n",
              "      <td>20.340281</td>\n",
              "      <td>6.597715</td>\n",
              "    </tr>\n",
              "    <tr>\n",
              "      <th>6</th>\n",
              "      <td>23.9</td>\n",
              "      <td>20.340281</td>\n",
              "      <td>25.734054</td>\n",
              "    </tr>\n",
              "    <tr>\n",
              "      <th>7</th>\n",
              "      <td>29.0</td>\n",
              "      <td>20.340281</td>\n",
              "      <td>30.465789</td>\n",
              "    </tr>\n",
              "    <tr>\n",
              "      <th>8</th>\n",
              "      <td>22.8</td>\n",
              "      <td>20.340281</td>\n",
              "      <td>25.542830</td>\n",
              "    </tr>\n",
              "    <tr>\n",
              "      <th>9</th>\n",
              "      <td>23.2</td>\n",
              "      <td>20.340281</td>\n",
              "      <td>20.639646</td>\n",
              "    </tr>\n",
              "  </tbody>\n",
              "</table>\n",
              "</div>"
            ],
            "text/plain": [
              "   valor_real  valor_predito_baseline  valor_predito_reg_linear\n",
              "0        37.6               38.396875                 36.006464\n",
              "1        27.9               20.340281                 27.777128\n",
              "2        22.6               20.340281                 26.231909\n",
              "3        13.8               17.260000                  1.189552\n",
              "4        35.2               38.396875                 33.436667\n",
              "5        10.4               20.340281                  6.597715\n",
              "6        23.9               20.340281                 25.734054\n",
              "7        29.0               20.340281                 30.465789\n",
              "8        22.8               20.340281                 25.542830\n",
              "9        23.2               20.340281                 20.639646"
            ]
          },
          "execution_count": 212,
          "metadata": {},
          "output_type": "execute_result"
        }
      ],
      "source": [
        "df_results.head(10)"
      ]
    },
    {
      "cell_type": "code",
      "execution_count": 213,
      "metadata": {
        "id": "GcMOSSuOzODg"
      },
      "outputs": [],
      "source": [
        "#Aqui já observamos que os valores preditos através da Regressão Linear estão bem mais próximos aos valores reais;\n",
        "#Vamos criar um gráfico com três informações para visualizarmos melhor;"
      ]
    },
    {
      "cell_type": "code",
      "execution_count": 214,
      "metadata": {
        "colab": {
          "base_uri": "https://localhost:8080/",
          "height": 542
        },
        "id": "Lc7uw0iHzgqQ",
        "outputId": "b4854103-4f62-4baa-ce24-c21412018721"
      },
      "outputs": [
        {
          "data": {
            "application/vnd.plotly.v1+json": {
              "config": {
                "plotlyServerURL": "https://plot.ly"
              },
              "data": [
                {
                  "mode": "lines+markers",
                  "name": "Valor Real",
                  "type": "scatter",
                  "x": [
                    0,
                    1,
                    2,
                    3,
                    4,
                    5,
                    6,
                    7,
                    8,
                    9,
                    10,
                    11,
                    12,
                    13,
                    14,
                    15,
                    16,
                    17,
                    18,
                    19,
                    20,
                    21,
                    22,
                    23,
                    24,
                    25,
                    26,
                    27,
                    28,
                    29,
                    30,
                    31,
                    32,
                    33,
                    34,
                    35,
                    36,
                    37,
                    38,
                    39,
                    40,
                    41,
                    42,
                    43,
                    44,
                    45,
                    46,
                    47,
                    48,
                    49,
                    50,
                    51,
                    52,
                    53,
                    54,
                    55,
                    56,
                    57,
                    58,
                    59,
                    60,
                    61,
                    62,
                    63,
                    64,
                    65,
                    66,
                    67,
                    68,
                    69,
                    70,
                    71,
                    72,
                    73,
                    74,
                    75,
                    76,
                    77,
                    78,
                    79,
                    80,
                    81,
                    82,
                    83,
                    84,
                    85,
                    86,
                    87,
                    88,
                    89,
                    90,
                    91,
                    92,
                    93,
                    94,
                    95,
                    96,
                    97,
                    98,
                    99,
                    100,
                    101
                  ],
                  "y": [
                    37.6,
                    27.9,
                    22.6,
                    13.8,
                    35.2,
                    10.4,
                    23.9,
                    29,
                    22.8,
                    23.2,
                    33.2,
                    19,
                    20.3,
                    36.1,
                    24.4,
                    17.2,
                    17.9,
                    19.6,
                    19.7,
                    15,
                    8.1,
                    23,
                    44.8,
                    23.1,
                    32.2,
                    10.8,
                    23.1,
                    21.2,
                    22.2,
                    24.1,
                    17.3,
                    7,
                    12.7,
                    17.8,
                    26.4,
                    19.6,
                    25.1,
                    8.3,
                    48.8,
                    34.9,
                    13.8,
                    14.4,
                    30.1,
                    12.7,
                    27.1,
                    24.8,
                    7,
                    20.5,
                    21.5,
                    14,
                    20.4,
                    22.2,
                    21.4,
                    13.5,
                    19.4,
                    24.7,
                    43.8,
                    14.1,
                    28.6,
                    19.7,
                    16.8,
                    23.2,
                    16.2,
                    41.3,
                    22.7,
                    8.3,
                    18.4,
                    24.7,
                    21.7,
                    20.6,
                    16.7,
                    22.1,
                    19.4,
                    27.5,
                    27.9,
                    30.1,
                    17.4,
                    15.4,
                    31,
                    14.2,
                    19.6,
                    50,
                    21.7,
                    11.7,
                    19.4,
                    13,
                    17.5,
                    9.7,
                    20.3,
                    18.6,
                    50,
                    19.6,
                    21.4,
                    18.4,
                    22.6,
                    25,
                    15.6,
                    26.6,
                    22.4,
                    13.1,
                    23,
                    24.5
                  ]
                },
                {
                  "mode": "lines+markers",
                  "name": "Baseline",
                  "type": "scatter",
                  "x": [
                    0,
                    1,
                    2,
                    3,
                    4,
                    5,
                    6,
                    7,
                    8,
                    9,
                    10,
                    11,
                    12,
                    13,
                    14,
                    15,
                    16,
                    17,
                    18,
                    19,
                    20,
                    21,
                    22,
                    23,
                    24,
                    25,
                    26,
                    27,
                    28,
                    29,
                    30,
                    31,
                    32,
                    33,
                    34,
                    35,
                    36,
                    37,
                    38,
                    39,
                    40,
                    41,
                    42,
                    43,
                    44,
                    45,
                    46,
                    47,
                    48,
                    49,
                    50,
                    51,
                    52,
                    53,
                    54,
                    55,
                    56,
                    57,
                    58,
                    59,
                    60,
                    61,
                    62,
                    63,
                    64,
                    65,
                    66,
                    67,
                    68,
                    69,
                    70,
                    71,
                    72,
                    73,
                    74,
                    75,
                    76,
                    77,
                    78,
                    79,
                    80,
                    81,
                    82,
                    83,
                    84,
                    85,
                    86,
                    87,
                    88,
                    89,
                    90,
                    91,
                    92,
                    93,
                    94,
                    95,
                    96,
                    97,
                    98,
                    99,
                    100,
                    101
                  ],
                  "y": [
                    38.396875,
                    20.340281030444963,
                    20.340281030444963,
                    17.259999999999998,
                    38.396875,
                    20.340281030444963,
                    20.340281030444963,
                    20.340281030444963,
                    20.340281030444963,
                    20.340281030444963,
                    38.396875,
                    20.340281030444963,
                    20.340281030444963,
                    38.396875,
                    20.340281030444963,
                    20.340281030444963,
                    17.259999999999998,
                    20.340281030444963,
                    20.340281030444963,
                    20.340281030444963,
                    20.340281030444963,
                    20.340281030444963,
                    38.396875,
                    20.340281030444963,
                    38.396875,
                    20.340281030444963,
                    20.340281030444963,
                    20.340281030444963,
                    20.340281030444963,
                    20.340281030444963,
                    20.340281030444963,
                    20.340281030444963,
                    20.340281030444963,
                    38.396875,
                    20.340281030444963,
                    20.340281030444963,
                    20.340281030444963,
                    20.340281030444963,
                    38.396875,
                    38.396875,
                    20.340281030444963,
                    20.340281030444963,
                    20.340281030444963,
                    20.340281030444963,
                    20.340281030444963,
                    20.340281030444963,
                    17.259999999999998,
                    20.340281030444963,
                    20.340281030444963,
                    20.340281030444963,
                    20.340281030444963,
                    20.340281030444963,
                    20.340281030444963,
                    20.340281030444963,
                    20.340281030444963,
                    20.340281030444963,
                    38.396875,
                    20.340281030444963,
                    20.340281030444963,
                    20.340281030444963,
                    20.340281030444963,
                    20.340281030444963,
                    20.340281030444963,
                    20.340281030444963,
                    20.340281030444963,
                    20.340281030444963,
                    20.340281030444963,
                    20.340281030444963,
                    20.340281030444963,
                    20.340281030444963,
                    20.340281030444963,
                    20.340281030444963,
                    20.340281030444963,
                    20.340281030444963,
                    20.340281030444963,
                    20.340281030444963,
                    20.340281030444963,
                    20.340281030444963,
                    38.396875,
                    20.340281030444963,
                    20.340281030444963,
                    38.396875,
                    20.340281030444963,
                    20.340281030444963,
                    20.340281030444963,
                    20.340281030444963,
                    20.340281030444963,
                    20.340281030444963,
                    20.340281030444963,
                    20.340281030444963,
                    38.396875,
                    20.340281030444963,
                    20.340281030444963,
                    20.340281030444963,
                    20.340281030444963,
                    20.340281030444963,
                    20.340281030444963,
                    20.340281030444963,
                    20.340281030444963,
                    20.340281030444963,
                    20.340281030444963,
                    20.340281030444963
                  ]
                },
                {
                  "line": {
                    "color": "#FEBFB3"
                  },
                  "mode": "lines",
                  "name": "Valor Predito Regressão Linear",
                  "type": "scatter",
                  "x": [
                    0,
                    1,
                    2,
                    3,
                    4,
                    5,
                    6,
                    7,
                    8,
                    9,
                    10,
                    11,
                    12,
                    13,
                    14,
                    15,
                    16,
                    17,
                    18,
                    19,
                    20,
                    21,
                    22,
                    23,
                    24,
                    25,
                    26,
                    27,
                    28,
                    29,
                    30,
                    31,
                    32,
                    33,
                    34,
                    35,
                    36,
                    37,
                    38,
                    39,
                    40,
                    41,
                    42,
                    43,
                    44,
                    45,
                    46,
                    47,
                    48,
                    49,
                    50,
                    51,
                    52,
                    53,
                    54,
                    55,
                    56,
                    57,
                    58,
                    59,
                    60,
                    61,
                    62,
                    63,
                    64,
                    65,
                    66,
                    67,
                    68,
                    69,
                    70,
                    71,
                    72,
                    73,
                    74,
                    75,
                    76,
                    77,
                    78,
                    79,
                    80,
                    81,
                    82,
                    83,
                    84,
                    85,
                    86,
                    87,
                    88,
                    89,
                    90,
                    91,
                    92,
                    93,
                    94,
                    95,
                    96,
                    97,
                    98,
                    99,
                    100,
                    101
                  ],
                  "y": [
                    36.006464154808796,
                    27.77712788242473,
                    26.231908550028496,
                    1.1895521141421028,
                    33.43666667167565,
                    6.597714685212896,
                    25.734054071937788,
                    30.465789126518636,
                    25.542829655806035,
                    20.63964618959716,
                    30.61387462191609,
                    20.732475219759433,
                    22.325939628407916,
                    29.71573874569045,
                    26.338923647963718,
                    19.725906852471255,
                    -1.9947308129803574,
                    23.282852046745624,
                    14.13715280676992,
                    15.710771450760568,
                    7.413619635769685,
                    22.04552159700456,
                    35.312796200396974,
                    24.847795360776832,
                    31.92742252492682,
                    9.939402553004708,
                    26.039271106149638,
                    24.264048481752145,
                    26.180791885957373,
                    27.751976518410075,
                    11.56607363728866,
                    11.45624117182744,
                    16.237734004219764,
                    21.559895365889535,
                    27.850462508557985,
                    21.358369687056726,
                    29.710005362721404,
                    7.412460606919325,
                    38.099866999765254,
                    33.14691191877034,
                    19.980591521776393,
                    3.7286461288254067,
                    27.50332055946356,
                    11.42322265926455,
                    29.086090272948336,
                    30.72473483163674,
                    -4.120027712681221,
                    16.64030610486043,
                    25.791361050218857,
                    13.350076104752127,
                    19.988282236944155,
                    22.075943065847717,
                    25.48701836518111,
                    14.455711774876486,
                    20.89408362138723,
                    28.673612336307006,
                    32.33750260765084,
                    15.151580518860412,
                    29.86790343081971,
                    21.316267577628008,
                    21.489701193812337,
                    26.480067236993612,
                    15.256339346396135,
                    32.031026525415044,
                    26.144942806266375,
                    13.561531847649611,
                    20.734012247259365,
                    27.157218670486692,
                    21.49615566815838,
                    19.706645772296053,
                    17.736686590982966,
                    27.780049342151234,
                    18.521057319818667,
                    14.80208585181159,
                    18.542786222093177,
                    29.722072721863597,
                    22.04004977531083,
                    17.862451867703136,
                    31.77941582466715,
                    19.02279165214236,
                    21.627242471581297,
                    42.248159406926476,
                    21.79624546097144,
                    17.250613959058793,
                    24.043384495671962,
                    16.453008770364853,
                    18.17280314626255,
                    10.056553243559506,
                    20.670339670142557,
                    23.605603848763483,
                    31.921146930793913,
                    17.28822487466973,
                    21.031949502790688,
                    19.131100927161825,
                    27.873940946496628,
                    29.58938733291871,
                    14.03590608666909,
                    26.37310964012326,
                    21.629107157817486,
                    19.154657235121928,
                    23.005546057187175,
                    24.47513858297962
                  ]
                }
              ],
              "layout": {
                "template": {
                  "data": {
                    "bar": [
                      {
                        "error_x": {
                          "color": "#2a3f5f"
                        },
                        "error_y": {
                          "color": "#2a3f5f"
                        },
                        "marker": {
                          "line": {
                            "color": "#E5ECF6",
                            "width": 0.5
                          },
                          "pattern": {
                            "fillmode": "overlay",
                            "size": 10,
                            "solidity": 0.2
                          }
                        },
                        "type": "bar"
                      }
                    ],
                    "barpolar": [
                      {
                        "marker": {
                          "line": {
                            "color": "#E5ECF6",
                            "width": 0.5
                          },
                          "pattern": {
                            "fillmode": "overlay",
                            "size": 10,
                            "solidity": 0.2
                          }
                        },
                        "type": "barpolar"
                      }
                    ],
                    "carpet": [
                      {
                        "aaxis": {
                          "endlinecolor": "#2a3f5f",
                          "gridcolor": "white",
                          "linecolor": "white",
                          "minorgridcolor": "white",
                          "startlinecolor": "#2a3f5f"
                        },
                        "baxis": {
                          "endlinecolor": "#2a3f5f",
                          "gridcolor": "white",
                          "linecolor": "white",
                          "minorgridcolor": "white",
                          "startlinecolor": "#2a3f5f"
                        },
                        "type": "carpet"
                      }
                    ],
                    "choropleth": [
                      {
                        "colorbar": {
                          "outlinewidth": 0,
                          "ticks": ""
                        },
                        "type": "choropleth"
                      }
                    ],
                    "contour": [
                      {
                        "colorbar": {
                          "outlinewidth": 0,
                          "ticks": ""
                        },
                        "colorscale": [
                          [
                            0,
                            "#0d0887"
                          ],
                          [
                            0.1111111111111111,
                            "#46039f"
                          ],
                          [
                            0.2222222222222222,
                            "#7201a8"
                          ],
                          [
                            0.3333333333333333,
                            "#9c179e"
                          ],
                          [
                            0.4444444444444444,
                            "#bd3786"
                          ],
                          [
                            0.5555555555555556,
                            "#d8576b"
                          ],
                          [
                            0.6666666666666666,
                            "#ed7953"
                          ],
                          [
                            0.7777777777777778,
                            "#fb9f3a"
                          ],
                          [
                            0.8888888888888888,
                            "#fdca26"
                          ],
                          [
                            1,
                            "#f0f921"
                          ]
                        ],
                        "type": "contour"
                      }
                    ],
                    "contourcarpet": [
                      {
                        "colorbar": {
                          "outlinewidth": 0,
                          "ticks": ""
                        },
                        "type": "contourcarpet"
                      }
                    ],
                    "heatmap": [
                      {
                        "colorbar": {
                          "outlinewidth": 0,
                          "ticks": ""
                        },
                        "colorscale": [
                          [
                            0,
                            "#0d0887"
                          ],
                          [
                            0.1111111111111111,
                            "#46039f"
                          ],
                          [
                            0.2222222222222222,
                            "#7201a8"
                          ],
                          [
                            0.3333333333333333,
                            "#9c179e"
                          ],
                          [
                            0.4444444444444444,
                            "#bd3786"
                          ],
                          [
                            0.5555555555555556,
                            "#d8576b"
                          ],
                          [
                            0.6666666666666666,
                            "#ed7953"
                          ],
                          [
                            0.7777777777777778,
                            "#fb9f3a"
                          ],
                          [
                            0.8888888888888888,
                            "#fdca26"
                          ],
                          [
                            1,
                            "#f0f921"
                          ]
                        ],
                        "type": "heatmap"
                      }
                    ],
                    "heatmapgl": [
                      {
                        "colorbar": {
                          "outlinewidth": 0,
                          "ticks": ""
                        },
                        "colorscale": [
                          [
                            0,
                            "#0d0887"
                          ],
                          [
                            0.1111111111111111,
                            "#46039f"
                          ],
                          [
                            0.2222222222222222,
                            "#7201a8"
                          ],
                          [
                            0.3333333333333333,
                            "#9c179e"
                          ],
                          [
                            0.4444444444444444,
                            "#bd3786"
                          ],
                          [
                            0.5555555555555556,
                            "#d8576b"
                          ],
                          [
                            0.6666666666666666,
                            "#ed7953"
                          ],
                          [
                            0.7777777777777778,
                            "#fb9f3a"
                          ],
                          [
                            0.8888888888888888,
                            "#fdca26"
                          ],
                          [
                            1,
                            "#f0f921"
                          ]
                        ],
                        "type": "heatmapgl"
                      }
                    ],
                    "histogram": [
                      {
                        "marker": {
                          "pattern": {
                            "fillmode": "overlay",
                            "size": 10,
                            "solidity": 0.2
                          }
                        },
                        "type": "histogram"
                      }
                    ],
                    "histogram2d": [
                      {
                        "colorbar": {
                          "outlinewidth": 0,
                          "ticks": ""
                        },
                        "colorscale": [
                          [
                            0,
                            "#0d0887"
                          ],
                          [
                            0.1111111111111111,
                            "#46039f"
                          ],
                          [
                            0.2222222222222222,
                            "#7201a8"
                          ],
                          [
                            0.3333333333333333,
                            "#9c179e"
                          ],
                          [
                            0.4444444444444444,
                            "#bd3786"
                          ],
                          [
                            0.5555555555555556,
                            "#d8576b"
                          ],
                          [
                            0.6666666666666666,
                            "#ed7953"
                          ],
                          [
                            0.7777777777777778,
                            "#fb9f3a"
                          ],
                          [
                            0.8888888888888888,
                            "#fdca26"
                          ],
                          [
                            1,
                            "#f0f921"
                          ]
                        ],
                        "type": "histogram2d"
                      }
                    ],
                    "histogram2dcontour": [
                      {
                        "colorbar": {
                          "outlinewidth": 0,
                          "ticks": ""
                        },
                        "colorscale": [
                          [
                            0,
                            "#0d0887"
                          ],
                          [
                            0.1111111111111111,
                            "#46039f"
                          ],
                          [
                            0.2222222222222222,
                            "#7201a8"
                          ],
                          [
                            0.3333333333333333,
                            "#9c179e"
                          ],
                          [
                            0.4444444444444444,
                            "#bd3786"
                          ],
                          [
                            0.5555555555555556,
                            "#d8576b"
                          ],
                          [
                            0.6666666666666666,
                            "#ed7953"
                          ],
                          [
                            0.7777777777777778,
                            "#fb9f3a"
                          ],
                          [
                            0.8888888888888888,
                            "#fdca26"
                          ],
                          [
                            1,
                            "#f0f921"
                          ]
                        ],
                        "type": "histogram2dcontour"
                      }
                    ],
                    "mesh3d": [
                      {
                        "colorbar": {
                          "outlinewidth": 0,
                          "ticks": ""
                        },
                        "type": "mesh3d"
                      }
                    ],
                    "parcoords": [
                      {
                        "line": {
                          "colorbar": {
                            "outlinewidth": 0,
                            "ticks": ""
                          }
                        },
                        "type": "parcoords"
                      }
                    ],
                    "pie": [
                      {
                        "automargin": true,
                        "type": "pie"
                      }
                    ],
                    "scatter": [
                      {
                        "fillpattern": {
                          "fillmode": "overlay",
                          "size": 10,
                          "solidity": 0.2
                        },
                        "type": "scatter"
                      }
                    ],
                    "scatter3d": [
                      {
                        "line": {
                          "colorbar": {
                            "outlinewidth": 0,
                            "ticks": ""
                          }
                        },
                        "marker": {
                          "colorbar": {
                            "outlinewidth": 0,
                            "ticks": ""
                          }
                        },
                        "type": "scatter3d"
                      }
                    ],
                    "scattercarpet": [
                      {
                        "marker": {
                          "colorbar": {
                            "outlinewidth": 0,
                            "ticks": ""
                          }
                        },
                        "type": "scattercarpet"
                      }
                    ],
                    "scattergeo": [
                      {
                        "marker": {
                          "colorbar": {
                            "outlinewidth": 0,
                            "ticks": ""
                          }
                        },
                        "type": "scattergeo"
                      }
                    ],
                    "scattergl": [
                      {
                        "marker": {
                          "colorbar": {
                            "outlinewidth": 0,
                            "ticks": ""
                          }
                        },
                        "type": "scattergl"
                      }
                    ],
                    "scattermapbox": [
                      {
                        "marker": {
                          "colorbar": {
                            "outlinewidth": 0,
                            "ticks": ""
                          }
                        },
                        "type": "scattermapbox"
                      }
                    ],
                    "scatterpolar": [
                      {
                        "marker": {
                          "colorbar": {
                            "outlinewidth": 0,
                            "ticks": ""
                          }
                        },
                        "type": "scatterpolar"
                      }
                    ],
                    "scatterpolargl": [
                      {
                        "marker": {
                          "colorbar": {
                            "outlinewidth": 0,
                            "ticks": ""
                          }
                        },
                        "type": "scatterpolargl"
                      }
                    ],
                    "scatterternary": [
                      {
                        "marker": {
                          "colorbar": {
                            "outlinewidth": 0,
                            "ticks": ""
                          }
                        },
                        "type": "scatterternary"
                      }
                    ],
                    "surface": [
                      {
                        "colorbar": {
                          "outlinewidth": 0,
                          "ticks": ""
                        },
                        "colorscale": [
                          [
                            0,
                            "#0d0887"
                          ],
                          [
                            0.1111111111111111,
                            "#46039f"
                          ],
                          [
                            0.2222222222222222,
                            "#7201a8"
                          ],
                          [
                            0.3333333333333333,
                            "#9c179e"
                          ],
                          [
                            0.4444444444444444,
                            "#bd3786"
                          ],
                          [
                            0.5555555555555556,
                            "#d8576b"
                          ],
                          [
                            0.6666666666666666,
                            "#ed7953"
                          ],
                          [
                            0.7777777777777778,
                            "#fb9f3a"
                          ],
                          [
                            0.8888888888888888,
                            "#fdca26"
                          ],
                          [
                            1,
                            "#f0f921"
                          ]
                        ],
                        "type": "surface"
                      }
                    ],
                    "table": [
                      {
                        "cells": {
                          "fill": {
                            "color": "#EBF0F8"
                          },
                          "line": {
                            "color": "white"
                          }
                        },
                        "header": {
                          "fill": {
                            "color": "#C8D4E3"
                          },
                          "line": {
                            "color": "white"
                          }
                        },
                        "type": "table"
                      }
                    ]
                  },
                  "layout": {
                    "annotationdefaults": {
                      "arrowcolor": "#2a3f5f",
                      "arrowhead": 0,
                      "arrowwidth": 1
                    },
                    "autotypenumbers": "strict",
                    "coloraxis": {
                      "colorbar": {
                        "outlinewidth": 0,
                        "ticks": ""
                      }
                    },
                    "colorscale": {
                      "diverging": [
                        [
                          0,
                          "#8e0152"
                        ],
                        [
                          0.1,
                          "#c51b7d"
                        ],
                        [
                          0.2,
                          "#de77ae"
                        ],
                        [
                          0.3,
                          "#f1b6da"
                        ],
                        [
                          0.4,
                          "#fde0ef"
                        ],
                        [
                          0.5,
                          "#f7f7f7"
                        ],
                        [
                          0.6,
                          "#e6f5d0"
                        ],
                        [
                          0.7,
                          "#b8e186"
                        ],
                        [
                          0.8,
                          "#7fbc41"
                        ],
                        [
                          0.9,
                          "#4d9221"
                        ],
                        [
                          1,
                          "#276419"
                        ]
                      ],
                      "sequential": [
                        [
                          0,
                          "#0d0887"
                        ],
                        [
                          0.1111111111111111,
                          "#46039f"
                        ],
                        [
                          0.2222222222222222,
                          "#7201a8"
                        ],
                        [
                          0.3333333333333333,
                          "#9c179e"
                        ],
                        [
                          0.4444444444444444,
                          "#bd3786"
                        ],
                        [
                          0.5555555555555556,
                          "#d8576b"
                        ],
                        [
                          0.6666666666666666,
                          "#ed7953"
                        ],
                        [
                          0.7777777777777778,
                          "#fb9f3a"
                        ],
                        [
                          0.8888888888888888,
                          "#fdca26"
                        ],
                        [
                          1,
                          "#f0f921"
                        ]
                      ],
                      "sequentialminus": [
                        [
                          0,
                          "#0d0887"
                        ],
                        [
                          0.1111111111111111,
                          "#46039f"
                        ],
                        [
                          0.2222222222222222,
                          "#7201a8"
                        ],
                        [
                          0.3333333333333333,
                          "#9c179e"
                        ],
                        [
                          0.4444444444444444,
                          "#bd3786"
                        ],
                        [
                          0.5555555555555556,
                          "#d8576b"
                        ],
                        [
                          0.6666666666666666,
                          "#ed7953"
                        ],
                        [
                          0.7777777777777778,
                          "#fb9f3a"
                        ],
                        [
                          0.8888888888888888,
                          "#fdca26"
                        ],
                        [
                          1,
                          "#f0f921"
                        ]
                      ]
                    },
                    "colorway": [
                      "#636efa",
                      "#EF553B",
                      "#00cc96",
                      "#ab63fa",
                      "#FFA15A",
                      "#19d3f3",
                      "#FF6692",
                      "#B6E880",
                      "#FF97FF",
                      "#FECB52"
                    ],
                    "font": {
                      "color": "#2a3f5f"
                    },
                    "geo": {
                      "bgcolor": "white",
                      "lakecolor": "white",
                      "landcolor": "#E5ECF6",
                      "showlakes": true,
                      "showland": true,
                      "subunitcolor": "white"
                    },
                    "hoverlabel": {
                      "align": "left"
                    },
                    "hovermode": "closest",
                    "mapbox": {
                      "style": "light"
                    },
                    "paper_bgcolor": "white",
                    "plot_bgcolor": "#E5ECF6",
                    "polar": {
                      "angularaxis": {
                        "gridcolor": "white",
                        "linecolor": "white",
                        "ticks": ""
                      },
                      "bgcolor": "#E5ECF6",
                      "radialaxis": {
                        "gridcolor": "white",
                        "linecolor": "white",
                        "ticks": ""
                      }
                    },
                    "scene": {
                      "xaxis": {
                        "backgroundcolor": "#E5ECF6",
                        "gridcolor": "white",
                        "gridwidth": 2,
                        "linecolor": "white",
                        "showbackground": true,
                        "ticks": "",
                        "zerolinecolor": "white"
                      },
                      "yaxis": {
                        "backgroundcolor": "#E5ECF6",
                        "gridcolor": "white",
                        "gridwidth": 2,
                        "linecolor": "white",
                        "showbackground": true,
                        "ticks": "",
                        "zerolinecolor": "white"
                      },
                      "zaxis": {
                        "backgroundcolor": "#E5ECF6",
                        "gridcolor": "white",
                        "gridwidth": 2,
                        "linecolor": "white",
                        "showbackground": true,
                        "ticks": "",
                        "zerolinecolor": "white"
                      }
                    },
                    "shapedefaults": {
                      "line": {
                        "color": "#2a3f5f"
                      }
                    },
                    "ternary": {
                      "aaxis": {
                        "gridcolor": "white",
                        "linecolor": "white",
                        "ticks": ""
                      },
                      "baxis": {
                        "gridcolor": "white",
                        "linecolor": "white",
                        "ticks": ""
                      },
                      "bgcolor": "#E5ECF6",
                      "caxis": {
                        "gridcolor": "white",
                        "linecolor": "white",
                        "ticks": ""
                      }
                    },
                    "title": {
                      "x": 0.05
                    },
                    "xaxis": {
                      "automargin": true,
                      "gridcolor": "white",
                      "linecolor": "white",
                      "ticks": "",
                      "title": {
                        "standoff": 15
                      },
                      "zerolinecolor": "white",
                      "zerolinewidth": 2
                    },
                    "yaxis": {
                      "automargin": true,
                      "gridcolor": "white",
                      "linecolor": "white",
                      "ticks": "",
                      "title": {
                        "standoff": 15
                      },
                      "zerolinecolor": "white",
                      "zerolinewidth": 2
                    }
                  }
                }
              }
            }
          },
          "metadata": {},
          "output_type": "display_data"
        }
      ],
      "source": [
        "import plotly.graph_objects as go\n",
        "\n",
        "# Create traces\n",
        "fig = go.Figure()\n",
        "\n",
        "# Linha com os dados de teste\n",
        "fig.add_trace(go.Scatter(x=df_results.index,\n",
        "                         y=df_results.valor_real,\n",
        "                         mode='lines+markers',\n",
        "                         name='Valor Real'))\n",
        "\n",
        "# Linha com os dados de baseline\n",
        "fig.add_trace(go.Scatter(x=df_results.index,\n",
        "                         y=df_results.valor_predito_baseline,\n",
        "                         mode='lines+markers',\n",
        "                         name='Baseline'))\n",
        "\n",
        "# Linha com os dados preditos pela regressão linear\n",
        "fig.add_trace(go.Scatter(x=df_results.index,\n",
        "                         y=df_results.valor_predito_reg_linear,\n",
        "                         mode='lines',\n",
        "                         line = dict(color = '#FEBFB3'),\n",
        "                         name='Valor Predito Regressão Linear'))\n",
        "\n",
        "# Plota a figura\n",
        "fig.show()"
      ]
    },
    {
      "cell_type": "markdown",
      "metadata": {
        "id": "0wmwDzw_zn6r"
      },
      "source": [
        "#Aplicando o modelo de Árvore de Decisão\n"
      ]
    },
    {
      "cell_type": "code",
      "execution_count": 215,
      "metadata": {
        "id": "OcwejZGoztxQ"
      },
      "outputs": [],
      "source": [
        "#O algoritmo é de aprendizado supervisionado, explicabilidade do modelo e é simples."
      ]
    },
    {
      "cell_type": "code",
      "execution_count": 216,
      "metadata": {
        "id": "Ekn5C9KZz4Lf"
      },
      "outputs": [],
      "source": [
        "#Importando o pacote DecisionTreeRegressor do skLearn;\n",
        "from sklearn.tree import DecisionTreeRegressor"
      ]
    },
    {
      "cell_type": "code",
      "execution_count": 217,
      "metadata": {
        "id": "yQK08oGwz8dQ"
      },
      "outputs": [],
      "source": [
        "#Criando um objeto do tipo DecisionTreeRegressor;\n",
        "regressor = DecisionTreeRegressor()"
      ]
    },
    {
      "cell_type": "code",
      "execution_count": 218,
      "metadata": {
        "colab": {
          "base_uri": "https://localhost:8080/",
          "height": 75
        },
        "id": "QGUHjPyCz_jP",
        "outputId": "97be6f90-7523-4429-892b-151694b070c0"
      },
      "outputs": [
        {
          "data": {
            "text/html": [
              "<style>#sk-container-id-8 {color: black;}#sk-container-id-8 pre{padding: 0;}#sk-container-id-8 div.sk-toggleable {background-color: white;}#sk-container-id-8 label.sk-toggleable__label {cursor: pointer;display: block;width: 100%;margin-bottom: 0;padding: 0.3em;box-sizing: border-box;text-align: center;}#sk-container-id-8 label.sk-toggleable__label-arrow:before {content: \"▸\";float: left;margin-right: 0.25em;color: #696969;}#sk-container-id-8 label.sk-toggleable__label-arrow:hover:before {color: black;}#sk-container-id-8 div.sk-estimator:hover label.sk-toggleable__label-arrow:before {color: black;}#sk-container-id-8 div.sk-toggleable__content {max-height: 0;max-width: 0;overflow: hidden;text-align: left;background-color: #f0f8ff;}#sk-container-id-8 div.sk-toggleable__content pre {margin: 0.2em;color: black;border-radius: 0.25em;background-color: #f0f8ff;}#sk-container-id-8 input.sk-toggleable__control:checked~div.sk-toggleable__content {max-height: 200px;max-width: 100%;overflow: auto;}#sk-container-id-8 input.sk-toggleable__control:checked~label.sk-toggleable__label-arrow:before {content: \"▾\";}#sk-container-id-8 div.sk-estimator input.sk-toggleable__control:checked~label.sk-toggleable__label {background-color: #d4ebff;}#sk-container-id-8 div.sk-label input.sk-toggleable__control:checked~label.sk-toggleable__label {background-color: #d4ebff;}#sk-container-id-8 input.sk-hidden--visually {border: 0;clip: rect(1px 1px 1px 1px);clip: rect(1px, 1px, 1px, 1px);height: 1px;margin: -1px;overflow: hidden;padding: 0;position: absolute;width: 1px;}#sk-container-id-8 div.sk-estimator {font-family: monospace;background-color: #f0f8ff;border: 1px dotted black;border-radius: 0.25em;box-sizing: border-box;margin-bottom: 0.5em;}#sk-container-id-8 div.sk-estimator:hover {background-color: #d4ebff;}#sk-container-id-8 div.sk-parallel-item::after {content: \"\";width: 100%;border-bottom: 1px solid gray;flex-grow: 1;}#sk-container-id-8 div.sk-label:hover label.sk-toggleable__label {background-color: #d4ebff;}#sk-container-id-8 div.sk-serial::before {content: \"\";position: absolute;border-left: 1px solid gray;box-sizing: border-box;top: 0;bottom: 0;left: 50%;z-index: 0;}#sk-container-id-8 div.sk-serial {display: flex;flex-direction: column;align-items: center;background-color: white;padding-right: 0.2em;padding-left: 0.2em;position: relative;}#sk-container-id-8 div.sk-item {position: relative;z-index: 1;}#sk-container-id-8 div.sk-parallel {display: flex;align-items: stretch;justify-content: center;background-color: white;position: relative;}#sk-container-id-8 div.sk-item::before, #sk-container-id-8 div.sk-parallel-item::before {content: \"\";position: absolute;border-left: 1px solid gray;box-sizing: border-box;top: 0;bottom: 0;left: 50%;z-index: -1;}#sk-container-id-8 div.sk-parallel-item {display: flex;flex-direction: column;z-index: 1;position: relative;background-color: white;}#sk-container-id-8 div.sk-parallel-item:first-child::after {align-self: flex-end;width: 50%;}#sk-container-id-8 div.sk-parallel-item:last-child::after {align-self: flex-start;width: 50%;}#sk-container-id-8 div.sk-parallel-item:only-child::after {width: 0;}#sk-container-id-8 div.sk-dashed-wrapped {border: 1px dashed gray;margin: 0 0.4em 0.5em 0.4em;box-sizing: border-box;padding-bottom: 0.4em;background-color: white;}#sk-container-id-8 div.sk-label label {font-family: monospace;font-weight: bold;display: inline-block;line-height: 1.2em;}#sk-container-id-8 div.sk-label-container {text-align: center;}#sk-container-id-8 div.sk-container {/* jupyter's `normalize.less` sets `[hidden] { display: none; }` but bootstrap.min.css set `[hidden] { display: none !important; }` so we also need the `!important` here to be able to override the default hidden behavior on the sphinx rendered scikit-learn.org. See: https://github.com/scikit-learn/scikit-learn/issues/21755 */display: inline-block !important;position: relative;}#sk-container-id-8 div.sk-text-repr-fallback {display: none;}</style><div id=\"sk-container-id-8\" class=\"sk-top-container\"><div class=\"sk-text-repr-fallback\"><pre>DecisionTreeRegressor()</pre><b>In a Jupyter environment, please rerun this cell to show the HTML representation or trust the notebook. <br />On GitHub, the HTML representation is unable to render, please try loading this page with nbviewer.org.</b></div><div class=\"sk-container\" hidden><div class=\"sk-item\"><div class=\"sk-estimator sk-toggleable\"><input class=\"sk-toggleable__control sk-hidden--visually\" id=\"sk-estimator-id-8\" type=\"checkbox\" checked><label for=\"sk-estimator-id-8\" class=\"sk-toggleable__label sk-toggleable__label-arrow\">DecisionTreeRegressor</label><div class=\"sk-toggleable__content\"><pre>DecisionTreeRegressor()</pre></div></div></div></div></div>"
            ],
            "text/plain": [
              "DecisionTreeRegressor()"
            ]
          },
          "execution_count": 218,
          "metadata": {},
          "output_type": "execute_result"
        }
      ],
      "source": [
        "#Treinando o algortimo e criando o modelo, tuilizando Decision Tree;\n",
        "regressor.fit(X_train, y_train)"
      ]
    },
    {
      "cell_type": "code",
      "execution_count": 219,
      "metadata": {
        "id": "m1HcIGa20F6D"
      },
      "outputs": [],
      "source": [
        "#Avaliando o modelo de árvore de decisão;\n",
        "#Fazendo as previsões com base nos dados de teste (X_test);\n",
        "y_pred = regressor.predict(X_test)"
      ]
    },
    {
      "cell_type": "code",
      "execution_count": 220,
      "metadata": {
        "id": "Z5hOI8wz0P6O"
      },
      "outputs": [],
      "source": [
        "#Adicionando o valor do Modelo (Decision Tree) no dataframe df_results (coluna: valor_predito_arvore);\n",
        "df_results['valor_predito_arvore'] = y_pred"
      ]
    },
    {
      "cell_type": "code",
      "execution_count": 221,
      "metadata": {
        "colab": {
          "base_uri": "https://localhost:8080/",
          "height": 363
        },
        "id": "c8_YtIrm0VuE",
        "outputId": "4ddea632-d8a1-4d48-deeb-0aebc14c76e0"
      },
      "outputs": [
        {
          "data": {
            "text/html": [
              "<div>\n",
              "<style scoped>\n",
              "    .dataframe tbody tr th:only-of-type {\n",
              "        vertical-align: middle;\n",
              "    }\n",
              "\n",
              "    .dataframe tbody tr th {\n",
              "        vertical-align: top;\n",
              "    }\n",
              "\n",
              "    .dataframe thead th {\n",
              "        text-align: right;\n",
              "    }\n",
              "</style>\n",
              "<table border=\"1\" class=\"dataframe\">\n",
              "  <thead>\n",
              "    <tr style=\"text-align: right;\">\n",
              "      <th></th>\n",
              "      <th>valor_real</th>\n",
              "      <th>valor_predito_baseline</th>\n",
              "      <th>valor_predito_reg_linear</th>\n",
              "      <th>valor_predito_arvore</th>\n",
              "    </tr>\n",
              "  </thead>\n",
              "  <tbody>\n",
              "    <tr>\n",
              "      <th>0</th>\n",
              "      <td>37.6</td>\n",
              "      <td>38.396875</td>\n",
              "      <td>36.006464</td>\n",
              "      <td>46.7</td>\n",
              "    </tr>\n",
              "    <tr>\n",
              "      <th>1</th>\n",
              "      <td>27.9</td>\n",
              "      <td>20.340281</td>\n",
              "      <td>27.777128</td>\n",
              "      <td>28.5</td>\n",
              "    </tr>\n",
              "    <tr>\n",
              "      <th>2</th>\n",
              "      <td>22.6</td>\n",
              "      <td>20.340281</td>\n",
              "      <td>26.231909</td>\n",
              "      <td>22.9</td>\n",
              "    </tr>\n",
              "    <tr>\n",
              "      <th>3</th>\n",
              "      <td>13.8</td>\n",
              "      <td>17.260000</td>\n",
              "      <td>1.189552</td>\n",
              "      <td>13.8</td>\n",
              "    </tr>\n",
              "    <tr>\n",
              "      <th>4</th>\n",
              "      <td>35.2</td>\n",
              "      <td>38.396875</td>\n",
              "      <td>33.436667</td>\n",
              "      <td>33.2</td>\n",
              "    </tr>\n",
              "    <tr>\n",
              "      <th>5</th>\n",
              "      <td>10.4</td>\n",
              "      <td>20.340281</td>\n",
              "      <td>6.597715</td>\n",
              "      <td>8.8</td>\n",
              "    </tr>\n",
              "    <tr>\n",
              "      <th>6</th>\n",
              "      <td>23.9</td>\n",
              "      <td>20.340281</td>\n",
              "      <td>25.734054</td>\n",
              "      <td>26.6</td>\n",
              "    </tr>\n",
              "    <tr>\n",
              "      <th>7</th>\n",
              "      <td>29.0</td>\n",
              "      <td>20.340281</td>\n",
              "      <td>30.465789</td>\n",
              "      <td>24.3</td>\n",
              "    </tr>\n",
              "    <tr>\n",
              "      <th>8</th>\n",
              "      <td>22.8</td>\n",
              "      <td>20.340281</td>\n",
              "      <td>25.542830</td>\n",
              "      <td>18.5</td>\n",
              "    </tr>\n",
              "    <tr>\n",
              "      <th>9</th>\n",
              "      <td>23.2</td>\n",
              "      <td>20.340281</td>\n",
              "      <td>20.639646</td>\n",
              "      <td>16.8</td>\n",
              "    </tr>\n",
              "  </tbody>\n",
              "</table>\n",
              "</div>"
            ],
            "text/plain": [
              "   valor_real  valor_predito_baseline  valor_predito_reg_linear  \\\n",
              "0        37.6               38.396875                 36.006464   \n",
              "1        27.9               20.340281                 27.777128   \n",
              "2        22.6               20.340281                 26.231909   \n",
              "3        13.8               17.260000                  1.189552   \n",
              "4        35.2               38.396875                 33.436667   \n",
              "5        10.4               20.340281                  6.597715   \n",
              "6        23.9               20.340281                 25.734054   \n",
              "7        29.0               20.340281                 30.465789   \n",
              "8        22.8               20.340281                 25.542830   \n",
              "9        23.2               20.340281                 20.639646   \n",
              "\n",
              "   valor_predito_arvore  \n",
              "0                  46.7  \n",
              "1                  28.5  \n",
              "2                  22.9  \n",
              "3                  13.8  \n",
              "4                  33.2  \n",
              "5                   8.8  \n",
              "6                  26.6  \n",
              "7                  24.3  \n",
              "8                  18.5  \n",
              "9                  16.8  "
            ]
          },
          "execution_count": 221,
          "metadata": {},
          "output_type": "execute_result"
        }
      ],
      "source": [
        "# Visualizando o dataframe df_results;\n",
        "df_results.head(10)"
      ]
    },
    {
      "cell_type": "code",
      "execution_count": 222,
      "metadata": {
        "colab": {
          "base_uri": "https://localhost:8080/"
        },
        "id": "Oomffhls0Z6j",
        "outputId": "d27a0e73-0be0-4e5f-91ff-2d2e76e04cb0"
      },
      "outputs": [
        {
          "name": "stdout",
          "output_type": "stream",
          "text": [
            "Performance do modelo avaliado com os dados de teste:\n",
            "\n",
            "RMSE é: 4.495793240657882 \n"
          ]
        }
      ],
      "source": [
        "#Avaliação do Modelo (`Decision Tree`);\n",
        "#Calculando a métrica RMSE para as predições do Modelo Decision Tree;\n",
        "rmse = (np.sqrt(mean_squared_error(y_test, y_pred)))\n",
        "\n",
        "#imprime a performance do modelo;\n",
        "print ('Performance do modelo avaliado com os dados de teste:')\n",
        "print('\\nRMSE é: {} '.format(rmse))"
      ]
    },
    {
      "cell_type": "code",
      "execution_count": 223,
      "metadata": {
        "colab": {
          "base_uri": "https://localhost:8080/",
          "height": 542
        },
        "id": "rW9kBXXv0iWu",
        "outputId": "99ab388e-fa09-44ba-88c8-513617d169d4"
      },
      "outputs": [
        {
          "data": {
            "application/vnd.plotly.v1+json": {
              "config": {
                "plotlyServerURL": "https://plot.ly"
              },
              "data": [
                {
                  "mode": "lines+markers",
                  "name": "Valor Real",
                  "type": "scatter",
                  "x": [
                    0,
                    1,
                    2,
                    3,
                    4,
                    5,
                    6,
                    7,
                    8,
                    9,
                    10,
                    11,
                    12,
                    13,
                    14,
                    15,
                    16,
                    17,
                    18,
                    19,
                    20,
                    21,
                    22,
                    23,
                    24,
                    25,
                    26,
                    27,
                    28,
                    29,
                    30,
                    31,
                    32,
                    33,
                    34,
                    35,
                    36,
                    37,
                    38,
                    39,
                    40,
                    41,
                    42,
                    43,
                    44,
                    45,
                    46,
                    47,
                    48,
                    49,
                    50,
                    51,
                    52,
                    53,
                    54,
                    55,
                    56,
                    57,
                    58,
                    59,
                    60,
                    61,
                    62,
                    63,
                    64,
                    65,
                    66,
                    67,
                    68,
                    69,
                    70,
                    71,
                    72,
                    73,
                    74,
                    75,
                    76,
                    77,
                    78,
                    79,
                    80,
                    81,
                    82,
                    83,
                    84,
                    85,
                    86,
                    87,
                    88,
                    89,
                    90,
                    91,
                    92,
                    93,
                    94,
                    95,
                    96,
                    97,
                    98,
                    99,
                    100,
                    101
                  ],
                  "y": [
                    37.6,
                    27.9,
                    22.6,
                    13.8,
                    35.2,
                    10.4,
                    23.9,
                    29,
                    22.8,
                    23.2,
                    33.2,
                    19,
                    20.3,
                    36.1,
                    24.4,
                    17.2,
                    17.9,
                    19.6,
                    19.7,
                    15,
                    8.1,
                    23,
                    44.8,
                    23.1,
                    32.2,
                    10.8,
                    23.1,
                    21.2,
                    22.2,
                    24.1,
                    17.3,
                    7,
                    12.7,
                    17.8,
                    26.4,
                    19.6,
                    25.1,
                    8.3,
                    48.8,
                    34.9,
                    13.8,
                    14.4,
                    30.1,
                    12.7,
                    27.1,
                    24.8,
                    7,
                    20.5,
                    21.5,
                    14,
                    20.4,
                    22.2,
                    21.4,
                    13.5,
                    19.4,
                    24.7,
                    43.8,
                    14.1,
                    28.6,
                    19.7,
                    16.8,
                    23.2,
                    16.2,
                    41.3,
                    22.7,
                    8.3,
                    18.4,
                    24.7,
                    21.7,
                    20.6,
                    16.7,
                    22.1,
                    19.4,
                    27.5,
                    27.9,
                    30.1,
                    17.4,
                    15.4,
                    31,
                    14.2,
                    19.6,
                    50,
                    21.7,
                    11.7,
                    19.4,
                    13,
                    17.5,
                    9.7,
                    20.3,
                    18.6,
                    50,
                    19.6,
                    21.4,
                    18.4,
                    22.6,
                    25,
                    15.6,
                    26.6,
                    22.4,
                    13.1,
                    23,
                    24.5
                  ]
                },
                {
                  "mode": "lines+markers",
                  "name": "Valor Predito Baseline",
                  "type": "scatter",
                  "x": [
                    0,
                    1,
                    2,
                    3,
                    4,
                    5,
                    6,
                    7,
                    8,
                    9,
                    10,
                    11,
                    12,
                    13,
                    14,
                    15,
                    16,
                    17,
                    18,
                    19,
                    20,
                    21,
                    22,
                    23,
                    24,
                    25,
                    26,
                    27,
                    28,
                    29,
                    30,
                    31,
                    32,
                    33,
                    34,
                    35,
                    36,
                    37,
                    38,
                    39,
                    40,
                    41,
                    42,
                    43,
                    44,
                    45,
                    46,
                    47,
                    48,
                    49,
                    50,
                    51,
                    52,
                    53,
                    54,
                    55,
                    56,
                    57,
                    58,
                    59,
                    60,
                    61,
                    62,
                    63,
                    64,
                    65,
                    66,
                    67,
                    68,
                    69,
                    70,
                    71,
                    72,
                    73,
                    74,
                    75,
                    76,
                    77,
                    78,
                    79,
                    80,
                    81,
                    82,
                    83,
                    84,
                    85,
                    86,
                    87,
                    88,
                    89,
                    90,
                    91,
                    92,
                    93,
                    94,
                    95,
                    96,
                    97,
                    98,
                    99,
                    100,
                    101
                  ],
                  "y": [
                    38.396875,
                    20.340281030444963,
                    20.340281030444963,
                    17.259999999999998,
                    38.396875,
                    20.340281030444963,
                    20.340281030444963,
                    20.340281030444963,
                    20.340281030444963,
                    20.340281030444963,
                    38.396875,
                    20.340281030444963,
                    20.340281030444963,
                    38.396875,
                    20.340281030444963,
                    20.340281030444963,
                    17.259999999999998,
                    20.340281030444963,
                    20.340281030444963,
                    20.340281030444963,
                    20.340281030444963,
                    20.340281030444963,
                    38.396875,
                    20.340281030444963,
                    38.396875,
                    20.340281030444963,
                    20.340281030444963,
                    20.340281030444963,
                    20.340281030444963,
                    20.340281030444963,
                    20.340281030444963,
                    20.340281030444963,
                    20.340281030444963,
                    38.396875,
                    20.340281030444963,
                    20.340281030444963,
                    20.340281030444963,
                    20.340281030444963,
                    38.396875,
                    38.396875,
                    20.340281030444963,
                    20.340281030444963,
                    20.340281030444963,
                    20.340281030444963,
                    20.340281030444963,
                    20.340281030444963,
                    17.259999999999998,
                    20.340281030444963,
                    20.340281030444963,
                    20.340281030444963,
                    20.340281030444963,
                    20.340281030444963,
                    20.340281030444963,
                    20.340281030444963,
                    20.340281030444963,
                    20.340281030444963,
                    38.396875,
                    20.340281030444963,
                    20.340281030444963,
                    20.340281030444963,
                    20.340281030444963,
                    20.340281030444963,
                    20.340281030444963,
                    20.340281030444963,
                    20.340281030444963,
                    20.340281030444963,
                    20.340281030444963,
                    20.340281030444963,
                    20.340281030444963,
                    20.340281030444963,
                    20.340281030444963,
                    20.340281030444963,
                    20.340281030444963,
                    20.340281030444963,
                    20.340281030444963,
                    20.340281030444963,
                    20.340281030444963,
                    20.340281030444963,
                    38.396875,
                    20.340281030444963,
                    20.340281030444963,
                    38.396875,
                    20.340281030444963,
                    20.340281030444963,
                    20.340281030444963,
                    20.340281030444963,
                    20.340281030444963,
                    20.340281030444963,
                    20.340281030444963,
                    20.340281030444963,
                    38.396875,
                    20.340281030444963,
                    20.340281030444963,
                    20.340281030444963,
                    20.340281030444963,
                    20.340281030444963,
                    20.340281030444963,
                    20.340281030444963,
                    20.340281030444963,
                    20.340281030444963,
                    20.340281030444963,
                    20.340281030444963
                  ]
                },
                {
                  "mode": "lines+markers",
                  "name": "Valor Predito Reg Liner",
                  "type": "scatter",
                  "x": [
                    0,
                    1,
                    2,
                    3,
                    4,
                    5,
                    6,
                    7,
                    8,
                    9,
                    10,
                    11,
                    12,
                    13,
                    14,
                    15,
                    16,
                    17,
                    18,
                    19,
                    20,
                    21,
                    22,
                    23,
                    24,
                    25,
                    26,
                    27,
                    28,
                    29,
                    30,
                    31,
                    32,
                    33,
                    34,
                    35,
                    36,
                    37,
                    38,
                    39,
                    40,
                    41,
                    42,
                    43,
                    44,
                    45,
                    46,
                    47,
                    48,
                    49,
                    50,
                    51,
                    52,
                    53,
                    54,
                    55,
                    56,
                    57,
                    58,
                    59,
                    60,
                    61,
                    62,
                    63,
                    64,
                    65,
                    66,
                    67,
                    68,
                    69,
                    70,
                    71,
                    72,
                    73,
                    74,
                    75,
                    76,
                    77,
                    78,
                    79,
                    80,
                    81,
                    82,
                    83,
                    84,
                    85,
                    86,
                    87,
                    88,
                    89,
                    90,
                    91,
                    92,
                    93,
                    94,
                    95,
                    96,
                    97,
                    98,
                    99,
                    100,
                    101
                  ],
                  "y": [
                    36.006464154808796,
                    27.77712788242473,
                    26.231908550028496,
                    1.1895521141421028,
                    33.43666667167565,
                    6.597714685212896,
                    25.734054071937788,
                    30.465789126518636,
                    25.542829655806035,
                    20.63964618959716,
                    30.61387462191609,
                    20.732475219759433,
                    22.325939628407916,
                    29.71573874569045,
                    26.338923647963718,
                    19.725906852471255,
                    -1.9947308129803574,
                    23.282852046745624,
                    14.13715280676992,
                    15.710771450760568,
                    7.413619635769685,
                    22.04552159700456,
                    35.312796200396974,
                    24.847795360776832,
                    31.92742252492682,
                    9.939402553004708,
                    26.039271106149638,
                    24.264048481752145,
                    26.180791885957373,
                    27.751976518410075,
                    11.56607363728866,
                    11.45624117182744,
                    16.237734004219764,
                    21.559895365889535,
                    27.850462508557985,
                    21.358369687056726,
                    29.710005362721404,
                    7.412460606919325,
                    38.099866999765254,
                    33.14691191877034,
                    19.980591521776393,
                    3.7286461288254067,
                    27.50332055946356,
                    11.42322265926455,
                    29.086090272948336,
                    30.72473483163674,
                    -4.120027712681221,
                    16.64030610486043,
                    25.791361050218857,
                    13.350076104752127,
                    19.988282236944155,
                    22.075943065847717,
                    25.48701836518111,
                    14.455711774876486,
                    20.89408362138723,
                    28.673612336307006,
                    32.33750260765084,
                    15.151580518860412,
                    29.86790343081971,
                    21.316267577628008,
                    21.489701193812337,
                    26.480067236993612,
                    15.256339346396135,
                    32.031026525415044,
                    26.144942806266375,
                    13.561531847649611,
                    20.734012247259365,
                    27.157218670486692,
                    21.49615566815838,
                    19.706645772296053,
                    17.736686590982966,
                    27.780049342151234,
                    18.521057319818667,
                    14.80208585181159,
                    18.542786222093177,
                    29.722072721863597,
                    22.04004977531083,
                    17.862451867703136,
                    31.77941582466715,
                    19.02279165214236,
                    21.627242471581297,
                    42.248159406926476,
                    21.79624546097144,
                    17.250613959058793,
                    24.043384495671962,
                    16.453008770364853,
                    18.17280314626255,
                    10.056553243559506,
                    20.670339670142557,
                    23.605603848763483,
                    31.921146930793913,
                    17.28822487466973,
                    21.031949502790688,
                    19.131100927161825,
                    27.873940946496628,
                    29.58938733291871,
                    14.03590608666909,
                    26.37310964012326,
                    21.629107157817486,
                    19.154657235121928,
                    23.005546057187175,
                    24.47513858297962
                  ]
                },
                {
                  "mode": "lines+markers",
                  "name": "Valor Predito Arvore",
                  "type": "scatter",
                  "x": [
                    0,
                    1,
                    2,
                    3,
                    4,
                    5,
                    6,
                    7,
                    8,
                    9,
                    10,
                    11,
                    12,
                    13,
                    14,
                    15,
                    16,
                    17,
                    18,
                    19,
                    20,
                    21,
                    22,
                    23,
                    24,
                    25,
                    26,
                    27,
                    28,
                    29,
                    30,
                    31,
                    32,
                    33,
                    34,
                    35,
                    36,
                    37,
                    38,
                    39,
                    40,
                    41,
                    42,
                    43,
                    44,
                    45,
                    46,
                    47,
                    48,
                    49,
                    50,
                    51,
                    52,
                    53,
                    54,
                    55,
                    56,
                    57,
                    58,
                    59,
                    60,
                    61,
                    62,
                    63,
                    64,
                    65,
                    66,
                    67,
                    68,
                    69,
                    70,
                    71,
                    72,
                    73,
                    74,
                    75,
                    76,
                    77,
                    78,
                    79,
                    80,
                    81,
                    82,
                    83,
                    84,
                    85,
                    86,
                    87,
                    88,
                    89,
                    90,
                    91,
                    92,
                    93,
                    94,
                    95,
                    96,
                    97,
                    98,
                    99,
                    100,
                    101
                  ],
                  "y": [
                    46.7,
                    28.5,
                    22.9,
                    13.8,
                    33.2,
                    8.8,
                    26.6,
                    24.3,
                    18.5,
                    16.8,
                    33.4,
                    18.7,
                    16.2,
                    33.4,
                    26.2,
                    17.5,
                    17.2,
                    15.3,
                    20,
                    10.9,
                    13.6,
                    19.2,
                    38.7,
                    21,
                    32.7,
                    8.4,
                    23.8,
                    18.5,
                    26.6,
                    22.5,
                    27.1,
                    13.6,
                    10.2,
                    14.9,
                    23.3,
                    19.2,
                    25,
                    8.8,
                    50,
                    44,
                    20,
                    17.8,
                    20.4,
                    16.4,
                    24.6,
                    21.9,
                    8.8,
                    18.8,
                    15.3,
                    18.4,
                    20.1,
                    18.7,
                    23.9,
                    15.2,
                    16.6,
                    25,
                    45.4,
                    16.4,
                    25.2,
                    17.1,
                    18.3,
                    19.3,
                    15.2,
                    27,
                    20.2,
                    9.6,
                    21,
                    26.2,
                    18.9,
                    22.6,
                    19.1,
                    25,
                    19.8,
                    9.6,
                    21.4,
                    31.6,
                    23.8,
                    11.8,
                    21.4,
                    14.9,
                    21.7,
                    50,
                    20,
                    16.1,
                    19.3,
                    14.9,
                    23.1,
                    10.5,
                    19.5,
                    22.9,
                    39.8,
                    21,
                    21.4,
                    14.3,
                    32,
                    32.4,
                    14.8,
                    24.5,
                    19.8,
                    16.6,
                    20.2,
                    25
                  ]
                }
              ],
              "layout": {
                "template": {
                  "data": {
                    "bar": [
                      {
                        "error_x": {
                          "color": "#2a3f5f"
                        },
                        "error_y": {
                          "color": "#2a3f5f"
                        },
                        "marker": {
                          "line": {
                            "color": "#E5ECF6",
                            "width": 0.5
                          },
                          "pattern": {
                            "fillmode": "overlay",
                            "size": 10,
                            "solidity": 0.2
                          }
                        },
                        "type": "bar"
                      }
                    ],
                    "barpolar": [
                      {
                        "marker": {
                          "line": {
                            "color": "#E5ECF6",
                            "width": 0.5
                          },
                          "pattern": {
                            "fillmode": "overlay",
                            "size": 10,
                            "solidity": 0.2
                          }
                        },
                        "type": "barpolar"
                      }
                    ],
                    "carpet": [
                      {
                        "aaxis": {
                          "endlinecolor": "#2a3f5f",
                          "gridcolor": "white",
                          "linecolor": "white",
                          "minorgridcolor": "white",
                          "startlinecolor": "#2a3f5f"
                        },
                        "baxis": {
                          "endlinecolor": "#2a3f5f",
                          "gridcolor": "white",
                          "linecolor": "white",
                          "minorgridcolor": "white",
                          "startlinecolor": "#2a3f5f"
                        },
                        "type": "carpet"
                      }
                    ],
                    "choropleth": [
                      {
                        "colorbar": {
                          "outlinewidth": 0,
                          "ticks": ""
                        },
                        "type": "choropleth"
                      }
                    ],
                    "contour": [
                      {
                        "colorbar": {
                          "outlinewidth": 0,
                          "ticks": ""
                        },
                        "colorscale": [
                          [
                            0,
                            "#0d0887"
                          ],
                          [
                            0.1111111111111111,
                            "#46039f"
                          ],
                          [
                            0.2222222222222222,
                            "#7201a8"
                          ],
                          [
                            0.3333333333333333,
                            "#9c179e"
                          ],
                          [
                            0.4444444444444444,
                            "#bd3786"
                          ],
                          [
                            0.5555555555555556,
                            "#d8576b"
                          ],
                          [
                            0.6666666666666666,
                            "#ed7953"
                          ],
                          [
                            0.7777777777777778,
                            "#fb9f3a"
                          ],
                          [
                            0.8888888888888888,
                            "#fdca26"
                          ],
                          [
                            1,
                            "#f0f921"
                          ]
                        ],
                        "type": "contour"
                      }
                    ],
                    "contourcarpet": [
                      {
                        "colorbar": {
                          "outlinewidth": 0,
                          "ticks": ""
                        },
                        "type": "contourcarpet"
                      }
                    ],
                    "heatmap": [
                      {
                        "colorbar": {
                          "outlinewidth": 0,
                          "ticks": ""
                        },
                        "colorscale": [
                          [
                            0,
                            "#0d0887"
                          ],
                          [
                            0.1111111111111111,
                            "#46039f"
                          ],
                          [
                            0.2222222222222222,
                            "#7201a8"
                          ],
                          [
                            0.3333333333333333,
                            "#9c179e"
                          ],
                          [
                            0.4444444444444444,
                            "#bd3786"
                          ],
                          [
                            0.5555555555555556,
                            "#d8576b"
                          ],
                          [
                            0.6666666666666666,
                            "#ed7953"
                          ],
                          [
                            0.7777777777777778,
                            "#fb9f3a"
                          ],
                          [
                            0.8888888888888888,
                            "#fdca26"
                          ],
                          [
                            1,
                            "#f0f921"
                          ]
                        ],
                        "type": "heatmap"
                      }
                    ],
                    "heatmapgl": [
                      {
                        "colorbar": {
                          "outlinewidth": 0,
                          "ticks": ""
                        },
                        "colorscale": [
                          [
                            0,
                            "#0d0887"
                          ],
                          [
                            0.1111111111111111,
                            "#46039f"
                          ],
                          [
                            0.2222222222222222,
                            "#7201a8"
                          ],
                          [
                            0.3333333333333333,
                            "#9c179e"
                          ],
                          [
                            0.4444444444444444,
                            "#bd3786"
                          ],
                          [
                            0.5555555555555556,
                            "#d8576b"
                          ],
                          [
                            0.6666666666666666,
                            "#ed7953"
                          ],
                          [
                            0.7777777777777778,
                            "#fb9f3a"
                          ],
                          [
                            0.8888888888888888,
                            "#fdca26"
                          ],
                          [
                            1,
                            "#f0f921"
                          ]
                        ],
                        "type": "heatmapgl"
                      }
                    ],
                    "histogram": [
                      {
                        "marker": {
                          "pattern": {
                            "fillmode": "overlay",
                            "size": 10,
                            "solidity": 0.2
                          }
                        },
                        "type": "histogram"
                      }
                    ],
                    "histogram2d": [
                      {
                        "colorbar": {
                          "outlinewidth": 0,
                          "ticks": ""
                        },
                        "colorscale": [
                          [
                            0,
                            "#0d0887"
                          ],
                          [
                            0.1111111111111111,
                            "#46039f"
                          ],
                          [
                            0.2222222222222222,
                            "#7201a8"
                          ],
                          [
                            0.3333333333333333,
                            "#9c179e"
                          ],
                          [
                            0.4444444444444444,
                            "#bd3786"
                          ],
                          [
                            0.5555555555555556,
                            "#d8576b"
                          ],
                          [
                            0.6666666666666666,
                            "#ed7953"
                          ],
                          [
                            0.7777777777777778,
                            "#fb9f3a"
                          ],
                          [
                            0.8888888888888888,
                            "#fdca26"
                          ],
                          [
                            1,
                            "#f0f921"
                          ]
                        ],
                        "type": "histogram2d"
                      }
                    ],
                    "histogram2dcontour": [
                      {
                        "colorbar": {
                          "outlinewidth": 0,
                          "ticks": ""
                        },
                        "colorscale": [
                          [
                            0,
                            "#0d0887"
                          ],
                          [
                            0.1111111111111111,
                            "#46039f"
                          ],
                          [
                            0.2222222222222222,
                            "#7201a8"
                          ],
                          [
                            0.3333333333333333,
                            "#9c179e"
                          ],
                          [
                            0.4444444444444444,
                            "#bd3786"
                          ],
                          [
                            0.5555555555555556,
                            "#d8576b"
                          ],
                          [
                            0.6666666666666666,
                            "#ed7953"
                          ],
                          [
                            0.7777777777777778,
                            "#fb9f3a"
                          ],
                          [
                            0.8888888888888888,
                            "#fdca26"
                          ],
                          [
                            1,
                            "#f0f921"
                          ]
                        ],
                        "type": "histogram2dcontour"
                      }
                    ],
                    "mesh3d": [
                      {
                        "colorbar": {
                          "outlinewidth": 0,
                          "ticks": ""
                        },
                        "type": "mesh3d"
                      }
                    ],
                    "parcoords": [
                      {
                        "line": {
                          "colorbar": {
                            "outlinewidth": 0,
                            "ticks": ""
                          }
                        },
                        "type": "parcoords"
                      }
                    ],
                    "pie": [
                      {
                        "automargin": true,
                        "type": "pie"
                      }
                    ],
                    "scatter": [
                      {
                        "fillpattern": {
                          "fillmode": "overlay",
                          "size": 10,
                          "solidity": 0.2
                        },
                        "type": "scatter"
                      }
                    ],
                    "scatter3d": [
                      {
                        "line": {
                          "colorbar": {
                            "outlinewidth": 0,
                            "ticks": ""
                          }
                        },
                        "marker": {
                          "colorbar": {
                            "outlinewidth": 0,
                            "ticks": ""
                          }
                        },
                        "type": "scatter3d"
                      }
                    ],
                    "scattercarpet": [
                      {
                        "marker": {
                          "colorbar": {
                            "outlinewidth": 0,
                            "ticks": ""
                          }
                        },
                        "type": "scattercarpet"
                      }
                    ],
                    "scattergeo": [
                      {
                        "marker": {
                          "colorbar": {
                            "outlinewidth": 0,
                            "ticks": ""
                          }
                        },
                        "type": "scattergeo"
                      }
                    ],
                    "scattergl": [
                      {
                        "marker": {
                          "colorbar": {
                            "outlinewidth": 0,
                            "ticks": ""
                          }
                        },
                        "type": "scattergl"
                      }
                    ],
                    "scattermapbox": [
                      {
                        "marker": {
                          "colorbar": {
                            "outlinewidth": 0,
                            "ticks": ""
                          }
                        },
                        "type": "scattermapbox"
                      }
                    ],
                    "scatterpolar": [
                      {
                        "marker": {
                          "colorbar": {
                            "outlinewidth": 0,
                            "ticks": ""
                          }
                        },
                        "type": "scatterpolar"
                      }
                    ],
                    "scatterpolargl": [
                      {
                        "marker": {
                          "colorbar": {
                            "outlinewidth": 0,
                            "ticks": ""
                          }
                        },
                        "type": "scatterpolargl"
                      }
                    ],
                    "scatterternary": [
                      {
                        "marker": {
                          "colorbar": {
                            "outlinewidth": 0,
                            "ticks": ""
                          }
                        },
                        "type": "scatterternary"
                      }
                    ],
                    "surface": [
                      {
                        "colorbar": {
                          "outlinewidth": 0,
                          "ticks": ""
                        },
                        "colorscale": [
                          [
                            0,
                            "#0d0887"
                          ],
                          [
                            0.1111111111111111,
                            "#46039f"
                          ],
                          [
                            0.2222222222222222,
                            "#7201a8"
                          ],
                          [
                            0.3333333333333333,
                            "#9c179e"
                          ],
                          [
                            0.4444444444444444,
                            "#bd3786"
                          ],
                          [
                            0.5555555555555556,
                            "#d8576b"
                          ],
                          [
                            0.6666666666666666,
                            "#ed7953"
                          ],
                          [
                            0.7777777777777778,
                            "#fb9f3a"
                          ],
                          [
                            0.8888888888888888,
                            "#fdca26"
                          ],
                          [
                            1,
                            "#f0f921"
                          ]
                        ],
                        "type": "surface"
                      }
                    ],
                    "table": [
                      {
                        "cells": {
                          "fill": {
                            "color": "#EBF0F8"
                          },
                          "line": {
                            "color": "white"
                          }
                        },
                        "header": {
                          "fill": {
                            "color": "#C8D4E3"
                          },
                          "line": {
                            "color": "white"
                          }
                        },
                        "type": "table"
                      }
                    ]
                  },
                  "layout": {
                    "annotationdefaults": {
                      "arrowcolor": "#2a3f5f",
                      "arrowhead": 0,
                      "arrowwidth": 1
                    },
                    "autotypenumbers": "strict",
                    "coloraxis": {
                      "colorbar": {
                        "outlinewidth": 0,
                        "ticks": ""
                      }
                    },
                    "colorscale": {
                      "diverging": [
                        [
                          0,
                          "#8e0152"
                        ],
                        [
                          0.1,
                          "#c51b7d"
                        ],
                        [
                          0.2,
                          "#de77ae"
                        ],
                        [
                          0.3,
                          "#f1b6da"
                        ],
                        [
                          0.4,
                          "#fde0ef"
                        ],
                        [
                          0.5,
                          "#f7f7f7"
                        ],
                        [
                          0.6,
                          "#e6f5d0"
                        ],
                        [
                          0.7,
                          "#b8e186"
                        ],
                        [
                          0.8,
                          "#7fbc41"
                        ],
                        [
                          0.9,
                          "#4d9221"
                        ],
                        [
                          1,
                          "#276419"
                        ]
                      ],
                      "sequential": [
                        [
                          0,
                          "#0d0887"
                        ],
                        [
                          0.1111111111111111,
                          "#46039f"
                        ],
                        [
                          0.2222222222222222,
                          "#7201a8"
                        ],
                        [
                          0.3333333333333333,
                          "#9c179e"
                        ],
                        [
                          0.4444444444444444,
                          "#bd3786"
                        ],
                        [
                          0.5555555555555556,
                          "#d8576b"
                        ],
                        [
                          0.6666666666666666,
                          "#ed7953"
                        ],
                        [
                          0.7777777777777778,
                          "#fb9f3a"
                        ],
                        [
                          0.8888888888888888,
                          "#fdca26"
                        ],
                        [
                          1,
                          "#f0f921"
                        ]
                      ],
                      "sequentialminus": [
                        [
                          0,
                          "#0d0887"
                        ],
                        [
                          0.1111111111111111,
                          "#46039f"
                        ],
                        [
                          0.2222222222222222,
                          "#7201a8"
                        ],
                        [
                          0.3333333333333333,
                          "#9c179e"
                        ],
                        [
                          0.4444444444444444,
                          "#bd3786"
                        ],
                        [
                          0.5555555555555556,
                          "#d8576b"
                        ],
                        [
                          0.6666666666666666,
                          "#ed7953"
                        ],
                        [
                          0.7777777777777778,
                          "#fb9f3a"
                        ],
                        [
                          0.8888888888888888,
                          "#fdca26"
                        ],
                        [
                          1,
                          "#f0f921"
                        ]
                      ]
                    },
                    "colorway": [
                      "#636efa",
                      "#EF553B",
                      "#00cc96",
                      "#ab63fa",
                      "#FFA15A",
                      "#19d3f3",
                      "#FF6692",
                      "#B6E880",
                      "#FF97FF",
                      "#FECB52"
                    ],
                    "font": {
                      "color": "#2a3f5f"
                    },
                    "geo": {
                      "bgcolor": "white",
                      "lakecolor": "white",
                      "landcolor": "#E5ECF6",
                      "showlakes": true,
                      "showland": true,
                      "subunitcolor": "white"
                    },
                    "hoverlabel": {
                      "align": "left"
                    },
                    "hovermode": "closest",
                    "mapbox": {
                      "style": "light"
                    },
                    "paper_bgcolor": "white",
                    "plot_bgcolor": "#E5ECF6",
                    "polar": {
                      "angularaxis": {
                        "gridcolor": "white",
                        "linecolor": "white",
                        "ticks": ""
                      },
                      "bgcolor": "#E5ECF6",
                      "radialaxis": {
                        "gridcolor": "white",
                        "linecolor": "white",
                        "ticks": ""
                      }
                    },
                    "scene": {
                      "xaxis": {
                        "backgroundcolor": "#E5ECF6",
                        "gridcolor": "white",
                        "gridwidth": 2,
                        "linecolor": "white",
                        "showbackground": true,
                        "ticks": "",
                        "zerolinecolor": "white"
                      },
                      "yaxis": {
                        "backgroundcolor": "#E5ECF6",
                        "gridcolor": "white",
                        "gridwidth": 2,
                        "linecolor": "white",
                        "showbackground": true,
                        "ticks": "",
                        "zerolinecolor": "white"
                      },
                      "zaxis": {
                        "backgroundcolor": "#E5ECF6",
                        "gridcolor": "white",
                        "gridwidth": 2,
                        "linecolor": "white",
                        "showbackground": true,
                        "ticks": "",
                        "zerolinecolor": "white"
                      }
                    },
                    "shapedefaults": {
                      "line": {
                        "color": "#2a3f5f"
                      }
                    },
                    "ternary": {
                      "aaxis": {
                        "gridcolor": "white",
                        "linecolor": "white",
                        "ticks": ""
                      },
                      "baxis": {
                        "gridcolor": "white",
                        "linecolor": "white",
                        "ticks": ""
                      },
                      "bgcolor": "#E5ECF6",
                      "caxis": {
                        "gridcolor": "white",
                        "linecolor": "white",
                        "ticks": ""
                      }
                    },
                    "title": {
                      "x": 0.05
                    },
                    "xaxis": {
                      "automargin": true,
                      "gridcolor": "white",
                      "linecolor": "white",
                      "ticks": "",
                      "title": {
                        "standoff": 15
                      },
                      "zerolinecolor": "white",
                      "zerolinewidth": 2
                    },
                    "yaxis": {
                      "automargin": true,
                      "gridcolor": "white",
                      "linecolor": "white",
                      "ticks": "",
                      "title": {
                        "standoff": 15
                      },
                      "zerolinecolor": "white",
                      "zerolinewidth": 2
                    }
                  }
                }
              }
            }
          },
          "metadata": {},
          "output_type": "display_data"
        }
      ],
      "source": [
        "#Os resultados melhoraram ainda mais, como mostra a métrica RMSE, vamos ver no gráfico\n",
        "import plotly.graph_objects as go\n",
        "\n",
        "# cria uma figura\n",
        "fig = go.Figure()\n",
        "\n",
        "# Linha com os dados de teste\n",
        "fig.add_trace(go.Scatter(x=df_results.index,\n",
        "                         y=df_results.valor_real,\n",
        "                         mode='lines+markers',\n",
        "                         name='Valor Real'))\n",
        "\n",
        "# Linha com os dados de teste\n",
        "fig.add_trace(go.Scatter(x=df_results.index,\n",
        "                         y=df_results.valor_predito_baseline,\n",
        "                         mode='lines+markers',\n",
        "                         name='Valor Predito Baseline'))\n",
        "\n",
        "\n",
        "# Linha com os dados de teste\n",
        "fig.add_trace(go.Scatter(x=df_results.index,\n",
        "                         y=df_results.valor_predito_reg_linear,\n",
        "                         mode='lines+markers',\n",
        "                         name='Valor Predito Reg Liner'))\n",
        "\n",
        "# Linha com os dados preditos\n",
        "fig.add_trace(go.Scatter(x=df_results.index,\n",
        "                         y=df_results.valor_predito_arvore,\n",
        "                         mode='lines+markers',\n",
        "                         name='Valor Predito Arvore'))\n",
        "# Plota a figura\n",
        "fig.show()"
      ]
    },
    {
      "cell_type": "markdown",
      "metadata": {
        "id": "4SFvVU0p2bi0"
      },
      "source": [
        "#Aplicando o modelo Random Forest"
      ]
    },
    {
      "cell_type": "code",
      "execution_count": 224,
      "metadata": {
        "id": "b4cy3lMC2gCP"
      },
      "outputs": [],
      "source": [
        "#Algoritmo de método enemble, mais robustez para os modelos e menos overfitting;"
      ]
    },
    {
      "cell_type": "code",
      "execution_count": 225,
      "metadata": {
        "id": "3XcTJK1b2qmS"
      },
      "outputs": [],
      "source": [
        "#Importa o método RandomForestRegressor;\n",
        "from sklearn.ensemble import RandomForestRegressor"
      ]
    },
    {
      "cell_type": "code",
      "execution_count": 226,
      "metadata": {
        "id": "b7u9_GJn2t_V"
      },
      "outputs": [],
      "source": [
        "#Cria o objeto rf_regressor com parâmetros default;\n",
        "rf_regressor = RandomForestRegressor()"
      ]
    },
    {
      "cell_type": "code",
      "execution_count": 227,
      "metadata": {
        "colab": {
          "base_uri": "https://localhost:8080/",
          "height": 75
        },
        "id": "yiiHx_Wq2xSQ",
        "outputId": "dc45f432-b4b7-4b5f-f119-d22863548007"
      },
      "outputs": [
        {
          "data": {
            "text/html": [
              "<style>#sk-container-id-9 {color: black;}#sk-container-id-9 pre{padding: 0;}#sk-container-id-9 div.sk-toggleable {background-color: white;}#sk-container-id-9 label.sk-toggleable__label {cursor: pointer;display: block;width: 100%;margin-bottom: 0;padding: 0.3em;box-sizing: border-box;text-align: center;}#sk-container-id-9 label.sk-toggleable__label-arrow:before {content: \"▸\";float: left;margin-right: 0.25em;color: #696969;}#sk-container-id-9 label.sk-toggleable__label-arrow:hover:before {color: black;}#sk-container-id-9 div.sk-estimator:hover label.sk-toggleable__label-arrow:before {color: black;}#sk-container-id-9 div.sk-toggleable__content {max-height: 0;max-width: 0;overflow: hidden;text-align: left;background-color: #f0f8ff;}#sk-container-id-9 div.sk-toggleable__content pre {margin: 0.2em;color: black;border-radius: 0.25em;background-color: #f0f8ff;}#sk-container-id-9 input.sk-toggleable__control:checked~div.sk-toggleable__content {max-height: 200px;max-width: 100%;overflow: auto;}#sk-container-id-9 input.sk-toggleable__control:checked~label.sk-toggleable__label-arrow:before {content: \"▾\";}#sk-container-id-9 div.sk-estimator input.sk-toggleable__control:checked~label.sk-toggleable__label {background-color: #d4ebff;}#sk-container-id-9 div.sk-label input.sk-toggleable__control:checked~label.sk-toggleable__label {background-color: #d4ebff;}#sk-container-id-9 input.sk-hidden--visually {border: 0;clip: rect(1px 1px 1px 1px);clip: rect(1px, 1px, 1px, 1px);height: 1px;margin: -1px;overflow: hidden;padding: 0;position: absolute;width: 1px;}#sk-container-id-9 div.sk-estimator {font-family: monospace;background-color: #f0f8ff;border: 1px dotted black;border-radius: 0.25em;box-sizing: border-box;margin-bottom: 0.5em;}#sk-container-id-9 div.sk-estimator:hover {background-color: #d4ebff;}#sk-container-id-9 div.sk-parallel-item::after {content: \"\";width: 100%;border-bottom: 1px solid gray;flex-grow: 1;}#sk-container-id-9 div.sk-label:hover label.sk-toggleable__label {background-color: #d4ebff;}#sk-container-id-9 div.sk-serial::before {content: \"\";position: absolute;border-left: 1px solid gray;box-sizing: border-box;top: 0;bottom: 0;left: 50%;z-index: 0;}#sk-container-id-9 div.sk-serial {display: flex;flex-direction: column;align-items: center;background-color: white;padding-right: 0.2em;padding-left: 0.2em;position: relative;}#sk-container-id-9 div.sk-item {position: relative;z-index: 1;}#sk-container-id-9 div.sk-parallel {display: flex;align-items: stretch;justify-content: center;background-color: white;position: relative;}#sk-container-id-9 div.sk-item::before, #sk-container-id-9 div.sk-parallel-item::before {content: \"\";position: absolute;border-left: 1px solid gray;box-sizing: border-box;top: 0;bottom: 0;left: 50%;z-index: -1;}#sk-container-id-9 div.sk-parallel-item {display: flex;flex-direction: column;z-index: 1;position: relative;background-color: white;}#sk-container-id-9 div.sk-parallel-item:first-child::after {align-self: flex-end;width: 50%;}#sk-container-id-9 div.sk-parallel-item:last-child::after {align-self: flex-start;width: 50%;}#sk-container-id-9 div.sk-parallel-item:only-child::after {width: 0;}#sk-container-id-9 div.sk-dashed-wrapped {border: 1px dashed gray;margin: 0 0.4em 0.5em 0.4em;box-sizing: border-box;padding-bottom: 0.4em;background-color: white;}#sk-container-id-9 div.sk-label label {font-family: monospace;font-weight: bold;display: inline-block;line-height: 1.2em;}#sk-container-id-9 div.sk-label-container {text-align: center;}#sk-container-id-9 div.sk-container {/* jupyter's `normalize.less` sets `[hidden] { display: none; }` but bootstrap.min.css set `[hidden] { display: none !important; }` so we also need the `!important` here to be able to override the default hidden behavior on the sphinx rendered scikit-learn.org. See: https://github.com/scikit-learn/scikit-learn/issues/21755 */display: inline-block !important;position: relative;}#sk-container-id-9 div.sk-text-repr-fallback {display: none;}</style><div id=\"sk-container-id-9\" class=\"sk-top-container\"><div class=\"sk-text-repr-fallback\"><pre>RandomForestRegressor()</pre><b>In a Jupyter environment, please rerun this cell to show the HTML representation or trust the notebook. <br />On GitHub, the HTML representation is unable to render, please try loading this page with nbviewer.org.</b></div><div class=\"sk-container\" hidden><div class=\"sk-item\"><div class=\"sk-estimator sk-toggleable\"><input class=\"sk-toggleable__control sk-hidden--visually\" id=\"sk-estimator-id-9\" type=\"checkbox\" checked><label for=\"sk-estimator-id-9\" class=\"sk-toggleable__label sk-toggleable__label-arrow\">RandomForestRegressor</label><div class=\"sk-toggleable__content\"><pre>RandomForestRegressor()</pre></div></div></div></div></div>"
            ],
            "text/plain": [
              "RandomForestRegressor()"
            ]
          },
          "execution_count": 227,
          "metadata": {},
          "output_type": "execute_result"
        }
      ],
      "source": [
        "#Treinando o algoritmo e gereando o modelo de random forest\n",
        "rf_regressor.fit(X_train, y_train)"
      ]
    },
    {
      "cell_type": "code",
      "execution_count": 228,
      "metadata": {
        "id": "Ej-y5b0-26iX"
      },
      "outputs": [],
      "source": [
        "#Predições do Modelo (Random Forest) nos dados de teste;\n",
        "y_pred = rf_regressor.predict(X_test)"
      ]
    },
    {
      "cell_type": "code",
      "execution_count": 229,
      "metadata": {
        "id": "oa4xB7a129sc"
      },
      "outputs": [],
      "source": [
        "#Adicionando os resultados da predição acima no dataframe df_results;\n",
        "df_results['valor_predito_random_forest'] = rf_regressor.predict(X_test)"
      ]
    },
    {
      "cell_type": "code",
      "execution_count": 230,
      "metadata": {
        "id": "u4eThw7v3BPz"
      },
      "outputs": [],
      "source": [
        "#Calculando a métrica RMSE;\n",
        "rmse = (np.sqrt(mean_squared_error(y_test, y_pred)))"
      ]
    },
    {
      "cell_type": "code",
      "execution_count": 231,
      "metadata": {
        "colab": {
          "base_uri": "https://localhost:8080/"
        },
        "id": "26YCF2xt3EH1",
        "outputId": "5c38522d-b488-46a8-f427-689ff96c7cc6"
      },
      "outputs": [
        {
          "name": "stdout",
          "output_type": "stream",
          "text": [
            "Performance do Modelo (Random Forest) avaliado com os dados de teste:\n",
            "\n",
            "RMSE é: 3.6046569742432895 \n"
          ]
        }
      ],
      "source": [
        "#Visualizando a performance do modelo Random Forest;\n",
        "print ('Performance do Modelo (Random Forest) avaliado com os dados de teste:')\n",
        "print('\\nRMSE é: {} '.format(rmse))"
      ]
    },
    {
      "cell_type": "code",
      "execution_count": 232,
      "metadata": {
        "colab": {
          "base_uri": "https://localhost:8080/",
          "height": 542
        },
        "id": "blCu97PD3Hjn",
        "outputId": "dad1201a-46b0-410c-c9f1-3355ef037f4b"
      },
      "outputs": [
        {
          "data": {
            "application/vnd.plotly.v1+json": {
              "config": {
                "plotlyServerURL": "https://plot.ly"
              },
              "data": [
                {
                  "mode": "markers",
                  "name": "Valor Real",
                  "type": "scatter",
                  "x": [
                    0,
                    1,
                    2,
                    3,
                    4,
                    5,
                    6,
                    7,
                    8,
                    9,
                    10,
                    11,
                    12,
                    13,
                    14,
                    15,
                    16,
                    17,
                    18,
                    19,
                    20,
                    21,
                    22,
                    23,
                    24,
                    25,
                    26,
                    27,
                    28,
                    29,
                    30,
                    31,
                    32,
                    33,
                    34,
                    35,
                    36,
                    37,
                    38,
                    39,
                    40,
                    41,
                    42,
                    43,
                    44,
                    45,
                    46,
                    47,
                    48,
                    49,
                    50,
                    51,
                    52,
                    53,
                    54,
                    55,
                    56,
                    57,
                    58,
                    59,
                    60,
                    61,
                    62,
                    63,
                    64,
                    65,
                    66,
                    67,
                    68,
                    69,
                    70,
                    71,
                    72,
                    73,
                    74,
                    75,
                    76,
                    77,
                    78,
                    79,
                    80,
                    81,
                    82,
                    83,
                    84,
                    85,
                    86,
                    87,
                    88,
                    89,
                    90,
                    91,
                    92,
                    93,
                    94,
                    95,
                    96,
                    97,
                    98,
                    99,
                    100,
                    101
                  ],
                  "y": [
                    37.6,
                    27.9,
                    22.6,
                    13.8,
                    35.2,
                    10.4,
                    23.9,
                    29,
                    22.8,
                    23.2,
                    33.2,
                    19,
                    20.3,
                    36.1,
                    24.4,
                    17.2,
                    17.9,
                    19.6,
                    19.7,
                    15,
                    8.1,
                    23,
                    44.8,
                    23.1,
                    32.2,
                    10.8,
                    23.1,
                    21.2,
                    22.2,
                    24.1,
                    17.3,
                    7,
                    12.7,
                    17.8,
                    26.4,
                    19.6,
                    25.1,
                    8.3,
                    48.8,
                    34.9,
                    13.8,
                    14.4,
                    30.1,
                    12.7,
                    27.1,
                    24.8,
                    7,
                    20.5,
                    21.5,
                    14,
                    20.4,
                    22.2,
                    21.4,
                    13.5,
                    19.4,
                    24.7,
                    43.8,
                    14.1,
                    28.6,
                    19.7,
                    16.8,
                    23.2,
                    16.2,
                    41.3,
                    22.7,
                    8.3,
                    18.4,
                    24.7,
                    21.7,
                    20.6,
                    16.7,
                    22.1,
                    19.4,
                    27.5,
                    27.9,
                    30.1,
                    17.4,
                    15.4,
                    31,
                    14.2,
                    19.6,
                    50,
                    21.7,
                    11.7,
                    19.4,
                    13,
                    17.5,
                    9.7,
                    20.3,
                    18.6,
                    50,
                    19.6,
                    21.4,
                    18.4,
                    22.6,
                    25,
                    15.6,
                    26.6,
                    22.4,
                    13.1,
                    23,
                    24.5
                  ]
                },
                {
                  "line": {
                    "color": "#FF00FF"
                  },
                  "mode": "lines+markers",
                  "name": "Valor da Baseline",
                  "type": "scatter",
                  "x": [
                    0,
                    1,
                    2,
                    3,
                    4,
                    5,
                    6,
                    7,
                    8,
                    9,
                    10,
                    11,
                    12,
                    13,
                    14,
                    15,
                    16,
                    17,
                    18,
                    19,
                    20,
                    21,
                    22,
                    23,
                    24,
                    25,
                    26,
                    27,
                    28,
                    29,
                    30,
                    31,
                    32,
                    33,
                    34,
                    35,
                    36,
                    37,
                    38,
                    39,
                    40,
                    41,
                    42,
                    43,
                    44,
                    45,
                    46,
                    47,
                    48,
                    49,
                    50,
                    51,
                    52,
                    53,
                    54,
                    55,
                    56,
                    57,
                    58,
                    59,
                    60,
                    61,
                    62,
                    63,
                    64,
                    65,
                    66,
                    67,
                    68,
                    69,
                    70,
                    71,
                    72,
                    73,
                    74,
                    75,
                    76,
                    77,
                    78,
                    79,
                    80,
                    81,
                    82,
                    83,
                    84,
                    85,
                    86,
                    87,
                    88,
                    89,
                    90,
                    91,
                    92,
                    93,
                    94,
                    95,
                    96,
                    97,
                    98,
                    99,
                    100,
                    101
                  ],
                  "y": [
                    38.396875,
                    20.340281030444963,
                    20.340281030444963,
                    17.259999999999998,
                    38.396875,
                    20.340281030444963,
                    20.340281030444963,
                    20.340281030444963,
                    20.340281030444963,
                    20.340281030444963,
                    38.396875,
                    20.340281030444963,
                    20.340281030444963,
                    38.396875,
                    20.340281030444963,
                    20.340281030444963,
                    17.259999999999998,
                    20.340281030444963,
                    20.340281030444963,
                    20.340281030444963,
                    20.340281030444963,
                    20.340281030444963,
                    38.396875,
                    20.340281030444963,
                    38.396875,
                    20.340281030444963,
                    20.340281030444963,
                    20.340281030444963,
                    20.340281030444963,
                    20.340281030444963,
                    20.340281030444963,
                    20.340281030444963,
                    20.340281030444963,
                    38.396875,
                    20.340281030444963,
                    20.340281030444963,
                    20.340281030444963,
                    20.340281030444963,
                    38.396875,
                    38.396875,
                    20.340281030444963,
                    20.340281030444963,
                    20.340281030444963,
                    20.340281030444963,
                    20.340281030444963,
                    20.340281030444963,
                    17.259999999999998,
                    20.340281030444963,
                    20.340281030444963,
                    20.340281030444963,
                    20.340281030444963,
                    20.340281030444963,
                    20.340281030444963,
                    20.340281030444963,
                    20.340281030444963,
                    20.340281030444963,
                    38.396875,
                    20.340281030444963,
                    20.340281030444963,
                    20.340281030444963,
                    20.340281030444963,
                    20.340281030444963,
                    20.340281030444963,
                    20.340281030444963,
                    20.340281030444963,
                    20.340281030444963,
                    20.340281030444963,
                    20.340281030444963,
                    20.340281030444963,
                    20.340281030444963,
                    20.340281030444963,
                    20.340281030444963,
                    20.340281030444963,
                    20.340281030444963,
                    20.340281030444963,
                    20.340281030444963,
                    20.340281030444963,
                    20.340281030444963,
                    38.396875,
                    20.340281030444963,
                    20.340281030444963,
                    38.396875,
                    20.340281030444963,
                    20.340281030444963,
                    20.340281030444963,
                    20.340281030444963,
                    20.340281030444963,
                    20.340281030444963,
                    20.340281030444963,
                    20.340281030444963,
                    38.396875,
                    20.340281030444963,
                    20.340281030444963,
                    20.340281030444963,
                    20.340281030444963,
                    20.340281030444963,
                    20.340281030444963,
                    20.340281030444963,
                    20.340281030444963,
                    20.340281030444963,
                    20.340281030444963,
                    20.340281030444963
                  ]
                },
                {
                  "line": {
                    "color": "#B2FF66"
                  },
                  "mode": "lines",
                  "name": "Valor Predito Árvore",
                  "type": "scatter",
                  "x": [
                    0,
                    1,
                    2,
                    3,
                    4,
                    5,
                    6,
                    7,
                    8,
                    9,
                    10,
                    11,
                    12,
                    13,
                    14,
                    15,
                    16,
                    17,
                    18,
                    19,
                    20,
                    21,
                    22,
                    23,
                    24,
                    25,
                    26,
                    27,
                    28,
                    29,
                    30,
                    31,
                    32,
                    33,
                    34,
                    35,
                    36,
                    37,
                    38,
                    39,
                    40,
                    41,
                    42,
                    43,
                    44,
                    45,
                    46,
                    47,
                    48,
                    49,
                    50,
                    51,
                    52,
                    53,
                    54,
                    55,
                    56,
                    57,
                    58,
                    59,
                    60,
                    61,
                    62,
                    63,
                    64,
                    65,
                    66,
                    67,
                    68,
                    69,
                    70,
                    71,
                    72,
                    73,
                    74,
                    75,
                    76,
                    77,
                    78,
                    79,
                    80,
                    81,
                    82,
                    83,
                    84,
                    85,
                    86,
                    87,
                    88,
                    89,
                    90,
                    91,
                    92,
                    93,
                    94,
                    95,
                    96,
                    97,
                    98,
                    99,
                    100,
                    101
                  ],
                  "y": [
                    46.7,
                    28.5,
                    22.9,
                    13.8,
                    33.2,
                    8.8,
                    26.6,
                    24.3,
                    18.5,
                    16.8,
                    33.4,
                    18.7,
                    16.2,
                    33.4,
                    26.2,
                    17.5,
                    17.2,
                    15.3,
                    20,
                    10.9,
                    13.6,
                    19.2,
                    38.7,
                    21,
                    32.7,
                    8.4,
                    23.8,
                    18.5,
                    26.6,
                    22.5,
                    27.1,
                    13.6,
                    10.2,
                    14.9,
                    23.3,
                    19.2,
                    25,
                    8.8,
                    50,
                    44,
                    20,
                    17.8,
                    20.4,
                    16.4,
                    24.6,
                    21.9,
                    8.8,
                    18.8,
                    15.3,
                    18.4,
                    20.1,
                    18.7,
                    23.9,
                    15.2,
                    16.6,
                    25,
                    45.4,
                    16.4,
                    25.2,
                    17.1,
                    18.3,
                    19.3,
                    15.2,
                    27,
                    20.2,
                    9.6,
                    21,
                    26.2,
                    18.9,
                    22.6,
                    19.1,
                    25,
                    19.8,
                    9.6,
                    21.4,
                    31.6,
                    23.8,
                    11.8,
                    21.4,
                    14.9,
                    21.7,
                    50,
                    20,
                    16.1,
                    19.3,
                    14.9,
                    23.1,
                    10.5,
                    19.5,
                    22.9,
                    39.8,
                    21,
                    21.4,
                    14.3,
                    32,
                    32.4,
                    14.8,
                    24.5,
                    19.8,
                    16.6,
                    20.2,
                    25
                  ]
                },
                {
                  "line": {
                    "color": "#17BECF"
                  },
                  "mode": "lines",
                  "name": "Valor Predito Regressão Linear",
                  "type": "scatter",
                  "x": [
                    0,
                    1,
                    2,
                    3,
                    4,
                    5,
                    6,
                    7,
                    8,
                    9,
                    10,
                    11,
                    12,
                    13,
                    14,
                    15,
                    16,
                    17,
                    18,
                    19,
                    20,
                    21,
                    22,
                    23,
                    24,
                    25,
                    26,
                    27,
                    28,
                    29,
                    30,
                    31,
                    32,
                    33,
                    34,
                    35,
                    36,
                    37,
                    38,
                    39,
                    40,
                    41,
                    42,
                    43,
                    44,
                    45,
                    46,
                    47,
                    48,
                    49,
                    50,
                    51,
                    52,
                    53,
                    54,
                    55,
                    56,
                    57,
                    58,
                    59,
                    60,
                    61,
                    62,
                    63,
                    64,
                    65,
                    66,
                    67,
                    68,
                    69,
                    70,
                    71,
                    72,
                    73,
                    74,
                    75,
                    76,
                    77,
                    78,
                    79,
                    80,
                    81,
                    82,
                    83,
                    84,
                    85,
                    86,
                    87,
                    88,
                    89,
                    90,
                    91,
                    92,
                    93,
                    94,
                    95,
                    96,
                    97,
                    98,
                    99,
                    100,
                    101
                  ],
                  "y": [
                    36.006464154808796,
                    27.77712788242473,
                    26.231908550028496,
                    1.1895521141421028,
                    33.43666667167565,
                    6.597714685212896,
                    25.734054071937788,
                    30.465789126518636,
                    25.542829655806035,
                    20.63964618959716,
                    30.61387462191609,
                    20.732475219759433,
                    22.325939628407916,
                    29.71573874569045,
                    26.338923647963718,
                    19.725906852471255,
                    -1.9947308129803574,
                    23.282852046745624,
                    14.13715280676992,
                    15.710771450760568,
                    7.413619635769685,
                    22.04552159700456,
                    35.312796200396974,
                    24.847795360776832,
                    31.92742252492682,
                    9.939402553004708,
                    26.039271106149638,
                    24.264048481752145,
                    26.180791885957373,
                    27.751976518410075,
                    11.56607363728866,
                    11.45624117182744,
                    16.237734004219764,
                    21.559895365889535,
                    27.850462508557985,
                    21.358369687056726,
                    29.710005362721404,
                    7.412460606919325,
                    38.099866999765254,
                    33.14691191877034,
                    19.980591521776393,
                    3.7286461288254067,
                    27.50332055946356,
                    11.42322265926455,
                    29.086090272948336,
                    30.72473483163674,
                    -4.120027712681221,
                    16.64030610486043,
                    25.791361050218857,
                    13.350076104752127,
                    19.988282236944155,
                    22.075943065847717,
                    25.48701836518111,
                    14.455711774876486,
                    20.89408362138723,
                    28.673612336307006,
                    32.33750260765084,
                    15.151580518860412,
                    29.86790343081971,
                    21.316267577628008,
                    21.489701193812337,
                    26.480067236993612,
                    15.256339346396135,
                    32.031026525415044,
                    26.144942806266375,
                    13.561531847649611,
                    20.734012247259365,
                    27.157218670486692,
                    21.49615566815838,
                    19.706645772296053,
                    17.736686590982966,
                    27.780049342151234,
                    18.521057319818667,
                    14.80208585181159,
                    18.542786222093177,
                    29.722072721863597,
                    22.04004977531083,
                    17.862451867703136,
                    31.77941582466715,
                    19.02279165214236,
                    21.627242471581297,
                    42.248159406926476,
                    21.79624546097144,
                    17.250613959058793,
                    24.043384495671962,
                    16.453008770364853,
                    18.17280314626255,
                    10.056553243559506,
                    20.670339670142557,
                    23.605603848763483,
                    31.921146930793913,
                    17.28822487466973,
                    21.031949502790688,
                    19.131100927161825,
                    27.873940946496628,
                    29.58938733291871,
                    14.03590608666909,
                    26.37310964012326,
                    21.629107157817486,
                    19.154657235121928,
                    23.005546057187175,
                    24.47513858297962
                  ]
                },
                {
                  "line": {
                    "color": "#7F7F7F"
                  },
                  "mode": "lines",
                  "name": "Valor Predito Random Forest",
                  "type": "scatter",
                  "x": [
                    0,
                    1,
                    2,
                    3,
                    4,
                    5,
                    6,
                    7,
                    8,
                    9,
                    10,
                    11,
                    12,
                    13,
                    14,
                    15,
                    16,
                    17,
                    18,
                    19,
                    20,
                    21,
                    22,
                    23,
                    24,
                    25,
                    26,
                    27,
                    28,
                    29,
                    30,
                    31,
                    32,
                    33,
                    34,
                    35,
                    36,
                    37,
                    38,
                    39,
                    40,
                    41,
                    42,
                    43,
                    44,
                    45,
                    46,
                    47,
                    48,
                    49,
                    50,
                    51,
                    52,
                    53,
                    54,
                    55,
                    56,
                    57,
                    58,
                    59,
                    60,
                    61,
                    62,
                    63,
                    64,
                    65,
                    66,
                    67,
                    68,
                    69,
                    70,
                    71,
                    72,
                    73,
                    74,
                    75,
                    76,
                    77,
                    78,
                    79,
                    80,
                    81,
                    82,
                    83,
                    84,
                    85,
                    86,
                    87,
                    88,
                    89,
                    90,
                    91,
                    92,
                    93,
                    94,
                    95,
                    96,
                    97,
                    98,
                    99,
                    100,
                    101
                  ],
                  "y": [
                    44.717,
                    28.378999999999998,
                    22.283,
                    11.96099999999999,
                    33.912000000000006,
                    7.920000000000001,
                    22.56,
                    24.129999999999992,
                    20.34200000000001,
                    19.952999999999996,
                    33.582000000000015,
                    19.675000000000022,
                    21.15500000000001,
                    32.657,
                    24.043999999999997,
                    19.002999999999993,
                    13.792,
                    17.79799999999998,
                    18.006999999999994,
                    26.374000000000006,
                    15.184999999999995,
                    20.40300000000001,
                    42.727,
                    20.28500000000001,
                    32.367,
                    10.970999999999997,
                    23.887000000000004,
                    19.908,
                    23.677999999999983,
                    27.886999999999993,
                    17.501,
                    15.13,
                    12.021000000000004,
                    17.35899999999999,
                    23.055,
                    19.26200000000001,
                    25.927999999999994,
                    9.351999999999999,
                    45.12999999999999,
                    40.78600000000003,
                    16.504000000000005,
                    14.330999999999987,
                    24.487,
                    17.129000000000005,
                    24.766,
                    24.019000000000002,
                    8.297999999999998,
                    18.839999999999986,
                    18.50299999999999,
                    15.260999999999989,
                    19.841999999999985,
                    19.672000000000008,
                    23.696999999999992,
                    14.144999999999998,
                    16.407999999999987,
                    25.379999999999995,
                    42.02500000000003,
                    16.070000000000007,
                    25.109999999999992,
                    19.52399999999999,
                    20.258,
                    23.698999999999984,
                    17.509000000000007,
                    33.692000000000014,
                    22.638,
                    9.548000000000004,
                    19.328000000000014,
                    24.78099999999999,
                    22.85699999999999,
                    23.59699999999999,
                    17.860000000000007,
                    24.678000000000008,
                    18.90299999999999,
                    14.428999999999998,
                    23.324999999999985,
                    30.82599999999999,
                    20.180999999999983,
                    14.654999999999987,
                    30.859000000000005,
                    16.049999999999997,
                    21.373999999999995,
                    49.111999999999995,
                    17.363999999999987,
                    14.472000000000005,
                    20.696000000000005,
                    15.031999999999998,
                    20.802999999999994,
                    9.019999999999998,
                    20.885,
                    25.260000000000005,
                    35.012,
                    18.947,
                    23.819000000000006,
                    15.424999999999994,
                    28.637000000000008,
                    30.22599999999999,
                    15.217999999999995,
                    23.187,
                    20.873000000000005,
                    15.729999999999988,
                    21.638000000000012,
                    24.531999999999996
                  ]
                }
              ],
              "layout": {
                "template": {
                  "data": {
                    "bar": [
                      {
                        "error_x": {
                          "color": "#2a3f5f"
                        },
                        "error_y": {
                          "color": "#2a3f5f"
                        },
                        "marker": {
                          "line": {
                            "color": "#E5ECF6",
                            "width": 0.5
                          },
                          "pattern": {
                            "fillmode": "overlay",
                            "size": 10,
                            "solidity": 0.2
                          }
                        },
                        "type": "bar"
                      }
                    ],
                    "barpolar": [
                      {
                        "marker": {
                          "line": {
                            "color": "#E5ECF6",
                            "width": 0.5
                          },
                          "pattern": {
                            "fillmode": "overlay",
                            "size": 10,
                            "solidity": 0.2
                          }
                        },
                        "type": "barpolar"
                      }
                    ],
                    "carpet": [
                      {
                        "aaxis": {
                          "endlinecolor": "#2a3f5f",
                          "gridcolor": "white",
                          "linecolor": "white",
                          "minorgridcolor": "white",
                          "startlinecolor": "#2a3f5f"
                        },
                        "baxis": {
                          "endlinecolor": "#2a3f5f",
                          "gridcolor": "white",
                          "linecolor": "white",
                          "minorgridcolor": "white",
                          "startlinecolor": "#2a3f5f"
                        },
                        "type": "carpet"
                      }
                    ],
                    "choropleth": [
                      {
                        "colorbar": {
                          "outlinewidth": 0,
                          "ticks": ""
                        },
                        "type": "choropleth"
                      }
                    ],
                    "contour": [
                      {
                        "colorbar": {
                          "outlinewidth": 0,
                          "ticks": ""
                        },
                        "colorscale": [
                          [
                            0,
                            "#0d0887"
                          ],
                          [
                            0.1111111111111111,
                            "#46039f"
                          ],
                          [
                            0.2222222222222222,
                            "#7201a8"
                          ],
                          [
                            0.3333333333333333,
                            "#9c179e"
                          ],
                          [
                            0.4444444444444444,
                            "#bd3786"
                          ],
                          [
                            0.5555555555555556,
                            "#d8576b"
                          ],
                          [
                            0.6666666666666666,
                            "#ed7953"
                          ],
                          [
                            0.7777777777777778,
                            "#fb9f3a"
                          ],
                          [
                            0.8888888888888888,
                            "#fdca26"
                          ],
                          [
                            1,
                            "#f0f921"
                          ]
                        ],
                        "type": "contour"
                      }
                    ],
                    "contourcarpet": [
                      {
                        "colorbar": {
                          "outlinewidth": 0,
                          "ticks": ""
                        },
                        "type": "contourcarpet"
                      }
                    ],
                    "heatmap": [
                      {
                        "colorbar": {
                          "outlinewidth": 0,
                          "ticks": ""
                        },
                        "colorscale": [
                          [
                            0,
                            "#0d0887"
                          ],
                          [
                            0.1111111111111111,
                            "#46039f"
                          ],
                          [
                            0.2222222222222222,
                            "#7201a8"
                          ],
                          [
                            0.3333333333333333,
                            "#9c179e"
                          ],
                          [
                            0.4444444444444444,
                            "#bd3786"
                          ],
                          [
                            0.5555555555555556,
                            "#d8576b"
                          ],
                          [
                            0.6666666666666666,
                            "#ed7953"
                          ],
                          [
                            0.7777777777777778,
                            "#fb9f3a"
                          ],
                          [
                            0.8888888888888888,
                            "#fdca26"
                          ],
                          [
                            1,
                            "#f0f921"
                          ]
                        ],
                        "type": "heatmap"
                      }
                    ],
                    "heatmapgl": [
                      {
                        "colorbar": {
                          "outlinewidth": 0,
                          "ticks": ""
                        },
                        "colorscale": [
                          [
                            0,
                            "#0d0887"
                          ],
                          [
                            0.1111111111111111,
                            "#46039f"
                          ],
                          [
                            0.2222222222222222,
                            "#7201a8"
                          ],
                          [
                            0.3333333333333333,
                            "#9c179e"
                          ],
                          [
                            0.4444444444444444,
                            "#bd3786"
                          ],
                          [
                            0.5555555555555556,
                            "#d8576b"
                          ],
                          [
                            0.6666666666666666,
                            "#ed7953"
                          ],
                          [
                            0.7777777777777778,
                            "#fb9f3a"
                          ],
                          [
                            0.8888888888888888,
                            "#fdca26"
                          ],
                          [
                            1,
                            "#f0f921"
                          ]
                        ],
                        "type": "heatmapgl"
                      }
                    ],
                    "histogram": [
                      {
                        "marker": {
                          "pattern": {
                            "fillmode": "overlay",
                            "size": 10,
                            "solidity": 0.2
                          }
                        },
                        "type": "histogram"
                      }
                    ],
                    "histogram2d": [
                      {
                        "colorbar": {
                          "outlinewidth": 0,
                          "ticks": ""
                        },
                        "colorscale": [
                          [
                            0,
                            "#0d0887"
                          ],
                          [
                            0.1111111111111111,
                            "#46039f"
                          ],
                          [
                            0.2222222222222222,
                            "#7201a8"
                          ],
                          [
                            0.3333333333333333,
                            "#9c179e"
                          ],
                          [
                            0.4444444444444444,
                            "#bd3786"
                          ],
                          [
                            0.5555555555555556,
                            "#d8576b"
                          ],
                          [
                            0.6666666666666666,
                            "#ed7953"
                          ],
                          [
                            0.7777777777777778,
                            "#fb9f3a"
                          ],
                          [
                            0.8888888888888888,
                            "#fdca26"
                          ],
                          [
                            1,
                            "#f0f921"
                          ]
                        ],
                        "type": "histogram2d"
                      }
                    ],
                    "histogram2dcontour": [
                      {
                        "colorbar": {
                          "outlinewidth": 0,
                          "ticks": ""
                        },
                        "colorscale": [
                          [
                            0,
                            "#0d0887"
                          ],
                          [
                            0.1111111111111111,
                            "#46039f"
                          ],
                          [
                            0.2222222222222222,
                            "#7201a8"
                          ],
                          [
                            0.3333333333333333,
                            "#9c179e"
                          ],
                          [
                            0.4444444444444444,
                            "#bd3786"
                          ],
                          [
                            0.5555555555555556,
                            "#d8576b"
                          ],
                          [
                            0.6666666666666666,
                            "#ed7953"
                          ],
                          [
                            0.7777777777777778,
                            "#fb9f3a"
                          ],
                          [
                            0.8888888888888888,
                            "#fdca26"
                          ],
                          [
                            1,
                            "#f0f921"
                          ]
                        ],
                        "type": "histogram2dcontour"
                      }
                    ],
                    "mesh3d": [
                      {
                        "colorbar": {
                          "outlinewidth": 0,
                          "ticks": ""
                        },
                        "type": "mesh3d"
                      }
                    ],
                    "parcoords": [
                      {
                        "line": {
                          "colorbar": {
                            "outlinewidth": 0,
                            "ticks": ""
                          }
                        },
                        "type": "parcoords"
                      }
                    ],
                    "pie": [
                      {
                        "automargin": true,
                        "type": "pie"
                      }
                    ],
                    "scatter": [
                      {
                        "fillpattern": {
                          "fillmode": "overlay",
                          "size": 10,
                          "solidity": 0.2
                        },
                        "type": "scatter"
                      }
                    ],
                    "scatter3d": [
                      {
                        "line": {
                          "colorbar": {
                            "outlinewidth": 0,
                            "ticks": ""
                          }
                        },
                        "marker": {
                          "colorbar": {
                            "outlinewidth": 0,
                            "ticks": ""
                          }
                        },
                        "type": "scatter3d"
                      }
                    ],
                    "scattercarpet": [
                      {
                        "marker": {
                          "colorbar": {
                            "outlinewidth": 0,
                            "ticks": ""
                          }
                        },
                        "type": "scattercarpet"
                      }
                    ],
                    "scattergeo": [
                      {
                        "marker": {
                          "colorbar": {
                            "outlinewidth": 0,
                            "ticks": ""
                          }
                        },
                        "type": "scattergeo"
                      }
                    ],
                    "scattergl": [
                      {
                        "marker": {
                          "colorbar": {
                            "outlinewidth": 0,
                            "ticks": ""
                          }
                        },
                        "type": "scattergl"
                      }
                    ],
                    "scattermapbox": [
                      {
                        "marker": {
                          "colorbar": {
                            "outlinewidth": 0,
                            "ticks": ""
                          }
                        },
                        "type": "scattermapbox"
                      }
                    ],
                    "scatterpolar": [
                      {
                        "marker": {
                          "colorbar": {
                            "outlinewidth": 0,
                            "ticks": ""
                          }
                        },
                        "type": "scatterpolar"
                      }
                    ],
                    "scatterpolargl": [
                      {
                        "marker": {
                          "colorbar": {
                            "outlinewidth": 0,
                            "ticks": ""
                          }
                        },
                        "type": "scatterpolargl"
                      }
                    ],
                    "scatterternary": [
                      {
                        "marker": {
                          "colorbar": {
                            "outlinewidth": 0,
                            "ticks": ""
                          }
                        },
                        "type": "scatterternary"
                      }
                    ],
                    "surface": [
                      {
                        "colorbar": {
                          "outlinewidth": 0,
                          "ticks": ""
                        },
                        "colorscale": [
                          [
                            0,
                            "#0d0887"
                          ],
                          [
                            0.1111111111111111,
                            "#46039f"
                          ],
                          [
                            0.2222222222222222,
                            "#7201a8"
                          ],
                          [
                            0.3333333333333333,
                            "#9c179e"
                          ],
                          [
                            0.4444444444444444,
                            "#bd3786"
                          ],
                          [
                            0.5555555555555556,
                            "#d8576b"
                          ],
                          [
                            0.6666666666666666,
                            "#ed7953"
                          ],
                          [
                            0.7777777777777778,
                            "#fb9f3a"
                          ],
                          [
                            0.8888888888888888,
                            "#fdca26"
                          ],
                          [
                            1,
                            "#f0f921"
                          ]
                        ],
                        "type": "surface"
                      }
                    ],
                    "table": [
                      {
                        "cells": {
                          "fill": {
                            "color": "#EBF0F8"
                          },
                          "line": {
                            "color": "white"
                          }
                        },
                        "header": {
                          "fill": {
                            "color": "#C8D4E3"
                          },
                          "line": {
                            "color": "white"
                          }
                        },
                        "type": "table"
                      }
                    ]
                  },
                  "layout": {
                    "annotationdefaults": {
                      "arrowcolor": "#2a3f5f",
                      "arrowhead": 0,
                      "arrowwidth": 1
                    },
                    "autotypenumbers": "strict",
                    "coloraxis": {
                      "colorbar": {
                        "outlinewidth": 0,
                        "ticks": ""
                      }
                    },
                    "colorscale": {
                      "diverging": [
                        [
                          0,
                          "#8e0152"
                        ],
                        [
                          0.1,
                          "#c51b7d"
                        ],
                        [
                          0.2,
                          "#de77ae"
                        ],
                        [
                          0.3,
                          "#f1b6da"
                        ],
                        [
                          0.4,
                          "#fde0ef"
                        ],
                        [
                          0.5,
                          "#f7f7f7"
                        ],
                        [
                          0.6,
                          "#e6f5d0"
                        ],
                        [
                          0.7,
                          "#b8e186"
                        ],
                        [
                          0.8,
                          "#7fbc41"
                        ],
                        [
                          0.9,
                          "#4d9221"
                        ],
                        [
                          1,
                          "#276419"
                        ]
                      ],
                      "sequential": [
                        [
                          0,
                          "#0d0887"
                        ],
                        [
                          0.1111111111111111,
                          "#46039f"
                        ],
                        [
                          0.2222222222222222,
                          "#7201a8"
                        ],
                        [
                          0.3333333333333333,
                          "#9c179e"
                        ],
                        [
                          0.4444444444444444,
                          "#bd3786"
                        ],
                        [
                          0.5555555555555556,
                          "#d8576b"
                        ],
                        [
                          0.6666666666666666,
                          "#ed7953"
                        ],
                        [
                          0.7777777777777778,
                          "#fb9f3a"
                        ],
                        [
                          0.8888888888888888,
                          "#fdca26"
                        ],
                        [
                          1,
                          "#f0f921"
                        ]
                      ],
                      "sequentialminus": [
                        [
                          0,
                          "#0d0887"
                        ],
                        [
                          0.1111111111111111,
                          "#46039f"
                        ],
                        [
                          0.2222222222222222,
                          "#7201a8"
                        ],
                        [
                          0.3333333333333333,
                          "#9c179e"
                        ],
                        [
                          0.4444444444444444,
                          "#bd3786"
                        ],
                        [
                          0.5555555555555556,
                          "#d8576b"
                        ],
                        [
                          0.6666666666666666,
                          "#ed7953"
                        ],
                        [
                          0.7777777777777778,
                          "#fb9f3a"
                        ],
                        [
                          0.8888888888888888,
                          "#fdca26"
                        ],
                        [
                          1,
                          "#f0f921"
                        ]
                      ]
                    },
                    "colorway": [
                      "#636efa",
                      "#EF553B",
                      "#00cc96",
                      "#ab63fa",
                      "#FFA15A",
                      "#19d3f3",
                      "#FF6692",
                      "#B6E880",
                      "#FF97FF",
                      "#FECB52"
                    ],
                    "font": {
                      "color": "#2a3f5f"
                    },
                    "geo": {
                      "bgcolor": "white",
                      "lakecolor": "white",
                      "landcolor": "#E5ECF6",
                      "showlakes": true,
                      "showland": true,
                      "subunitcolor": "white"
                    },
                    "hoverlabel": {
                      "align": "left"
                    },
                    "hovermode": "closest",
                    "mapbox": {
                      "style": "light"
                    },
                    "paper_bgcolor": "white",
                    "plot_bgcolor": "#E5ECF6",
                    "polar": {
                      "angularaxis": {
                        "gridcolor": "white",
                        "linecolor": "white",
                        "ticks": ""
                      },
                      "bgcolor": "#E5ECF6",
                      "radialaxis": {
                        "gridcolor": "white",
                        "linecolor": "white",
                        "ticks": ""
                      }
                    },
                    "scene": {
                      "xaxis": {
                        "backgroundcolor": "#E5ECF6",
                        "gridcolor": "white",
                        "gridwidth": 2,
                        "linecolor": "white",
                        "showbackground": true,
                        "ticks": "",
                        "zerolinecolor": "white"
                      },
                      "yaxis": {
                        "backgroundcolor": "#E5ECF6",
                        "gridcolor": "white",
                        "gridwidth": 2,
                        "linecolor": "white",
                        "showbackground": true,
                        "ticks": "",
                        "zerolinecolor": "white"
                      },
                      "zaxis": {
                        "backgroundcolor": "#E5ECF6",
                        "gridcolor": "white",
                        "gridwidth": 2,
                        "linecolor": "white",
                        "showbackground": true,
                        "ticks": "",
                        "zerolinecolor": "white"
                      }
                    },
                    "shapedefaults": {
                      "line": {
                        "color": "#2a3f5f"
                      }
                    },
                    "ternary": {
                      "aaxis": {
                        "gridcolor": "white",
                        "linecolor": "white",
                        "ticks": ""
                      },
                      "baxis": {
                        "gridcolor": "white",
                        "linecolor": "white",
                        "ticks": ""
                      },
                      "bgcolor": "#E5ECF6",
                      "caxis": {
                        "gridcolor": "white",
                        "linecolor": "white",
                        "ticks": ""
                      }
                    },
                    "title": {
                      "x": 0.05
                    },
                    "xaxis": {
                      "automargin": true,
                      "gridcolor": "white",
                      "linecolor": "white",
                      "ticks": "",
                      "title": {
                        "standoff": 15
                      },
                      "zerolinecolor": "white",
                      "zerolinewidth": 2
                    },
                    "yaxis": {
                      "automargin": true,
                      "gridcolor": "white",
                      "linecolor": "white",
                      "ticks": "",
                      "title": {
                        "standoff": 15
                      },
                      "zerolinecolor": "white",
                      "zerolinewidth": 2
                    }
                  }
                }
              }
            }
          },
          "metadata": {},
          "output_type": "display_data"
        }
      ],
      "source": [
        "#O modelo melhorou ainda mais com base no RMSE, vamos ver no gráfico agora;\n",
        "# Plotando os resultados dos modelos e o valor real.\n",
        "import plotly.graph_objects as go\n",
        "\n",
        "# Create traces\n",
        "fig = go.Figure()\n",
        "\n",
        "# Linha com os dados de teste\n",
        "fig.add_trace(go.Scatter(x=df_results.index,\n",
        "                         y=df_results.valor_real,\n",
        "                         mode='markers',\n",
        "                         name='Valor Real'))\n",
        "\n",
        "# Linha com os dados da baseline\n",
        "fig.add_trace(go.Scatter(x=df_results.index,\n",
        "                         y=df_results.valor_predito_baseline,\n",
        "                         mode='lines+markers',\n",
        "                         line = dict(color = '#FF00FF'),\n",
        "                         name='Valor da Baseline'))\n",
        "\n",
        "# Linha com os dados preditos pela arvore\n",
        "fig.add_trace(go.Scatter(x=df_results.index,\n",
        "                         y=df_results.valor_predito_arvore,\n",
        "                         mode='lines',\n",
        "                         line = dict(color = '#B2FF66'),\n",
        "                         name='Valor Predito Árvore'))\n",
        "\n",
        "# Linha com os dados preditos pela regressão linear\n",
        "fig.add_trace(go.Scatter(x=df_results.index,\n",
        "                         y=df_results.valor_predito_reg_linear,\n",
        "                         mode='lines',\n",
        "                         line = dict(color = '#17BECF'),\n",
        "                         name='Valor Predito Regressão Linear'))\n",
        "\n",
        "\n",
        "# Linha com os dados preditos pela Random Forest\n",
        "fig.add_trace(go.Scatter(x=df_results.index,\n",
        "                         y=df_results.valor_predito_random_forest,\n",
        "                         mode='lines',\n",
        "                         line = dict(color = '#7F7F7F'),\n",
        "                         name='Valor Predito Random Forest'))\n",
        "\n",
        "# Plota a figura\n",
        "fig.show()"
      ]
    },
    {
      "cell_type": "code",
      "execution_count": 233,
      "metadata": {
        "colab": {
          "base_uri": "https://localhost:8080/",
          "height": 363
        },
        "id": "YOf_YH873wxC",
        "outputId": "b7129198-58e2-4735-aad1-7c2110bc6f16"
      },
      "outputs": [
        {
          "data": {
            "text/html": [
              "<div>\n",
              "<style scoped>\n",
              "    .dataframe tbody tr th:only-of-type {\n",
              "        vertical-align: middle;\n",
              "    }\n",
              "\n",
              "    .dataframe tbody tr th {\n",
              "        vertical-align: top;\n",
              "    }\n",
              "\n",
              "    .dataframe thead th {\n",
              "        text-align: right;\n",
              "    }\n",
              "</style>\n",
              "<table border=\"1\" class=\"dataframe\">\n",
              "  <thead>\n",
              "    <tr style=\"text-align: right;\">\n",
              "      <th></th>\n",
              "      <th>valor_real</th>\n",
              "      <th>valor_predito_baseline</th>\n",
              "      <th>valor_predito_reg_linear</th>\n",
              "      <th>valor_predito_arvore</th>\n",
              "      <th>valor_predito_random_forest</th>\n",
              "    </tr>\n",
              "  </thead>\n",
              "  <tbody>\n",
              "    <tr>\n",
              "      <th>0</th>\n",
              "      <td>37.6</td>\n",
              "      <td>38.396875</td>\n",
              "      <td>36.006464</td>\n",
              "      <td>46.7</td>\n",
              "      <td>44.717</td>\n",
              "    </tr>\n",
              "    <tr>\n",
              "      <th>1</th>\n",
              "      <td>27.9</td>\n",
              "      <td>20.340281</td>\n",
              "      <td>27.777128</td>\n",
              "      <td>28.5</td>\n",
              "      <td>28.379</td>\n",
              "    </tr>\n",
              "    <tr>\n",
              "      <th>2</th>\n",
              "      <td>22.6</td>\n",
              "      <td>20.340281</td>\n",
              "      <td>26.231909</td>\n",
              "      <td>22.9</td>\n",
              "      <td>22.283</td>\n",
              "    </tr>\n",
              "    <tr>\n",
              "      <th>3</th>\n",
              "      <td>13.8</td>\n",
              "      <td>17.260000</td>\n",
              "      <td>1.189552</td>\n",
              "      <td>13.8</td>\n",
              "      <td>11.961</td>\n",
              "    </tr>\n",
              "    <tr>\n",
              "      <th>4</th>\n",
              "      <td>35.2</td>\n",
              "      <td>38.396875</td>\n",
              "      <td>33.436667</td>\n",
              "      <td>33.2</td>\n",
              "      <td>33.912</td>\n",
              "    </tr>\n",
              "    <tr>\n",
              "      <th>5</th>\n",
              "      <td>10.4</td>\n",
              "      <td>20.340281</td>\n",
              "      <td>6.597715</td>\n",
              "      <td>8.8</td>\n",
              "      <td>7.920</td>\n",
              "    </tr>\n",
              "    <tr>\n",
              "      <th>6</th>\n",
              "      <td>23.9</td>\n",
              "      <td>20.340281</td>\n",
              "      <td>25.734054</td>\n",
              "      <td>26.6</td>\n",
              "      <td>22.560</td>\n",
              "    </tr>\n",
              "    <tr>\n",
              "      <th>7</th>\n",
              "      <td>29.0</td>\n",
              "      <td>20.340281</td>\n",
              "      <td>30.465789</td>\n",
              "      <td>24.3</td>\n",
              "      <td>24.130</td>\n",
              "    </tr>\n",
              "    <tr>\n",
              "      <th>8</th>\n",
              "      <td>22.8</td>\n",
              "      <td>20.340281</td>\n",
              "      <td>25.542830</td>\n",
              "      <td>18.5</td>\n",
              "      <td>20.342</td>\n",
              "    </tr>\n",
              "    <tr>\n",
              "      <th>9</th>\n",
              "      <td>23.2</td>\n",
              "      <td>20.340281</td>\n",
              "      <td>20.639646</td>\n",
              "      <td>16.8</td>\n",
              "      <td>19.953</td>\n",
              "    </tr>\n",
              "  </tbody>\n",
              "</table>\n",
              "</div>"
            ],
            "text/plain": [
              "   valor_real  valor_predito_baseline  valor_predito_reg_linear  \\\n",
              "0        37.6               38.396875                 36.006464   \n",
              "1        27.9               20.340281                 27.777128   \n",
              "2        22.6               20.340281                 26.231909   \n",
              "3        13.8               17.260000                  1.189552   \n",
              "4        35.2               38.396875                 33.436667   \n",
              "5        10.4               20.340281                  6.597715   \n",
              "6        23.9               20.340281                 25.734054   \n",
              "7        29.0               20.340281                 30.465789   \n",
              "8        22.8               20.340281                 25.542830   \n",
              "9        23.2               20.340281                 20.639646   \n",
              "\n",
              "   valor_predito_arvore  valor_predito_random_forest  \n",
              "0                  46.7                       44.717  \n",
              "1                  28.5                       28.379  \n",
              "2                  22.9                       22.283  \n",
              "3                  13.8                       11.961  \n",
              "4                  33.2                       33.912  \n",
              "5                   8.8                        7.920  \n",
              "6                  26.6                       22.560  \n",
              "7                  24.3                       24.130  \n",
              "8                  18.5                       20.342  \n",
              "9                  16.8                       19.953  "
            ]
          },
          "execution_count": 233,
          "metadata": {},
          "output_type": "execute_result"
        }
      ],
      "source": [
        "# Visualizando o dataframe df_results\n",
        "df_results.head(10)"
      ]
    },
    {
      "cell_type": "markdown",
      "metadata": {
        "id": "mcYfIOZA36Cj"
      },
      "source": [
        "#Deploy da Aplicação\n"
      ]
    },
    {
      "cell_type": "code",
      "execution_count": 234,
      "metadata": {
        "id": "Hw3y83hn4Agr"
      },
      "outputs": [],
      "source": [
        "#Para o uso de deploy vamos fazer um desenvolvimento e streamlit;"
      ]
    },
    {
      "cell_type": "code",
      "execution_count": 235,
      "metadata": {
        "id": "DGRGOIPd4KEu"
      },
      "outputs": [],
      "source": [
        "X['MEDV'] = y"
      ]
    },
    {
      "cell_type": "code",
      "execution_count": 236,
      "metadata": {
        "colab": {
          "base_uri": "https://localhost:8080/",
          "height": 206
        },
        "id": "j-HKE9sA4Lng",
        "outputId": "ee9a144f-f7ab-4ed9-d55f-2e0efab5a6c1"
      },
      "outputs": [
        {
          "data": {
            "text/html": [
              "<div>\n",
              "<style scoped>\n",
              "    .dataframe tbody tr th:only-of-type {\n",
              "        vertical-align: middle;\n",
              "    }\n",
              "\n",
              "    .dataframe tbody tr th {\n",
              "        vertical-align: top;\n",
              "    }\n",
              "\n",
              "    .dataframe thead th {\n",
              "        text-align: right;\n",
              "    }\n",
              "</style>\n",
              "<table border=\"1\" class=\"dataframe\">\n",
              "  <thead>\n",
              "    <tr style=\"text-align: right;\">\n",
              "      <th></th>\n",
              "      <th>CRIM</th>\n",
              "      <th>INDUS</th>\n",
              "      <th>CHAS</th>\n",
              "      <th>NOX</th>\n",
              "      <th>RM</th>\n",
              "      <th>PTRATIO</th>\n",
              "      <th>B</th>\n",
              "      <th>LSTAT</th>\n",
              "      <th>MEDV</th>\n",
              "    </tr>\n",
              "  </thead>\n",
              "  <tbody>\n",
              "    <tr>\n",
              "      <th>0</th>\n",
              "      <td>0.00632</td>\n",
              "      <td>2.31</td>\n",
              "      <td>0.0</td>\n",
              "      <td>0.538</td>\n",
              "      <td>6</td>\n",
              "      <td>15.3</td>\n",
              "      <td>396.90</td>\n",
              "      <td>4.98</td>\n",
              "      <td>24.0</td>\n",
              "    </tr>\n",
              "    <tr>\n",
              "      <th>1</th>\n",
              "      <td>0.02731</td>\n",
              "      <td>7.07</td>\n",
              "      <td>0.0</td>\n",
              "      <td>0.469</td>\n",
              "      <td>6</td>\n",
              "      <td>17.8</td>\n",
              "      <td>396.90</td>\n",
              "      <td>9.14</td>\n",
              "      <td>21.6</td>\n",
              "    </tr>\n",
              "    <tr>\n",
              "      <th>2</th>\n",
              "      <td>0.02729</td>\n",
              "      <td>7.07</td>\n",
              "      <td>0.0</td>\n",
              "      <td>0.469</td>\n",
              "      <td>7</td>\n",
              "      <td>17.8</td>\n",
              "      <td>392.83</td>\n",
              "      <td>4.03</td>\n",
              "      <td>34.7</td>\n",
              "    </tr>\n",
              "    <tr>\n",
              "      <th>3</th>\n",
              "      <td>0.03237</td>\n",
              "      <td>2.18</td>\n",
              "      <td>0.0</td>\n",
              "      <td>0.458</td>\n",
              "      <td>6</td>\n",
              "      <td>18.7</td>\n",
              "      <td>394.63</td>\n",
              "      <td>2.94</td>\n",
              "      <td>33.4</td>\n",
              "    </tr>\n",
              "    <tr>\n",
              "      <th>4</th>\n",
              "      <td>0.06905</td>\n",
              "      <td>2.18</td>\n",
              "      <td>0.0</td>\n",
              "      <td>0.458</td>\n",
              "      <td>7</td>\n",
              "      <td>18.7</td>\n",
              "      <td>396.90</td>\n",
              "      <td>5.33</td>\n",
              "      <td>36.2</td>\n",
              "    </tr>\n",
              "  </tbody>\n",
              "</table>\n",
              "</div>"
            ],
            "text/plain": [
              "      CRIM  INDUS  CHAS    NOX  RM  PTRATIO       B  LSTAT  MEDV\n",
              "0  0.00632   2.31   0.0  0.538   6     15.3  396.90   4.98  24.0\n",
              "1  0.02731   7.07   0.0  0.469   6     17.8  396.90   9.14  21.6\n",
              "2  0.02729   7.07   0.0  0.469   7     17.8  392.83   4.03  34.7\n",
              "3  0.03237   2.18   0.0  0.458   6     18.7  394.63   2.94  33.4\n",
              "4  0.06905   2.18   0.0  0.458   7     18.7  396.90   5.33  36.2"
            ]
          },
          "execution_count": 236,
          "metadata": {},
          "output_type": "execute_result"
        }
      ],
      "source": [
        "X.head()"
      ]
    },
    {
      "cell_type": "code",
      "execution_count": 237,
      "metadata": {
        "id": "Hl1PAzKG4SLY"
      },
      "outputs": [],
      "source": [
        "#Exportando os dados da tabela x para um csv;\n",
        "X.to_csv('data.csv', index=False)"
      ]
    }
  ],
  "metadata": {
    "colab": {
      "provenance": []
    },
    "kernelspec": {
      "display_name": "Python 3",
      "name": "python3"
    },
    "language_info": {
      "codemirror_mode": {
        "name": "ipython",
        "version": 3
      },
      "file_extension": ".py",
      "mimetype": "text/x-python",
      "name": "python",
      "nbconvert_exporter": "python",
      "pygments_lexer": "ipython3",
      "version": "3.11.4"
    }
  },
  "nbformat": 4,
  "nbformat_minor": 0
}
